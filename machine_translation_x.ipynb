{
 "cells": [
  {
   "cell_type": "markdown",
   "metadata": {
    "collapsed": true
   },
   "source": [
    "# Artificial Intelligence Nanodegree\n",
    "## Machine Translation Project\n",
    "In this notebook, sections that end with **'(IMPLEMENTATION)'** in the header indicate that the following blocks of code will require additional functionality which you must provide. Please be sure to read the instructions carefully!\n",
    "\n",
    "## Introduction\n",
    "In this notebook, you will build a deep neural network that functions as part of an end-to-end machine translation pipeline. Your completed pipeline will accept English text as input and return the French translation.\n",
    "\n",
    "- **Preprocess** - You'll convert text to sequence of integers.\n",
    "- **Models** Create models which accepts a sequence of integers as input and returns a probability distribution over possible translations. After learning about the basic types of neural networks that are often used for machine translation, you will engage in your own investigations, to design your own model!\n",
    "- **Prediction** Run the model on English text.\n",
    "\n",
    "## Dataset\n",
    "We begin by investigating the dataset that will be used to train and evaluate your pipeline.  The most common datasets used for machine translation are from [WMT](http://www.statmt.org/).  However, that will take a long time to train a neural network on.  We'll be using a dataset we created for this project that contains a small vocabulary.  You'll be able to train your model in a reasonable time with this dataset.\n",
    "### Load Data\n",
    "The data is located in `data/small_vocab_en` and `data/small_vocab_fr`. The `small_vocab_en` file contains English sentences with their French translations in the `small_vocab_fr` file. Load the English and French data from these files from running the cell below."
   ]
  },
  {
   "cell_type": "code",
   "execution_count": 1,
   "metadata": {},
   "outputs": [
    {
     "name": "stdout",
     "output_type": "stream",
     "text": [
      "Dataset Loaded\n"
     ]
    }
   ],
   "source": [
    "import helper\n",
    "\n",
    "\n",
    "\n",
    "# Load English data\n",
    "english_sentences = helper.load_data('data/small_vocab_en')\n",
    "# Load French data\n",
    "french_sentences = helper.load_data('data/small_vocab_fr')\n",
    "\n",
    "#print(french_sentences[0:5])\n",
    "print('Dataset Loaded')"
   ]
  },
  {
   "cell_type": "markdown",
   "metadata": {},
   "source": [
    "### Files\n",
    "Each line in `small_vocab_en` contains an English sentence with the respective translation in each line of `small_vocab_fr`.  View the first two lines from each file."
   ]
  },
  {
   "cell_type": "code",
   "execution_count": 2,
   "metadata": {},
   "outputs": [
    {
     "name": "stdout",
     "output_type": "stream",
     "text": [
      "small_vocab_en Line 1:  new jersey is sometimes quiet during autumn , and it is snowy in april .\n",
      "small_vocab_fr Line 1:  new jersey est parfois calme pendant l' automne , et il est neigeux en avril .\n",
      "small_vocab_en Line 2:  the united states is usually chilly during july , and it is usually freezing in november .\n",
      "small_vocab_fr Line 2:  les états-unis est généralement froid en juillet , et il gèle habituellement en novembre .\n"
     ]
    }
   ],
   "source": [
    "for sample_i in range(2):\n",
    "    print('small_vocab_en Line {}:  {}'.format(sample_i + 1, english_sentences[sample_i]))\n",
    "    print('small_vocab_fr Line {}:  {}'.format(sample_i + 1, french_sentences[sample_i]))"
   ]
  },
  {
   "cell_type": "markdown",
   "metadata": {},
   "source": [
    "From looking at the sentences, you can see they have been preprocessed already.  The puncuations have been delimited using spaces. All the text have been converted to lowercase.  This should save you some time, but the text requires more preprocessing.\n",
    "### Vocabulary\n",
    "The complexity of the problem is determined by the complexity of the vocabulary.  A more complex vocabulary is a more complex problem.  Let's look at the complexity of the dataset we'll be working with."
   ]
  },
  {
   "cell_type": "code",
   "execution_count": 3,
   "metadata": {},
   "outputs": [
    {
     "name": "stdout",
     "output_type": "stream",
     "text": [
      "1823250 English words.\n",
      "227 unique English words.\n",
      "10 Most common words in the English dataset:\n",
      "\"is\" \",\" \".\" \"in\" \"it\" \"during\" \"the\" \"but\" \"and\" \"sometimes\"\n",
      "\n",
      "1961295 French words.\n",
      "355 unique French words.\n",
      "10 Most common words in the French dataset:\n",
      "\"est\" \".\" \",\" \"en\" \"il\" \"les\" \"mais\" \"et\" \"la\" \"parfois\"\n"
     ]
    }
   ],
   "source": [
    "import collections\n",
    "\n",
    "\n",
    "english_words_counter = collections.Counter([word for sentence in english_sentences for word in sentence.split()])\n",
    "french_words_counter = collections.Counter([word for sentence in french_sentences for word in sentence.split()])\n",
    "\n",
    "print('{} English words.'.format(len([word for sentence in english_sentences for word in sentence.split()])))\n",
    "print('{} unique English words.'.format(len(english_words_counter)))\n",
    "print('10 Most common words in the English dataset:')\n",
    "print('\"' + '\" \"'.join(list(zip(*english_words_counter.most_common(10)))[0]) + '\"')\n",
    "print()\n",
    "print('{} French words.'.format(len([word for sentence in french_sentences for word in sentence.split()])))\n",
    "print('{} unique French words.'.format(len(french_words_counter)))\n",
    "print('10 Most common words in the French dataset:')\n",
    "print('\"' + '\" \"'.join(list(zip(*french_words_counter.most_common(10)))[0]) + '\"')"
   ]
  },
  {
   "cell_type": "markdown",
   "metadata": {},
   "source": [
    "For comparison, _Alice's Adventures in Wonderland_ contains 2,766 unique words of a total of 15,500 words.\n",
    "## Preprocess\n",
    "For this project, you won't use text data as input to your model. Instead, you'll convert the text into sequences of integers using the following preprocess methods:\n",
    "1. Tokenize the words into ids\n",
    "2. Add padding to make all the sequences the same length.\n",
    "\n",
    "Time to start preprocessing the data...\n",
    "### Tokenize (IMPLEMENTATION)\n",
    "For a neural network to predict on text data, it first has to be turned into data it can understand. Text data like \"dog\" is a sequence of ASCII character encodings.  Since a neural network is a series of multiplication and addition operations, the input data needs to be number(s).\n",
    "\n",
    "We can turn each character into a number or each word into a number.  These are called character and word ids, respectively.  Character ids are used for character level models that generate text predictions for each character.  A word level model uses word ids that generate text predictions for each word.  Word level models tend to learn better, since they are lower in complexity, so we'll use those.\n",
    "\n",
    "Turn each sentence into a sequence of words ids using Keras's [`Tokenizer`](https://keras.io/preprocessing/text/#tokenizer) function. Use this function to tokenize `english_sentences` and `french_sentences` in the cell below.\n",
    "\n",
    "Running the cell will run `tokenize` on sample data and show output for debugging."
   ]
  },
  {
   "cell_type": "code",
   "execution_count": 4,
   "metadata": {},
   "outputs": [
    {
     "name": "stderr",
     "output_type": "stream",
     "text": [
      "Using TensorFlow backend.\n"
     ]
    },
    {
     "name": "stdout",
     "output_type": "stream",
     "text": [
      "{'dog': 9, 'my': 12, 'jove': 11, 'study': 13, 'over': 7, 'sentence': 21, 'of': 14, 'by': 10, 'prize': 17, 'lexicography': 15, 'quick': 2, 'lazy': 8, 'short': 20, 'fox': 5, 'is': 19, 'this': 18, 'brown': 4, 'jumps': 6, 'the': 1, 'a': 3, 'won': 16}\n",
      "\n",
      "Sequence 1 in x\n",
      "  Input:  The quick brown fox jumps over the lazy dog .\n",
      "  Output: [1, 2, 4, 5, 6, 7, 1, 8, 9]\n",
      "Sequence 2 in x\n",
      "  Input:  By Jove , my quick study of lexicography won a prize .\n",
      "  Output: [10, 11, 12, 2, 13, 14, 15, 16, 3, 17]\n",
      "Sequence 3 in x\n",
      "  Input:  This is a short sentence .\n",
      "  Output: [18, 19, 3, 20, 21]\n"
     ]
    }
   ],
   "source": [
    "import project_tests as tests\n",
    "from keras.preprocessing.text import Tokenizer\n",
    "\n",
    "\n",
    "def tokenize(x):\n",
    "    \"\"\"\n",
    "    Tokenize x\n",
    "    :param x: List of sentences/strings to be tokenized\n",
    "    :return: Tuple of (tokenized x data, tokenizer used to tokenize x)\n",
    "    \"\"\"\n",
    "    # TODO: Implement\n",
    "    \n",
    "    tokenizer = Tokenizer()\n",
    "    tokenizer.fit_on_texts(x)\n",
    "    #print(tokenizer.word_index)\n",
    "    sequences = tokenizer.texts_to_sequences(x)\n",
    "    \n",
    "    return sequences, tokenizer\n",
    "\n",
    "tests.test_tokenize(tokenize)\n",
    "\n",
    "# Tokenize Example output\n",
    "text_sentences = [\n",
    "    'The quick brown fox jumps over the lazy dog .',\n",
    "    'By Jove , my quick study of lexicography won a prize .',\n",
    "    'This is a short sentence .']\n",
    "text_tokenized, text_tokenizer = tokenize(text_sentences)\n",
    "print(text_tokenizer.word_index)\n",
    "print()\n",
    "for sample_i, (sent, token_sent) in enumerate(zip(text_sentences, text_tokenized)):\n",
    "    print('Sequence {} in x'.format(sample_i + 1))\n",
    "    print('  Input:  {}'.format(sent))\n",
    "    print('  Output: {}'.format(token_sent))"
   ]
  },
  {
   "cell_type": "markdown",
   "metadata": {},
   "source": [
    "### Padding (IMPLEMENTATION)\n",
    "When batching the sequence of word ids together, each sequence needs to be the same length.  Since sentences are dynamic in length, we can add padding to the end of the sequences to make them the same length.\n",
    "\n",
    "Make sure all the English sequences have the same length and all the French sequences have the same length by adding padding to the **end** of each sequence using Keras's [`pad_sequences`](https://keras.io/preprocessing/sequence/#pad_sequences) function."
   ]
  },
  {
   "cell_type": "code",
   "execution_count": 5,
   "metadata": {},
   "outputs": [
    {
     "name": "stdout",
     "output_type": "stream",
     "text": [
      "Sequence 1 in x\n",
      "  Input:  [1 2 4 5 6 7 1 8 9]\n",
      "  Output: [1 2 4 5 6 7 1 8 9 0]\n",
      "Sequence 2 in x\n",
      "  Input:  [10 11 12  2 13 14 15 16  3 17]\n",
      "  Output: [10 11 12  2 13 14 15 16  3 17]\n",
      "Sequence 3 in x\n",
      "  Input:  [18 19  3 20 21]\n",
      "  Output: [18 19  3 20 21  0  0  0  0  0]\n"
     ]
    }
   ],
   "source": [
    "import numpy as np\n",
    "from keras.preprocessing.sequence import pad_sequences\n",
    "\n",
    "\n",
    "def pad(x, length=None):\n",
    "    \"\"\"\n",
    "    Pad x\n",
    "    :param x: List of sequences.\n",
    "    :param length: Length to pad the sequence to.  If None, use length of longest sequence in x.\n",
    "    :return: Padded numpy array of sequences\n",
    "    \"\"\"\n",
    "    # TODO: Implement\n",
    "    padded_ar = pad_sequences(x, maxlen=length, padding='post', truncating='post')\n",
    "#     print(padded_ar)\n",
    "    return padded_ar\n",
    "tests.test_pad(pad)\n",
    "\n",
    "# Pad Tokenized output\n",
    "test_pad = pad(text_tokenized)\n",
    "for sample_i, (token_sent, pad_sent) in enumerate(zip(text_tokenized, test_pad)):\n",
    "    print('Sequence {} in x'.format(sample_i + 1))\n",
    "    print('  Input:  {}'.format(np.array(token_sent)))\n",
    "    print('  Output: {}'.format(pad_sent))"
   ]
  },
  {
   "cell_type": "markdown",
   "metadata": {},
   "source": [
    "### Preprocess Pipeline\n",
    "Your focus for this project is to build neural network architecture, so we won't ask you to create a preprocess pipeline.  Instead, we've provided you with the implementation of the `preprocess` function."
   ]
  },
  {
   "cell_type": "code",
   "execution_count": 6,
   "metadata": {},
   "outputs": [
    {
     "name": "stdout",
     "output_type": "stream",
     "text": [
      "the united states is usually chilly during july , and it is usually freezing in november .\n",
      "les états-unis est généralement froid en juillet , et il gèle habituellement en novembre .\n"
     ]
    }
   ],
   "source": [
    "print(english_sentences[1])\n",
    "print(french_sentences[1])"
   ]
  },
  {
   "cell_type": "code",
   "execution_count": 7,
   "metadata": {},
   "outputs": [
    {
     "name": "stdout",
     "output_type": "stream",
     "text": [
      "Data Preprocessed\n"
     ]
    }
   ],
   "source": [
    "def preprocess(x, y):\n",
    "    \"\"\"\n",
    "    Preprocess x and y\n",
    "    :param x: Feature List of sentences\n",
    "    :param y: Label List of sentences\n",
    "    :return: Tuple of (Preprocessed x, Preprocessed y, x tokenizer, y tokenizer)\n",
    "    \"\"\"\n",
    "    preprocess_x, x_tk = tokenize(x)\n",
    "    preprocess_y, y_tk = tokenize(y)\n",
    "\n",
    "    \n",
    "    preprocess_x = pad(preprocess_x)\n",
    "    preprocess_y = pad(preprocess_y)\n",
    "\n",
    "    # Keras's sparse_categorical_crossentropy function requires the labels to be in 3 dimensions\n",
    "    preprocess_y = preprocess_y.reshape(*preprocess_y.shape, 1)\n",
    "\n",
    "    return preprocess_x, preprocess_y, x_tk, y_tk\n",
    "\n",
    "preproc_english_sentences, preproc_french_sentences, english_tokenizer, french_tokenizer =\\\n",
    "    preprocess(english_sentences, french_sentences)\n",
    "\n",
    "\n",
    "print('Data Preprocessed')"
   ]
  },
  {
   "cell_type": "code",
   "execution_count": 8,
   "metadata": {
    "collapsed": true
   },
   "outputs": [],
   "source": [
    "tmp_x, tmp_x_tk = tokenize(english_sentences)\n",
    "tmp_y, tmp_y_tk = tokenize(french_sentences)\n"
   ]
  },
  {
   "cell_type": "code",
   "execution_count": 9,
   "metadata": {},
   "outputs": [
    {
     "name": "stdout",
     "output_type": "stream",
     "text": [
      "the united states is usually chilly during july , and it is usually freezing in november .\n",
      "les états-unis est généralement froid en juillet , et il gèle habituellement en novembre .\n",
      "3.5.4 |Anaconda, Inc.| (default, Sep 30 2017, 18:41:01) \n",
      "[GCC 7.2.0]\n",
      "(137861, 15)\n",
      "(137861, 21, 1)\n",
      "longest english sentence: len=15, idx=137834\n",
      "[5, 20, 21, 1, 9, 62, 4, 36, 6, 3, 1, 10, 65, 2, 48]\n",
      "the united states is usually chilly during january , but it is never wet in february .\n",
      "les états-unis est généralement froid en janvier , mais il est jamais humide en février .\n",
      "longest frenech sentence: len=21, idx=123825\n",
      "[4, 32, 31, 1, 9, 26, 63, 15, 111, 22, 11, 24, 5, 3, 105, 103, 9, 19, 26, 11, 24]\n",
      "the united states is never dry during autumn , but it is never cold in fall .\n",
      "les états-unis est jamais à sec au cours de l' automne , mais il ne fait jamais froid à l' automne .\n"
     ]
    }
   ],
   "source": [
    "print(english_sentences[1])\n",
    "print(french_sentences[1])\n",
    "\n",
    "import sys\n",
    "print(sys.version)\n",
    "\n",
    "print(preproc_english_sentences.shape)\n",
    "print(preproc_french_sentences.shape)\n",
    "\n",
    "#print(preproc_english_sentences[0])\n",
    "#print(preproc_french_sentences[1])\n",
    "\n",
    "\n",
    "max_len_e, idx_max_len_e = max([ (len(s), index) for (index,s) in enumerate(tmp_x)])\n",
    "max_len_f, idx_max_len_f = max([ (len(s), index) for (index,s) in enumerate(tmp_y)])\n",
    "\n",
    "print(\"longest english sentence: len={max_len_e}, idx={idx_max_len_e}\".format(max_len_e=max_len_e, idx_max_len_e=idx_max_len_e))\n",
    "print(tmp_x[idx_max_len_e])\n",
    "print(english_sentences[idx_max_len_e])\n",
    "print(french_sentences[idx_max_len_e])\n",
    "\n",
    "print(\"longest frenech sentence: len={max_len_f}, idx={idx_max_len_f}\".format(max_len_f=max_len_f, idx_max_len_f=idx_max_len_f))\n",
    "print(tmp_y[idx_max_len_f])\n",
    "print(english_sentences[idx_max_len_f])\n",
    "print(french_sentences[idx_max_len_f])"
   ]
  },
  {
   "cell_type": "code",
   "execution_count": 10,
   "metadata": {},
   "outputs": [
    {
     "data": {
      "text/plain": [
       "(array([  1.00000000e+00,   0.00000000e+00,   0.00000000e+00,\n",
       "          1.37000000e+02,   1.46000000e+02,   2.59200000e+03,\n",
       "          2.63750000e+04,   5.12200000e+03,   1.03100000e+03,\n",
       "          8.04000000e+02,   1.76000000e+02,   3.53500000e+03,\n",
       "          2.70090000e+04,   3.49130000e+04,   2.99620000e+04,\n",
       "          6.05800000e+03,   0.00000000e+00,   0.00000000e+00,\n",
       "          0.00000000e+00,   0.00000000e+00,   0.00000000e+00,\n",
       "          0.00000000e+00,   0.00000000e+00,   0.00000000e+00]),\n",
       " array([ 0,  1,  2,  3,  4,  5,  6,  7,  8,  9, 10, 11, 12, 13, 14, 15, 16,\n",
       "        17, 18, 19, 20, 21, 22, 23, 24]),\n",
       " <a list of 24 Patch objects>)"
      ]
     },
     "execution_count": 10,
     "metadata": {},
     "output_type": "execute_result"
    },
    {
     "data": {
      "image/png": "[encoded data removed]",
      "text/plain": [
       "<matplotlib.figure.Figure at 0x7fccf4fd7198>"
      ]
     },
     "metadata": {},
     "output_type": "display_data"
    }
   ],
   "source": [
    "import matplotlib\n",
    "import matplotlib.pyplot as plt\n",
    "\n",
    "%matplotlib inline\n",
    "\n",
    "#distribution of length of english senetecens\n",
    "plt.hist([len(s) for s in tmp_x], bins=range(25))"
   ]
  },
  {
   "cell_type": "code",
   "execution_count": 11,
   "metadata": {},
   "outputs": [
    {
     "data": {
      "text/plain": [
       "(array([  1.00000000e+00,   0.00000000e+00,   0.00000000e+00,\n",
       "          3.10000000e+01,   1.85000000e+02,   5.64000000e+02,\n",
       "          4.97300000e+03,   5.41400000e+03,   4.76700000e+03,\n",
       "          1.51240000e+04,   4.68400000e+03,   3.66000000e+03,\n",
       "          1.36470000e+04,   2.01280000e+04,   3.18310000e+04,\n",
       "          2.12290000e+04,   8.01800000e+03,   2.82000000e+03,\n",
       "          6.75000000e+02,   9.90000000e+01,   8.00000000e+00,\n",
       "          3.00000000e+00,   0.00000000e+00,   0.00000000e+00]),\n",
       " array([ 0,  1,  2,  3,  4,  5,  6,  7,  8,  9, 10, 11, 12, 13, 14, 15, 16,\n",
       "        17, 18, 19, 20, 21, 22, 23, 24]),\n",
       " <a list of 24 Patch objects>)"
      ]
     },
     "execution_count": 11,
     "metadata": {},
     "output_type": "execute_result"
    },
    {
     "data": {
      "image/png": "[encoded data removed]",
      "text/plain": [
       "<matplotlib.figure.Figure at 0x7fccf04b60b8>"
      ]
     },
     "metadata": {},
     "output_type": "display_data"
    }
   ],
   "source": [
    "# dsitribution of length of french sentences\n",
    "plt.hist([len(s) for s in tmp_y], bins=range(25))"
   ]
  },
  {
   "cell_type": "markdown",
   "metadata": {},
   "source": [
    "## Models\n",
    "In this section, you will experiment with various neural network architectures.\n",
    "You will begin by training four relatively simple architectures.\n",
    "- Model 1 is a simple RNN\n",
    "- Model 2 is a RNN with Embedding\n",
    "- Model 3 is a Bidirectional RNN\n",
    "- Model 4 is an optional Encoder-Decoder RNN\n",
    "\n",
    "After experimenting with the four simple architectures, you will construct a deeper architecture that is designed to outperform all four models.\n",
    "### Ids Back to Text\n",
    "The neural network will be translating the input to words ids, which isn't the final form we want.  We want the French translation.  The function `logits_to_text` will bridge the gab between the logits from the neural network to the French translation.  You'll be using this function to better understand the output of the neural network."
   ]
  },
  {
   "cell_type": "code",
   "execution_count": 12,
   "metadata": {},
   "outputs": [
    {
     "name": "stdout",
     "output_type": "stream",
     "text": [
      "`logits_to_text` function loaded.\n"
     ]
    }
   ],
   "source": [
    "def logits_to_text(logits, tokenizer):\n",
    "    \"\"\"\n",
    "    Turn logits from a neural network into text using the tokenizer\n",
    "    :param logits: Logits from a neural network\n",
    "    :param tokenizer: Keras Tokenizer fit on the labels\n",
    "    :return: String that represents the text of the logits\n",
    "    \"\"\"\n",
    "    index_to_words = {id: word for word, id in tokenizer.word_index.items()}\n",
    "    index_to_words[0] = '<PAD>'\n",
    "\n",
    "    return ' '.join([index_to_words[prediction] for prediction in np.argmax(logits, 1)])\n",
    "\n",
    "print('`logits_to_text` function loaded.')"
   ]
  },
  {
   "cell_type": "markdown",
   "metadata": {},
   "source": [
    "### Model 1: RNN (IMPLEMENTATION)\n",
    "![RNN](images/rnn.png)\n",
    "A basic RNN model is a good baseline for sequence data.  In this model, you'll build a RNN that translates English to French."
   ]
  },
  {
   "cell_type": "code",
   "execution_count": 45,
   "metadata": {
    "scrolled": false
   },
   "outputs": [
    {
     "name": "stdout",
     "output_type": "stream",
     "text": [
      "(21, 1)\n",
      "input_shape=(137861, 21, 1)\n",
      "output_sequence_length=21\n",
      "english_vocab_size=199\n",
      "french_vocab_size=344\n",
      "_________________________________________________________________\n",
      "Layer (type)                 Output Shape              Param #   \n",
      "=================================================================\n",
      "input_layer (InputLayer)     (None, 21, 1)             0         \n",
      "_________________________________________________________________\n",
      "gru_layer (GRU)              (None, 21, 345)           359145    \n",
      "_________________________________________________________________\n",
      "time_distributed (TimeDistri (None, 21, 345)           119370    \n",
      "=================================================================\n",
      "Total params: 478,515\n",
      "Trainable params: 478,515\n",
      "Non-trainable params: 0\n",
      "_________________________________________________________________\n",
      "None\n",
      "Train on 110288 samples, validate on 27573 samples\n",
      "Epoch 1/10\n",
      "110288/110288 [==============================] - 269s - loss: 6.6039 - acc: 0.0083 - val_loss: 6.3844 - val_acc: 0.0070\n",
      "Epoch 2/10\n",
      "110288/110288 [==============================] - 272s - loss: 6.4384 - acc: 0.0059 - val_loss: 6.4179 - val_acc: 0.0058\n",
      "Epoch 3/10\n",
      "110288/110288 [==============================] - 273s - loss: 6.4357 - acc: 0.0057 - val_loss: 6.4197 - val_acc: 0.0057\n",
      "Epoch 4/10\n",
      "110288/110288 [==============================] - 276s - loss: 6.4234 - acc: 0.0057 - val_loss: 6.4210 - val_acc: 0.0057\n",
      "Epoch 5/10\n",
      "110288/110288 [==============================] - 309s - loss: 6.4247 - acc: 0.0058 - val_loss: 6.4120 - val_acc: 0.0057\n",
      "Epoch 6/10\n",
      "110288/110288 [==============================] - 266s - loss: 6.4239 - acc: 0.0057 - val_loss: 6.4208 - val_acc: 0.0057\n",
      "Epoch 7/10\n",
      "110288/110288 [==============================] - 290s - loss: 6.4480 - acc: 0.0090 - val_loss: 6.4747 - val_acc: 0.0124\n",
      "Epoch 8/10\n",
      "110288/110288 [==============================] - 276s - loss: 6.4635 - acc: 0.0122 - val_loss: 6.4552 - val_acc: 0.0124\n",
      "Epoch 9/10\n",
      "110288/110288 [==============================] - 244s - loss: 6.4615 - acc: 0.0101 - val_loss: 6.4536 - val_acc: 0.0096\n",
      "Epoch 10/10\n",
      "110288/110288 [==============================] - 222s - loss: 6.4593 - acc: 0.0098 - val_loss: 6.4530 - val_acc: 0.0100\n",
      "pluvieux le le le pluvieux le pluvieux le le le pluvieux le pluvieux le le le le le le le le\n"
     ]
    }
   ],
   "source": [
    "from keras.layers import GRU, Input, Dense, TimeDistributed\n",
    "from keras.models import Model\n",
    "from keras.layers import Activation\n",
    "from keras.optimizers import Adam\n",
    "from keras.losses import sparse_categorical_crossentropy\n",
    "\n",
    "\n",
    "def simple_model(input_shape, output_sequence_length, english_vocab_size, french_vocab_size):\n",
    "    \"\"\"\n",
    "    Build and train a basic RNN on x and y\n",
    "    :param input_shape: Tuple of input shape\n",
    "    :param output_sequence_length: Length of output sequence\n",
    "    :param english_vocab_size: Number of unique English words in the dataset\n",
    "    :param french_vocab_size: Number of unique French words in the dataset\n",
    "    :return: Keras model built, but not trained\n",
    "    \"\"\"\n",
    "    # TODO: Build the layers\n",
    "    print(\"input_shape={}\".format(input_shape))\n",
    "    print(\"output_sequence_length={}\".format(output_sequence_length))\n",
    "    print(\"english_vocab_size={}\".format(english_vocab_size))\n",
    "    print(\"french_vocab_size={}\".format(french_vocab_size))\n",
    "    \n",
    "    \n",
    "    input_sequences = Input(shape=(21,1), name='input_layer')\n",
    "    \n",
    "    gru = GRU(units=french_vocab_size+1, return_sequences=True, name='gru_layer')(input_sequences)\n",
    "    \n",
    "    predictions = TimeDistributed(Dense(units=french_vocab_size+1, input_shape=(21,french_vocab_size+1), name='dense_td'), name='time_distributed')(gru)\n",
    "    \n",
    "    model = Model(inputs = input_sequences, outputs=predictions)\n",
    "    print( model.summary())\n",
    "    \n",
    "    learning_rate=0.1\n",
    "    \n",
    "    model.compile(loss=sparse_categorical_crossentropy,\n",
    "                 optimizer=Adam(learning_rate),\n",
    "                 metrics=['accuracy'])\n",
    "#     print( model.summary())\n",
    "    return model\n",
    "\n",
    "#tests.test_simple_model(simple_model)\n",
    "\n",
    "\n",
    "# Reshaping the input to work with a basic RNN\n",
    "tmp_x = pad(preproc_english_sentences, preproc_french_sentences.shape[1])\n",
    "tmp_x = tmp_x.reshape((-1, preproc_french_sentences.shape[-2], 1))\n",
    "\n",
    "#print(tmp_x[2,])\n",
    "print(preproc_french_sentences[2].shape)\n",
    "# Train the neural network\n",
    "simple_rnn_model = simple_model(\n",
    "    tmp_x.shape,\n",
    "    preproc_french_sentences.shape[1],\n",
    "    len(english_tokenizer.word_index),\n",
    "    len(french_tokenizer.word_index))\n",
    "simple_rnn_model.fit(tmp_x, preproc_french_sentences, batch_size=1024, epochs=10, validation_split=0.2)\n",
    "\n",
    "# Print prediction(s)\n",
    "print(logits_to_text(simple_rnn_model.predict(tmp_x[:1])[0], french_tokenizer))"
   ]
  },
  {
   "cell_type": "code",
   "execution_count": 31,
   "metadata": {},
   "outputs": [
    {
     "name": "stdout",
     "output_type": "stream",
     "text": [
      "(137861, 21, 1)\n",
      "(137861, 15)\n"
     ]
    }
   ],
   "source": [
    "print(preproc_french_sentences.shape)\n",
    "print(preproc_english_sentences.shape)\n"
   ]
  },
  {
   "cell_type": "markdown",
   "metadata": {},
   "source": [
    "### Model 2: Embedding (IMPLEMENTATION)\n",
    "![RNN](images/embedding.png)\n",
    "You've turned the words into ids, but there's a better representation of a word.  This is called word embeddings.  An embedding is a vector representation of the word that is close to similar words in n-dimensional space, where the n represents the size of the embedding vectors.\n",
    "\n",
    "In this model, you'll create a RNN model using embedding."
   ]
  },
  {
   "cell_type": "code",
   "execution_count": 59,
   "metadata": {
    "scrolled": false
   },
   "outputs": [
    {
     "name": "stdout",
     "output_type": "stream",
     "text": [
      "input_shape=(137861, 21)\n",
      "output_sequence_length=21\n",
      "english_vocab_size=199\n",
      "french_vocab_size=344\n",
      "_________________________________________________________________\n",
      "Layer (type)                 Output Shape              Param #   \n",
      "=================================================================\n",
      "embedding_layer (Embedding)  (None, 21, 64)            12736     \n",
      "_________________________________________________________________\n",
      "gru_layer (GRU)              (None, 21, 21)            5418      \n",
      "_________________________________________________________________\n",
      "clasification_layer (Dense)  (None, 21, 344)           7568      \n",
      "=================================================================\n",
      "Total params: 25,722\n",
      "Trainable params: 25,722\n",
      "Non-trainable params: 0\n",
      "_________________________________________________________________\n",
      "None\n",
      "(21, 1)\n",
      "input_shape=(137861, 21)\n",
      "output_sequence_length=21\n",
      "english_vocab_size=200\n",
      "french_vocab_size=345\n",
      "_________________________________________________________________\n",
      "Layer (type)                 Output Shape              Param #   \n",
      "=================================================================\n",
      "embedding_layer (Embedding)  (None, 21, 64)            12800     \n",
      "_________________________________________________________________\n",
      "gru_layer (GRU)              (None, 21, 21)            5418      \n",
      "_________________________________________________________________\n",
      "clasification_layer (Dense)  (None, 21, 345)           7590      \n",
      "=================================================================\n",
      "Total params: 25,808\n",
      "Trainable params: 25,808\n",
      "Non-trainable params: 0\n",
      "_________________________________________________________________\n",
      "None\n",
      "Train on 110288 samples, validate on 27573 samples\n",
      "Epoch 1/10\n",
      "110288/110288 [==============================] - 139s - loss: 1.4727 - acc: 0.6316 - val_loss: 1.2355 - val_acc: 0.6654\n",
      "Epoch 2/10\n",
      "110288/110288 [==============================] - 137s - loss: 1.1751 - acc: 0.6767 - val_loss: 1.1689 - val_acc: 0.6794\n",
      "Epoch 3/10\n",
      "110288/110288 [==============================] - 131s - loss: 1.1966 - acc: 0.6749 - val_loss: 1.2915 - val_acc: 0.6640\n",
      "Epoch 4/10\n",
      "110288/110288 [==============================] - 132s - loss: 1.2775 - acc: 0.6703 - val_loss: 1.2484 - val_acc: 0.6776\n",
      "Epoch 5/10\n",
      "110288/110288 [==============================] - 129s - loss: 1.3797 - acc: 0.6660 - val_loss: 1.2867 - val_acc: 0.6802\n",
      "Epoch 6/10\n",
      "110288/110288 [==============================] - 137s - loss: 1.2624 - acc: 0.6808 - val_loss: 1.2601 - val_acc: 0.6789\n",
      "Epoch 7/10\n",
      "110288/110288 [==============================] - 148s - loss: 1.2547 - acc: 0.6811 - val_loss: 1.2569 - val_acc: 0.6770\n",
      "Epoch 8/10\n",
      "110288/110288 [==============================] - 136s - loss: 1.2528 - acc: 0.6809 - val_loss: 1.2532 - val_acc: 0.6817\n",
      "Epoch 9/10\n",
      "110288/110288 [==============================] - 131s - loss: 1.2518 - acc: 0.6812 - val_loss: 1.2519 - val_acc: 0.6780\n",
      "Epoch 10/10\n",
      "110288/110288 [==============================] - 130s - loss: 1.2511 - acc: 0.6812 - val_loss: 1.2515 - val_acc: 0.6764\n",
      "new jersey est parfois calme en l' et il est neigeux en avril <PAD> <PAD> <PAD> <PAD> <PAD> <PAD> <PAD> <PAD>\n"
     ]
    }
   ],
   "source": [
    "from keras.layers.embeddings import Embedding\n",
    "from keras.models import Sequential\n",
    "\n",
    "def embed_model(input_shape, output_sequence_length, english_vocab_size, french_vocab_size):\n",
    "    \"\"\"\n",
    "    Build and train a RNN model using word embedding on x and y\n",
    "    :param input_shape: Tuple of input shape\n",
    "    :param output_sequence_length: Length of output sequence\n",
    "    :param english_vocab_size: Number of unique English words in the dataset\n",
    "    :param french_vocab_size: Number of unique French words in the dataset\n",
    "    :return: Keras model built, but not trained\n",
    "    \"\"\"\n",
    "    # TODO: Implement\n",
    "    print(\"input_shape={}\".format(input_shape))\n",
    "    print(\"output_sequence_length={}\".format(output_sequence_length))\n",
    "    print(\"english_vocab_size={}\".format(english_vocab_size))\n",
    "    print(\"french_vocab_size={}\".format(french_vocab_size))\n",
    "\n",
    "    dim_embedding = 64\n",
    "    \n",
    "    model=Sequential()\n",
    "    model.add(Embedding(input_dim=english_vocab_size, output_dim=dim_embedding, input_length=21, name='embedding_layer' ))\n",
    "    \n",
    "    model.add(GRU(output_sequence_length, return_sequences=True, name='gru_layer'))\n",
    "    model.add(Dense(units=french_vocab_size, activation='softmax', name='clasification_layer'))\n",
    "    \n",
    "    learning_rate = 0.2\n",
    "    model.compile(loss=sparse_categorical_crossentropy,\n",
    "                  optimizer=Adam(learning_rate),\n",
    "                  metrics=['accuracy'])\n",
    "    \n",
    "    #model.compile(optimizer='rmsprop', loss='mse')\n",
    "    print(model.summary())\n",
    "    return model\n",
    "\n",
    "tests.test_embed_model(embed_model)\n",
    "\n",
    "\n",
    "# TODO: Reshape the input\n",
    "\n",
    "# TODO: Train the neural network\n",
    "\n",
    "# TODO: Print prediction(s)\n",
    "\n",
    "\n",
    "# Reshaping the input to work with a basic RNN\n",
    "tmp_x = pad(preproc_english_sentences, preproc_french_sentences.shape[1])\n",
    "#tmp_x = tmp_x.reshape((-1, preproc_french_sentences.shape[-2], 1))\n",
    "\n",
    "#print(tmp_x[2,])\n",
    "print(preproc_french_sentences[2].shape)\n",
    "# Train the neural network\n",
    "embed_rnn_model = embed_model(\n",
    "    tmp_x.shape,\n",
    "    preproc_french_sentences.shape[1],\n",
    "    len(english_tokenizer.word_index)+1,\n",
    "    len(french_tokenizer.word_index)+1)\n",
    "embed_rnn_model.fit(tmp_x, preproc_french_sentences, batch_size=1024, epochs=10, validation_split=0.2)\n",
    "\n",
    "# Print prediction(s)\n",
    "print(english_sentences[1])\n",
    "print(logits_to_text(embed_rnn_model.predict(tmp_x[:1])[0], french_tokenizer))"
   ]
  },
  {
   "cell_type": "code",
   "execution_count": 115,
   "metadata": {},
   "outputs": [
    {
     "name": "stdout",
     "output_type": "stream",
     "text": [
      "new jersey is sometimes quiet during autumn , and it is snowy in april .\n",
      "new jersey est parfois calme en l' et il est neigeux en avril <PAD> <PAD> <PAD> <PAD> <PAD> <PAD> <PAD> <PAD>\n"
     ]
    }
   ],
   "source": [
    "print(english_sentences[0])\n",
    "print(logits_to_text(embed_rnn_model.predict(tmp_x[:1])[0], french_tokenizer))"
   ]
  },
  {
   "cell_type": "markdown",
   "metadata": {},
   "source": [
    "### Model 3: Bidirectional RNNs (IMPLEMENTATION)\n",
    "![RNN](images/bidirectional.png)\n",
    "One restriction of a RNN is that it can't see the future input, only the past.  This is where bidirectional recurrent neural networks come in.  They are able to see the future data."
   ]
  },
  {
   "cell_type": "code",
   "execution_count": 90,
   "metadata": {},
   "outputs": [
    {
     "name": "stdout",
     "output_type": "stream",
     "text": [
      "input_shape=(137861, 21, 1)\n",
      "output_sequence_length=21\n",
      "english_vocab_size=199\n",
      "french_vocab_size=344\n",
      "switching to input size=21\n",
      "_________________________________________________________________\n",
      "Layer (type)                 Output Shape              Param #   \n",
      "=================================================================\n",
      "reshape_11 (Reshape)         (None, 21)                0         \n",
      "_________________________________________________________________\n",
      "embedding_layer (Embedding)  (None, 21, 64)            12736     \n",
      "_________________________________________________________________\n",
      "bidi_gru (Bidirectional)     (None, 21, 42)            10836     \n",
      "_________________________________________________________________\n",
      "clasification_layer (Dense)  (None, 21, 344)           14792     \n",
      "=================================================================\n",
      "Total params: 38,364\n",
      "Trainable params: 38,364\n",
      "Non-trainable params: 0\n",
      "_________________________________________________________________\n",
      "None\n",
      "input_shape=(137861, 21)\n",
      "output_sequence_length=21\n",
      "english_vocab_size=200\n",
      "french_vocab_size=345\n",
      "switching to input size=21\n",
      "_________________________________________________________________\n",
      "Layer (type)                 Output Shape              Param #   \n",
      "=================================================================\n",
      "reshape_12 (Reshape)         (None, 21)                0         \n",
      "_________________________________________________________________\n",
      "embedding_layer (Embedding)  (None, 21, 64)            12800     \n",
      "_________________________________________________________________\n",
      "bidi_gru (Bidirectional)     (None, 21, 42)            10836     \n",
      "_________________________________________________________________\n",
      "clasification_layer (Dense)  (None, 21, 345)           14835     \n",
      "=================================================================\n",
      "Total params: 38,471\n",
      "Trainable params: 38,471\n",
      "Non-trainable params: 0\n",
      "_________________________________________________________________\n",
      "None\n",
      "Train on 110288 samples, validate on 27573 samples\n",
      "Epoch 1/10\n",
      "110288/110288 [==============================] - 123s - loss: 1.4692 - acc: 0.6585 - val_loss: 1.0703 - val_acc: 0.7097\n",
      "Epoch 2/10\n",
      "110288/110288 [==============================] - 125s - loss: 1.0588 - acc: 0.7134 - val_loss: 1.0535 - val_acc: 0.7142\n",
      "Epoch 3/10\n",
      "110288/110288 [==============================] - 129s - loss: 1.1081 - acc: 0.7057 - val_loss: 1.3584 - val_acc: 0.6769\n",
      "Epoch 4/10\n",
      "110288/110288 [==============================] - 124s - loss: 1.2820 - acc: 0.6872 - val_loss: 1.1243 - val_acc: 0.7098\n",
      "Epoch 5/10\n",
      "110288/110288 [==============================] - 117s - loss: 1.1103 - acc: 0.7100 - val_loss: 1.1012 - val_acc: 0.7133\n",
      "Epoch 6/10\n",
      "110288/110288 [==============================] - 118s - loss: 1.0988 - acc: 0.7121 - val_loss: 1.0994 - val_acc: 0.7120\n",
      "Epoch 7/10\n",
      "110288/110288 [==============================] - 130s - loss: 1.0988 - acc: 0.7124 - val_loss: 1.0972 - val_acc: 0.7140\n",
      "Epoch 8/10\n",
      "110288/110288 [==============================] - 132s - loss: 1.0986 - acc: 0.7119 - val_loss: 1.1061 - val_acc: 0.7095\n",
      "Epoch 9/10\n",
      "110288/110288 [==============================] - 124s - loss: 1.4084 - acc: 0.6801 - val_loss: 2.8767 - val_acc: 0.6245\n",
      "Epoch 10/10\n",
      "110288/110288 [==============================] - 118s - loss: 2.6552 - acc: 0.6328 - val_loss: 2.0553 - val_acc: 0.6805\n",
      "new jersey est parfois calme en l'automne l' il il parfois en en <PAD> <PAD> <PAD> <PAD> <PAD> <PAD> <PAD> <PAD>\n"
     ]
    }
   ],
   "source": [
    "from keras.layers import Bidirectional\n",
    "from keras.layers import Reshape\n",
    "\n",
    "\n",
    "def bd_model(input_shape, output_sequence_length, english_vocab_size, french_vocab_size):\n",
    "    \"\"\"\n",
    "    Build and train a bidirectional RNN model on x and y\n",
    "    :param input_shape: Tuple of input shape\n",
    "    :param output_sequence_length: Length of output sequence\n",
    "    :param english_vocab_size: Number of unique English words in the dataset\n",
    "    :param french_vocab_size: Number of unique French words in the dataset\n",
    "    :return: Keras model built, but not trained\n",
    "    \"\"\"\n",
    "    # TODO: Implement\n",
    "    \n",
    "    print(\"input_shape={}\".format(input_shape))\n",
    "    print(\"output_sequence_length={}\".format(output_sequence_length))\n",
    "    print(\"english_vocab_size={}\".format(english_vocab_size))\n",
    "    print(\"french_vocab_size={}\".format(french_vocab_size))\n",
    "    print(\"switching to input size={}\".format(input_shape[1]))\n",
    "    dim_embedding = 64\n",
    "    \n",
    "    model=Sequential()\n",
    "    model.add(Reshape((input_shape[1],), input_shape= input_shape[1:] ))\n",
    "    model.add(Embedding(input_dim=english_vocab_size, output_dim=dim_embedding, input_length=21, name='embedding_layer' ))\n",
    "    \n",
    "    model.add(Bidirectional(GRU(output_sequence_length, return_sequences=True, name='gru_layer'), name='bidi_gru', merge_mode='concat'))\n",
    "    model.add(Dense(units=french_vocab_size, activation='softmax', name='clasification_layer'))\n",
    "    \n",
    "    learning_rate = 0.2\n",
    "    model.compile(loss=sparse_categorical_crossentropy,\n",
    "                  optimizer=Adam(learning_rate),\n",
    "                  metrics=['accuracy'])\n",
    "    \n",
    "    #model.compile(optimizer='rmsprop', loss='mse')\n",
    "    print(model.summary())\n",
    "    return model\n",
    "\n",
    "tests.test_bd_model(bd_model)\n",
    "\n",
    "\n",
    "# TODO: Train and Print prediction(s)\n",
    "# Reshaping the input to work with a basic RNN\n",
    "tmp_x = pad(preproc_english_sentences, preproc_french_sentences.shape[1])\n",
    "#tmp_x = tmp_x.reshape((-1, preproc_french_sentences.shape[-2], 1))\n",
    "\n",
    "\n",
    "# Train the neural network\n",
    "bd_rnn_model = bd_model(\n",
    "    tmp_x.shape,\n",
    "    preproc_french_sentences.shape[1],\n",
    "    len(english_tokenizer.word_index)+1,\n",
    "    len(french_tokenizer.word_index)+1)\n",
    "\n",
    "bd_rnn_model.fit(tmp_x, preproc_french_sentences, batch_size=1024, epochs=10, validation_split=0.2)\n",
    "\n",
    "# Print prediction(s)\n",
    "print(logits_to_text(bd_rnn_model.predict(tmp_x[:1])[0], french_tokenizer))"
   ]
  },
  {
   "cell_type": "code",
   "execution_count": 116,
   "metadata": {},
   "outputs": [
    {
     "name": "stdout",
     "output_type": "stream",
     "text": [
      "the united states is usually chilly during july , and it is usually freezing in november .\n",
      "new jersey est parfois calme en l' et il est neigeux en avril <PAD> <PAD> <PAD> <PAD> <PAD> <PAD> <PAD> <PAD>\n"
     ]
    }
   ],
   "source": [
    "print(english_sentences[1])\n",
    "print(logits_to_text(embed_rnn_model.predict(tmp_x[:1])[0], french_tokenizer))"
   ]
  },
  {
   "cell_type": "markdown",
   "metadata": {},
   "source": [
    "### Model 4: Encoder-Decoder (OPTIONAL)\n",
    "Time to look at encoder-decoder models.  This model is made up of an encoder and decoder. The encoder creates a matrix representation of the sentence.  The decoder takes this matrix as input and predicts the translation as output.\n",
    "\n",
    "Create an encoder-decoder model in the cell below."
   ]
  },
  {
   "cell_type": "code",
   "execution_count": null,
   "metadata": {
    "collapsed": true
   },
   "outputs": [],
   "source": [
    "from keras.layers import RepeatVector\n",
    "\n",
    "\n",
    "def encdec_model(input_shape, output_sequence_length, english_vocab_size, french_vocab_size):\n",
    "    \"\"\"\n",
    "    Build and train an encoder-decoder model on x and y\n",
    "    :param input_shape: Tuple of input shape\n",
    "    :param output_sequence_length: Length of output sequence\n",
    "    :param english_vocab_size: Number of unique English words in the dataset\n",
    "    :param french_vocab_size: Number of unique French words in the dataset\n",
    "    :return: Keras model built, but not trained\n",
    "    \"\"\"\n",
    "    # OPTIONAL: Implement\n",
    "    return None\n",
    "tests.test_encdec_model(encdec_model)\n",
    "\n",
    "\n",
    "# OPTIONAL: Train and Print prediction(s)"
   ]
  },
  {
   "cell_type": "markdown",
   "metadata": {},
   "source": [
    "### Model 5: Custom (IMPLEMENTATION)\n",
    "Use everything you learned from the previous models to create a model that incorporates embedding and a bidirectional rnn into one model."
   ]
  },
  {
   "cell_type": "code",
   "execution_count": 118,
   "metadata": {},
   "outputs": [
    {
     "name": "stdout",
     "output_type": "stream",
     "text": [
      "input_shape=(137861, 15)\n",
      "output_sequence_length=21\n",
      "english_vocab_size=199\n",
      "french_vocab_size=344\n",
      "switching to input size=15\n",
      "_________________________________________________________________\n",
      "Layer (type)                 Output Shape              Param #   \n",
      "=================================================================\n",
      "reshape_18 (Reshape)         (None, 15)                0         \n",
      "_________________________________________________________________\n",
      "embedding_layer (Embedding)  (None, 21, 64)            12736     \n",
      "_________________________________________________________________\n",
      "bidi_gru (Bidirectional)     (None, 21, 42)            10836     \n",
      "_________________________________________________________________\n",
      "clasification_layer (Dense)  (None, 21, 344)           14792     \n",
      "=================================================================\n",
      "Total params: 38,364\n",
      "Trainable params: 38,364\n",
      "Non-trainable params: 0\n",
      "_________________________________________________________________\n",
      "None\n",
      "Final Model Loaded\n"
     ]
    }
   ],
   "source": [
    "def model_final(input_shape, output_sequence_length, english_vocab_size, french_vocab_size):\n",
    "    \"\"\"\n",
    "    Build and train a model that incorporates embedding, encoder-decoder, and bidirectional RNN on x and y\n",
    "    :param input_shape: Tuple of input shape\n",
    "    :param output_sequence_length: Length of output sequence\n",
    "    :param english_vocab_size: Number of unique English words in the dataset\n",
    "    :param french_vocab_size: Number of unique French words in the dataset\n",
    "    :return: Keras model built, but not trained\n",
    "    \"\"\"\n",
    "    # TODO: Implement\n",
    "    print(\"input_shape={}\".format(input_shape))\n",
    "    print(\"output_sequence_length={}\".format(output_sequence_length))\n",
    "    print(\"english_vocab_size={}\".format(english_vocab_size))\n",
    "    print(\"french_vocab_size={}\".format(french_vocab_size))\n",
    "    print(\"switching to input size={}\".format(input_shape[1]))\n",
    "    dim_embedding = 64\n",
    "    \n",
    "    model=Sequential()\n",
    "    model.add(Reshape((input_shape[1],), input_shape= input_shape[1:] ))\n",
    "    model.add(Embedding(input_dim=english_vocab_size, output_dim=dim_embedding, input_length=input_shape[-1], name='embedding_layer' ))\n",
    "    \n",
    "    model.add(Bidirectional(GRU(output_sequence_length, return_sequences=True, name='gru_layer'), name='bidi_gru', merge_mode='concat'))\n",
    "    model.add(Dense(units=french_vocab_size, activation='softmax', name='clasification_layer'))\n",
    "    \n",
    "    learning_rate = 0.2\n",
    "    model.compile(loss=sparse_categorical_crossentropy,\n",
    "                  optimizer=Adam(learning_rate),\n",
    "                  metrics=['accuracy'])\n",
    "    \n",
    "    #model.compile(optimizer='rmsprop', loss='mse')\n",
    "    print(model.summary())\n",
    "    return model\n",
    "    \n",
    "#tests.test_model_final(model_final)\n",
    "tests.test_model_final(bd_model)\n",
    "\n",
    "\n",
    "print('Final Model Loaded')"
   ]
  },
  {
   "cell_type": "code",
   "execution_count": 122,
   "metadata": {},
   "outputs": [
    {
     "name": "stdout",
     "output_type": "stream",
     "text": [
      "input_shape=(137861, 21)\n",
      "output_sequence_length=21\n",
      "english_vocab_size=200\n",
      "french_vocab_size=345\n",
      "switching to input size=21\n",
      "_________________________________________________________________\n",
      "Layer (type)                 Output Shape              Param #   \n",
      "=================================================================\n",
      "reshape_20 (Reshape)         (None, 21)                0         \n",
      "_________________________________________________________________\n",
      "embedding_layer (Embedding)  (None, 21, 64)            12800     \n",
      "_________________________________________________________________\n",
      "bidi_gru (Bidirectional)     (None, 21, 42)            10836     \n",
      "_________________________________________________________________\n",
      "clasification_layer (Dense)  (None, 21, 345)           14835     \n",
      "=================================================================\n",
      "Total params: 38,471\n",
      "Trainable params: 38,471\n",
      "Non-trainable params: 0\n",
      "_________________________________________________________________\n",
      "None\n",
      "Train on 110288 samples, validate on 27573 samples\n",
      "Epoch 1/10\n",
      "110288/110288 [==============================] - 142s - loss: 1.3959 - acc: 0.6711 - val_loss: 0.9367 - val_acc: 0.7269\n",
      "Epoch 2/10\n",
      "110288/110288 [==============================] - 138s - loss: 0.8778 - acc: 0.7396 - val_loss: 0.8483 - val_acc: 0.7440\n",
      "Epoch 3/10\n",
      "110288/110288 [==============================] - 135s - loss: 1.2518 - acc: 0.7022 - val_loss: 1.7902 - val_acc: 0.6946\n",
      "Epoch 4/10\n",
      "110288/110288 [==============================] - 137s - loss: 1.3316 - acc: 0.7129 - val_loss: 1.1657 - val_acc: 0.7210\n",
      "Epoch 5/10\n",
      "110288/110288 [==============================] - 137s - loss: 1.1111 - acc: 0.7255 - val_loss: 1.0699 - val_acc: 0.7280\n",
      "Epoch 6/10\n",
      "110288/110288 [==============================] - 137s - loss: 1.0517 - acc: 0.7279 - val_loss: 1.0481 - val_acc: 0.7252\n",
      "Epoch 7/10\n",
      "110288/110288 [==============================] - 153s - loss: 1.0793 - acc: 0.7204 - val_loss: 1.1706 - val_acc: 0.7051\n",
      "Epoch 8/10\n",
      "110288/110288 [==============================] - 144s - loss: 1.1534 - acc: 0.7123 - val_loss: 1.1244 - val_acc: 0.7180\n",
      "Epoch 9/10\n",
      "110288/110288 [==============================] - 143s - loss: 1.1041 - acc: 0.7194 - val_loss: 1.0628 - val_acc: 0.7236\n",
      "Epoch 10/10\n",
      "110288/110288 [==============================] - 136s - loss: 1.0688 - acc: 0.7235 - val_loss: 1.0561 - val_acc: 0.7269\n"
     ]
    },
    {
     "data": {
      "text/plain": [
       "<keras.callbacks.History at 0x7fcc315feb70>"
      ]
     },
     "execution_count": 122,
     "metadata": {},
     "output_type": "execute_result"
    }
   ],
   "source": [
    "# TODO: Train neural network using model_final\n",
    "tmp_x = pad(preproc_english_sentences, preproc_french_sentences.shape[1])\n",
    "\n",
    "# Train the neural network\n",
    "final_model = bd_model(\n",
    "    tmp_x.shape,\n",
    "    preproc_french_sentences.shape[1],\n",
    "    len(english_tokenizer.word_index)+1,\n",
    "    len(french_tokenizer.word_index)+1)\n",
    "\n",
    "final_model.fit(tmp_x, preproc_french_sentences, batch_size=1024, epochs=10, validation_split=0.2)\n",
    "\n"
   ]
  },
  {
   "cell_type": "markdown",
   "metadata": {},
   "source": [
    "## Prediction (IMPLEMENTATION)"
   ]
  },
  {
   "cell_type": "code",
   "execution_count": 123,
   "metadata": {},
   "outputs": [
    {
     "name": "stdout",
     "output_type": "stream",
     "text": [
      "[[ 26 127 100 111 112 101   0   0   0   0   0   0   0   0   0]\n",
      " [ 17  23   1   8  67   4  39   7   3   1  55   2  44   0   0]]\n"
     ]
    },
    {
     "ename": "ValueError",
     "evalue": "Error when checking : expected reshape_20_input to have shape (None, 21) but got array with shape (2, 15)",
     "output_type": "error",
     "traceback": [
      "\u001b[0;31m---------------------------------------------------------------------------\u001b[0m",
      "\u001b[0;31mValueError\u001b[0m                                Traceback (most recent call last)",
      "\u001b[0;32m<ipython-input-123-e041726cfb9f>\u001b[0m in \u001b[0;36m<module>\u001b[0;34m()\u001b[0m\n\u001b[1;32m     52\u001b[0m \u001b[0;34m\u001b[0m\u001b[0m\n\u001b[1;32m     53\u001b[0m \u001b[0;34m\u001b[0m\u001b[0m\n\u001b[0;32m---> 54\u001b[0;31m \u001b[0mfinal_predictions\u001b[0m\u001b[0;34m(\u001b[0m\u001b[0mpreproc_english_sentences\u001b[0m\u001b[0;34m,\u001b[0m \u001b[0mpreproc_french_sentences\u001b[0m\u001b[0;34m,\u001b[0m \u001b[0menglish_tokenizer\u001b[0m\u001b[0;34m,\u001b[0m \u001b[0mfrench_tokenizer\u001b[0m\u001b[0;34m)\u001b[0m\u001b[0;34m\u001b[0m\u001b[0m\n\u001b[0m",
      "\u001b[0;32m<ipython-input-123-e041726cfb9f>\u001b[0m in \u001b[0;36mfinal_predictions\u001b[0;34m(x, y, x_tk, y_tk)\u001b[0m\n\u001b[1;32m     37\u001b[0m     \u001b[0;31m#predictions=[[[2,3,4,5],[1,2,6,7,8]], [[3,4,5,6,7,8],[5,8,9,0]]]\u001b[0m\u001b[0;34m\u001b[0m\u001b[0;34m\u001b[0m\u001b[0m\n\u001b[1;32m     38\u001b[0m     \u001b[0mprint\u001b[0m\u001b[0;34m(\u001b[0m\u001b[0msentences\u001b[0m\u001b[0;34m)\u001b[0m\u001b[0;34m\u001b[0m\u001b[0m\n\u001b[0;32m---> 39\u001b[0;31m     \u001b[0mpredictions\u001b[0m \u001b[0;34m=\u001b[0m \u001b[0mmodel\u001b[0m\u001b[0;34m.\u001b[0m\u001b[0mpredict\u001b[0m\u001b[0;34m(\u001b[0m\u001b[0msentences\u001b[0m\u001b[0;34m,\u001b[0m \u001b[0mlen\u001b[0m\u001b[0;34m(\u001b[0m\u001b[0msentences\u001b[0m\u001b[0;34m)\u001b[0m\u001b[0;34m)\u001b[0m\u001b[0;34m\u001b[0m\u001b[0m\n\u001b[0m\u001b[1;32m     40\u001b[0m \u001b[0;34m\u001b[0m\u001b[0m\n\u001b[1;32m     41\u001b[0m \u001b[0;31m#     print(y_id_to_word)\u001b[0m\u001b[0;34m\u001b[0m\u001b[0;34m\u001b[0m\u001b[0m\n",
      "\u001b[0;32m/storage/xalex/anaconda3/envs/aind-nlp-capstone/lib/python3.5/site-packages/keras/models.py\u001b[0m in \u001b[0;36mpredict\u001b[0;34m(self, x, batch_size, verbose)\u001b[0m\n\u001b[1;32m    911\u001b[0m         \u001b[0;32mif\u001b[0m \u001b[0;32mnot\u001b[0m \u001b[0mself\u001b[0m\u001b[0;34m.\u001b[0m\u001b[0mbuilt\u001b[0m\u001b[0;34m:\u001b[0m\u001b[0;34m\u001b[0m\u001b[0m\n\u001b[1;32m    912\u001b[0m             \u001b[0mself\u001b[0m\u001b[0;34m.\u001b[0m\u001b[0mbuild\u001b[0m\u001b[0;34m(\u001b[0m\u001b[0;34m)\u001b[0m\u001b[0;34m\u001b[0m\u001b[0m\n\u001b[0;32m--> 913\u001b[0;31m         \u001b[0;32mreturn\u001b[0m \u001b[0mself\u001b[0m\u001b[0;34m.\u001b[0m\u001b[0mmodel\u001b[0m\u001b[0;34m.\u001b[0m\u001b[0mpredict\u001b[0m\u001b[0;34m(\u001b[0m\u001b[0mx\u001b[0m\u001b[0;34m,\u001b[0m \u001b[0mbatch_size\u001b[0m\u001b[0;34m=\u001b[0m\u001b[0mbatch_size\u001b[0m\u001b[0;34m,\u001b[0m \u001b[0mverbose\u001b[0m\u001b[0;34m=\u001b[0m\u001b[0mverbose\u001b[0m\u001b[0;34m)\u001b[0m\u001b[0;34m\u001b[0m\u001b[0m\n\u001b[0m\u001b[1;32m    914\u001b[0m \u001b[0;34m\u001b[0m\u001b[0m\n\u001b[1;32m    915\u001b[0m     \u001b[0;32mdef\u001b[0m \u001b[0mpredict_on_batch\u001b[0m\u001b[0;34m(\u001b[0m\u001b[0mself\u001b[0m\u001b[0;34m,\u001b[0m \u001b[0mx\u001b[0m\u001b[0;34m)\u001b[0m\u001b[0;34m:\u001b[0m\u001b[0;34m\u001b[0m\u001b[0m\n",
      "\u001b[0;32m/storage/xalex/anaconda3/envs/aind-nlp-capstone/lib/python3.5/site-packages/keras/engine/training.py\u001b[0m in \u001b[0;36mpredict\u001b[0;34m(self, x, batch_size, verbose, steps)\u001b[0m\n\u001b[1;32m   1693\u001b[0m         x = _standardize_input_data(x, self._feed_input_names,\n\u001b[1;32m   1694\u001b[0m                                     \u001b[0mself\u001b[0m\u001b[0;34m.\u001b[0m\u001b[0m_feed_input_shapes\u001b[0m\u001b[0;34m,\u001b[0m\u001b[0;34m\u001b[0m\u001b[0m\n\u001b[0;32m-> 1695\u001b[0;31m                                     check_batch_axis=False)\n\u001b[0m\u001b[1;32m   1696\u001b[0m         \u001b[0;32mif\u001b[0m \u001b[0mself\u001b[0m\u001b[0;34m.\u001b[0m\u001b[0mstateful\u001b[0m\u001b[0;34m:\u001b[0m\u001b[0;34m\u001b[0m\u001b[0m\n\u001b[1;32m   1697\u001b[0m             \u001b[0;32mif\u001b[0m \u001b[0mx\u001b[0m\u001b[0;34m[\u001b[0m\u001b[0;36m0\u001b[0m\u001b[0;34m]\u001b[0m\u001b[0;34m.\u001b[0m\u001b[0mshape\u001b[0m\u001b[0;34m[\u001b[0m\u001b[0;36m0\u001b[0m\u001b[0;34m]\u001b[0m \u001b[0;34m>\u001b[0m \u001b[0mbatch_size\u001b[0m \u001b[0;32mand\u001b[0m \u001b[0mx\u001b[0m\u001b[0;34m[\u001b[0m\u001b[0;36m0\u001b[0m\u001b[0;34m]\u001b[0m\u001b[0;34m.\u001b[0m\u001b[0mshape\u001b[0m\u001b[0;34m[\u001b[0m\u001b[0;36m0\u001b[0m\u001b[0;34m]\u001b[0m \u001b[0;34m%\u001b[0m \u001b[0mbatch_size\u001b[0m \u001b[0;34m!=\u001b[0m \u001b[0;36m0\u001b[0m\u001b[0;34m:\u001b[0m\u001b[0;34m\u001b[0m\u001b[0m\n",
      "\u001b[0;32m/storage/xalex/anaconda3/envs/aind-nlp-capstone/lib/python3.5/site-packages/keras/engine/training.py\u001b[0m in \u001b[0;36m_standardize_input_data\u001b[0;34m(data, names, shapes, check_batch_axis, exception_prefix)\u001b[0m\n\u001b[1;32m    142\u001b[0m                             \u001b[0;34m' to have shape '\u001b[0m \u001b[0;34m+\u001b[0m \u001b[0mstr\u001b[0m\u001b[0;34m(\u001b[0m\u001b[0mshapes\u001b[0m\u001b[0;34m[\u001b[0m\u001b[0mi\u001b[0m\u001b[0;34m]\u001b[0m\u001b[0;34m)\u001b[0m \u001b[0;34m+\u001b[0m\u001b[0;34m\u001b[0m\u001b[0m\n\u001b[1;32m    143\u001b[0m                             \u001b[0;34m' but got array with shape '\u001b[0m \u001b[0;34m+\u001b[0m\u001b[0;34m\u001b[0m\u001b[0m\n\u001b[0;32m--> 144\u001b[0;31m                             str(array.shape))\n\u001b[0m\u001b[1;32m    145\u001b[0m     \u001b[0;32mreturn\u001b[0m \u001b[0marrays\u001b[0m\u001b[0;34m\u001b[0m\u001b[0m\n\u001b[1;32m    146\u001b[0m \u001b[0;34m\u001b[0m\u001b[0m\n",
      "\u001b[0;31mValueError\u001b[0m: Error when checking : expected reshape_20_input to have shape (None, 21) but got array with shape (2, 15)"
     ]
    }
   ],
   "source": [
    "import numpy as np\n",
    "from keras.preprocessing.sequence import pad_sequences\n",
    "\n",
    "\n",
    "def final_predictions(x, y, x_tk, y_tk):\n",
    "    \"\"\"\n",
    "    Gets predictions using the final model\n",
    "    :param x: Preprocessed English data\n",
    "    :param y: Preprocessed French data\n",
    "    :param x_tk: English tokenizer\n",
    "    :param y_tk: French tokenizer\n",
    "    \"\"\"\n",
    "    # TODO: Train neural network using model_final\n",
    "#    tmp_x = pad(x, y.shape[1])\n",
    "\n",
    "    # Train the neural network\n",
    "    \"\"\"\n",
    "    model = bd_model(\n",
    "        tmp_x.shape,\n",
    "        y.shape[1],\n",
    "        len(x_tk.word_index)+1,\n",
    "        len(y_tk.word_index)+1)\n",
    "\n",
    "    model.fit(tmp_x, y, batch_size=1024, epochs=10, validation_split=0.2)\n",
    "    \"\"\"\n",
    "    model=final_model\n",
    "    \n",
    "    ## DON'T EDIT ANYTHING BELOW THIS LINE\n",
    "    y_id_to_word = {value: key for key, value in y_tk.word_index.items()}\n",
    "    y_id_to_word[0] = '<PAD>'\n",
    "\n",
    "    sentence = 'he saw a old yellow truck'\n",
    "    sentence = [x_tk.word_index[word] for word in sentence.split()]\n",
    "    sentence = pad_sequences([sentence], maxlen=x.shape[-1], padding='post')\n",
    "    #sentence = pad_sequences([sentence], maxlen=21, padding='post')\n",
    "    sentences = np.array([sentence[0], x[0]])\n",
    "    #predictions=[[[2,3,4,5],[1,2,6,7,8]], [[3,4,5,6,7,8],[5,8,9,0]]]\n",
    "    print(sentences)\n",
    "    predictions = model.predict(sentences, len(sentences))\n",
    "\n",
    "#     print(y_id_to_word)\n",
    "    print(sentences)\n",
    "    print([[np.argmax(x)] for x in predictions[0]])\n",
    "    print('Sample 1:')\n",
    "    print(predictions[0])\n",
    "    #print(y_id_to_word[predictions[0][0]])\n",
    "    print(' '.join([y_id_to_word[np.argmax(x)] for x in predictions[0]]))\n",
    "    print('Il a vu un vieux camion jaune')\n",
    "    print('Sample 2:')\n",
    "    print(' '.join([y_id_to_word[np.argmax(x)] for x in predictions[1]]))\n",
    "    print(' '.join([y_id_to_word[np.argmax(x)] for x in y[0]]))\n",
    "\n",
    "\n",
    "final_predictions(preproc_english_sentences, preproc_french_sentences, english_tokenizer, french_tokenizer)"
   ]
  },
  {
   "cell_type": "markdown",
   "metadata": {},
   "source": [
    "## Submission\n",
    "When you are ready to submit your project, do the following steps:\n",
    "1. Ensure you pass all points on the [rubric](https://review.udacity.com/#!/rubrics/1004/view).\n",
    "2. Submit the following in a zip file.\n",
    "  - `helper.py`\n",
    "  - `machine_translation.ipynb`\n",
    "  - `machine_translation.html`\n",
    "    - You can export the notebook by navigating to **File -> Download as -> HTML (.html)**."
   ]
  }
 ],
 "metadata": {
  "kernelspec": {
   "display_name": "Python 3",
   "language": "python",
   "name": "python3"
  },
  "language_info": {
   "codemirror_mode": {
    "name": "ipython",
    "version": 3
   },
   "file_extension": ".py",
   "mimetype": "text/x-python",
   "name": "python",
   "nbconvert_exporter": "python",
   "pygments_lexer": "ipython3",
   "version": "3.5.4"
  }
 },
 "nbformat": 4,
 "nbformat_minor": 1
}
