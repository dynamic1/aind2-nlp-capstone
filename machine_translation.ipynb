{
 "cells": [
  {
   "cell_type": "markdown",
   "metadata": {
    "collapsed": true
   },
   "source": [
    "# Artificial Intelligence Nanodegree\n",
    "## Machine Translation Project\n",
    "In this notebook, sections that end with **'(IMPLEMENTATION)'** in the header indicate that the following blocks of code will require additional functionality which you must provide. Please be sure to read the instructions carefully!\n",
    "\n",
    "## Introduction\n",
    "In this notebook, you will build a deep neural network that functions as part of an end-to-end machine translation pipeline. Your completed pipeline will accept English text as input and return the French translation.\n",
    "\n",
    "- **Preprocess** - You'll convert text to sequence of integers.\n",
    "- **Models** Create models which accepts a sequence of integers as input and returns a probability distribution over possible translations. After learning about the basic types of neural networks that are often used for machine translation, you will engage in your own investigations, to design your own model!\n",
    "- **Prediction** Run the model on English text.\n",
    "\n",
    "## Dataset\n",
    "We begin by investigating the dataset that will be used to train and evaluate your pipeline.  The most common datasets used for machine translation are from [WMT](http://www.statmt.org/).  However, that will take a long time to train a neural network on.  We'll be using a dataset we created for this project that contains a small vocabulary.  You'll be able to train your model in a reasonable time with this dataset.\n",
    "### Load Data\n",
    "The data is located in `data/small_vocab_en` and `data/small_vocab_fr`. The `small_vocab_en` file contains English sentences with their French translations in the `small_vocab_fr` file. Load the English and French data from these files from running the cell below."
   ]
  },
  {
   "cell_type": "code",
   "execution_count": 23,
   "metadata": {},
   "outputs": [],
   "source": [
    "# if set to true will cause all the models to be re-trained\n",
    "# if set to false, models will be loaded from weight files (if available)\n",
    "retrain_models = True\n",
    "#retrain_models = True\n"
   ]
  },
  {
   "cell_type": "code",
   "execution_count": 2,
   "metadata": {},
   "outputs": [
    {
     "data": {
      "text/html": [
       "<style>.container { width:100% !important; }</style>"
      ],
      "text/plain": [
       "<IPython.core.display.HTML object>"
      ]
     },
     "metadata": {},
     "output_type": "display_data"
    }
   ],
   "source": [
    "from IPython.core.display import display, HTML\n",
    "\n",
    "def make_page_wide():\n",
    "    display(HTML(\"<style>.container { width:100% !important; }</style>\"))\n",
    "\n",
    "make_page_wide()"
   ]
  },
  {
   "cell_type": "code",
   "execution_count": 3,
   "metadata": {},
   "outputs": [
    {
     "name": "stderr",
     "output_type": "stream",
     "text": [
      "Using TensorFlow backend.\n"
     ]
    },
    {
     "name": "stdout",
     "output_type": "stream",
     "text": [
      "Dataset Loaded\n"
     ]
    }
   ],
   "source": [
    "import helper\n",
    "\n",
    "import keras\n",
    "\n",
    "# Load English data\n",
    "english_sentences = helper.load_data('data/small_vocab_en')\n",
    "# Load French data\n",
    "french_sentences = helper.load_data('data/small_vocab_fr')\n",
    "\n",
    "#print(french_sentences[0:5])\n",
    "print('Dataset Loaded')"
   ]
  },
  {
   "cell_type": "markdown",
   "metadata": {},
   "source": [
    "### Files\n",
    "Each line in `small_vocab_en` contains an English sentence with the respective translation in each line of `small_vocab_fr`.  View the first two lines from each file."
   ]
  },
  {
   "cell_type": "code",
   "execution_count": 4,
   "metadata": {},
   "outputs": [
    {
     "name": "stdout",
     "output_type": "stream",
     "text": [
      "small_vocab_en Line 1:  new jersey is sometimes quiet during autumn , and it is snowy in april .\n",
      "small_vocab_fr Line 1:  new jersey est parfois calme pendant l' automne , et il est neigeux en avril .\n",
      "small_vocab_en Line 2:  the united states is usually chilly during july , and it is usually freezing in november .\n",
      "small_vocab_fr Line 2:  les états-unis est généralement froid en juillet , et il gèle habituellement en novembre .\n"
     ]
    }
   ],
   "source": [
    "for sample_i in range(2):\n",
    "    print('small_vocab_en Line {}:  {}'.format(sample_i + 1, english_sentences[sample_i]))\n",
    "    print('small_vocab_fr Line {}:  {}'.format(sample_i + 1, french_sentences[sample_i]))"
   ]
  },
  {
   "cell_type": "markdown",
   "metadata": {},
   "source": [
    "From looking at the sentences, you can see they have been preprocessed already.  The puncuations have been delimited using spaces. All the text have been converted to lowercase.  This should save you some time, but the text requires more preprocessing.\n",
    "### Vocabulary\n",
    "The complexity of the problem is determined by the complexity of the vocabulary.  A more complex vocabulary is a more complex problem.  Let's look at the complexity of the dataset we'll be working with."
   ]
  },
  {
   "cell_type": "code",
   "execution_count": 5,
   "metadata": {},
   "outputs": [
    {
     "name": "stdout",
     "output_type": "stream",
     "text": [
      "1823250 English words.\n",
      "227 unique English words.\n",
      "10 Most common words in the English dataset:\n",
      "\"is\" \",\" \".\" \"in\" \"it\" \"during\" \"the\" \"but\" \"and\" \"sometimes\"\n",
      "\n",
      "1961295 French words.\n",
      "355 unique French words.\n",
      "10 Most common words in the French dataset:\n",
      "\"est\" \".\" \",\" \"en\" \"il\" \"les\" \"mais\" \"et\" \"la\" \"parfois\"\n"
     ]
    }
   ],
   "source": [
    "import collections\n",
    "\n",
    "\n",
    "english_words_counter = collections.Counter([word for sentence in english_sentences for word in sentence.split()])\n",
    "french_words_counter = collections.Counter([word for sentence in french_sentences for word in sentence.split()])\n",
    "\n",
    "print('{} English words.'.format(len([word for sentence in english_sentences for word in sentence.split()])))\n",
    "print('{} unique English words.'.format(len(english_words_counter)))\n",
    "print('10 Most common words in the English dataset:')\n",
    "print('\"' + '\" \"'.join(list(zip(*english_words_counter.most_common(10)))[0]) + '\"')\n",
    "print()\n",
    "print('{} French words.'.format(len([word for sentence in french_sentences for word in sentence.split()])))\n",
    "print('{} unique French words.'.format(len(french_words_counter)))\n",
    "print('10 Most common words in the French dataset:')\n",
    "print('\"' + '\" \"'.join(list(zip(*french_words_counter.most_common(10)))[0]) + '\"')"
   ]
  },
  {
   "cell_type": "markdown",
   "metadata": {},
   "source": [
    "For comparison, _Alice's Adventures in Wonderland_ contains 2,766 unique words of a total of 15,500 words.\n",
    "## Preprocess\n",
    "For this project, you won't use text data as input to your model. Instead, you'll convert the text into sequences of integers using the following preprocess methods:\n",
    "1. Tokenize the words into ids\n",
    "2. Add padding to make all the sequences the same length.\n",
    "\n",
    "Time to start preprocessing the data...\n",
    "### Tokenize (IMPLEMENTATION)\n",
    "For a neural network to predict on text data, it first has to be turned into data it can understand. Text data like \"dog\" is a sequence of ASCII character encodings.  Since a neural network is a series of multiplication and addition operations, the input data needs to be number(s).\n",
    "\n",
    "We can turn each character into a number or each word into a number.  These are called character and word ids, respectively.  Character ids are used for character level models that generate text predictions for each character.  A word level model uses word ids that generate text predictions for each word.  Word level models tend to learn better, since they are lower in complexity, so we'll use those.\n",
    "\n",
    "Turn each sentence into a sequence of words ids using Keras's [`Tokenizer`](https://keras.io/preprocessing/text/#tokenizer) function. Use this function to tokenize `english_sentences` and `french_sentences` in the cell below.\n",
    "\n",
    "Running the cell will run `tokenize` on sample data and show output for debugging."
   ]
  },
  {
   "cell_type": "code",
   "execution_count": 6,
   "metadata": {},
   "outputs": [
    {
     "name": "stdout",
     "output_type": "stream",
     "text": [
      "{'is': 19, 'won': 16, 'lexicography': 15, 'quick': 2, 'lazy': 8, 'sentence': 21, 'over': 7, 'dog': 9, 'prize': 17, 'jove': 11, 'my': 12, 'fox': 5, 'of': 14, 'short': 20, 'jumps': 6, 'a': 3, 'by': 10, 'this': 18, 'the': 1, 'study': 13, 'brown': 4}\n",
      "\n",
      "Sequence 1 in x\n",
      "  Input:  The quick brown fox jumps over the lazy dog .\n",
      "  Output: [1, 2, 4, 5, 6, 7, 1, 8, 9]\n",
      "Sequence 2 in x\n",
      "  Input:  By Jove , my quick study of lexicography won a prize .\n",
      "  Output: [10, 11, 12, 2, 13, 14, 15, 16, 3, 17]\n",
      "Sequence 3 in x\n",
      "  Input:  This is a short sentence .\n",
      "  Output: [18, 19, 3, 20, 21]\n"
     ]
    }
   ],
   "source": [
    "import project_tests as tests\n",
    "from keras.preprocessing.text import Tokenizer\n",
    "\n",
    "\n",
    "def tokenize(x):\n",
    "    \"\"\"\n",
    "    Tokenize x\n",
    "    :param x: List of sentences/strings to be tokenized\n",
    "    :return: Tuple of (tokenized x data, tokenizer used to tokenize x)\n",
    "    \"\"\"\n",
    "    # TODO: Implement\n",
    "    \n",
    "    tokenizer = Tokenizer()\n",
    "    tokenizer.fit_on_texts(x)\n",
    "    #print(tokenizer.word_index)\n",
    "    sequences = tokenizer.texts_to_sequences(x)\n",
    "    \n",
    "    return sequences, tokenizer\n",
    "\n",
    "tests.test_tokenize(tokenize)\n",
    "\n",
    "# Tokenize Example output\n",
    "text_sentences = [\n",
    "    'The quick brown fox jumps over the lazy dog .',\n",
    "    'By Jove , my quick study of lexicography won a prize .',\n",
    "    'This is a short sentence .']\n",
    "text_tokenized, text_tokenizer = tokenize(text_sentences)\n",
    "print(text_tokenizer.word_index)\n",
    "print()\n",
    "for sample_i, (sent, token_sent) in enumerate(zip(text_sentences, text_tokenized)):\n",
    "    print('Sequence {} in x'.format(sample_i + 1))\n",
    "    print('  Input:  {}'.format(sent))\n",
    "    print('  Output: {}'.format(token_sent))"
   ]
  },
  {
   "cell_type": "markdown",
   "metadata": {},
   "source": [
    "### Padding (IMPLEMENTATION)\n",
    "When batching the sequence of word ids together, each sequence needs to be the same length.  Since sentences are dynamic in length, we can add padding to the end of the sequences to make them the same length.\n",
    "\n",
    "Make sure all the English sequences have the same length and all the French sequences have the same length by adding padding to the **end** of each sequence using Keras's [`pad_sequences`](https://keras.io/preprocessing/sequence/#pad_sequences) function."
   ]
  },
  {
   "cell_type": "code",
   "execution_count": 7,
   "metadata": {},
   "outputs": [
    {
     "name": "stdout",
     "output_type": "stream",
     "text": [
      "Sequence 1 in x\n",
      "  Input:  [1 2 4 5 6 7 1 8 9]\n",
      "  Output: [1 2 4 5 6 7 1 8 9 0]\n",
      "Sequence 2 in x\n",
      "  Input:  [10 11 12  2 13 14 15 16  3 17]\n",
      "  Output: [10 11 12  2 13 14 15 16  3 17]\n",
      "Sequence 3 in x\n",
      "  Input:  [18 19  3 20 21]\n",
      "  Output: [18 19  3 20 21  0  0  0  0  0]\n"
     ]
    }
   ],
   "source": [
    "import numpy as np\n",
    "from keras.preprocessing.sequence import pad_sequences\n",
    "\n",
    "\n",
    "def pad(x, length=None):\n",
    "    \"\"\"\n",
    "    Pad x\n",
    "    :param x: List of sequences.\n",
    "    :param length: Length to pad the sequence to.  If None, use length of longest sequence in x.\n",
    "    :return: Padded numpy array of sequences\n",
    "    \"\"\"\n",
    "    # TODO: Implement\n",
    "    padded_ar = pad_sequences(x, maxlen=length, padding='post', truncating='post')\n",
    "#     print(padded_ar)\n",
    "    return padded_ar\n",
    "tests.test_pad(pad)\n",
    "\n",
    "# Pad Tokenized output\n",
    "test_pad = pad(text_tokenized)\n",
    "for sample_i, (token_sent, pad_sent) in enumerate(zip(text_tokenized, test_pad)):\n",
    "    print('Sequence {} in x'.format(sample_i + 1))\n",
    "    print('  Input:  {}'.format(np.array(token_sent)))\n",
    "    print('  Output: {}'.format(pad_sent))"
   ]
  },
  {
   "cell_type": "markdown",
   "metadata": {},
   "source": [
    "### Preprocess Pipeline\n",
    "Your focus for this project is to build neural network architecture, so we won't ask you to create a preprocess pipeline.  Instead, we've provided you with the implementation of the `preprocess` function."
   ]
  },
  {
   "cell_type": "code",
   "execution_count": 8,
   "metadata": {},
   "outputs": [
    {
     "name": "stdout",
     "output_type": "stream",
     "text": [
      "the united states is usually chilly during july , and it is usually freezing in november .\n",
      "les états-unis est généralement froid en juillet , et il gèle habituellement en novembre .\n"
     ]
    }
   ],
   "source": [
    "print(english_sentences[1])\n",
    "print(french_sentences[1])"
   ]
  },
  {
   "cell_type": "code",
   "execution_count": 9,
   "metadata": {},
   "outputs": [
    {
     "name": "stdout",
     "output_type": "stream",
     "text": [
      "Data Preprocessed\n"
     ]
    }
   ],
   "source": [
    "def preprocess(x, y):\n",
    "    \"\"\"\n",
    "    Preprocess x and y\n",
    "    :param x: Feature List of sentences\n",
    "    :param y: Label List of sentences\n",
    "    :return: Tuple of (Preprocessed x, Preprocessed y, x tokenizer, y tokenizer)\n",
    "    \"\"\"\n",
    "    preprocess_x, x_tk = tokenize(x)\n",
    "    preprocess_y, y_tk = tokenize(y)\n",
    "\n",
    "    \n",
    "    preprocess_x = pad(preprocess_x)\n",
    "    preprocess_y = pad(preprocess_y)\n",
    "\n",
    "    # Keras's sparse_categorical_crossentropy function requires the labels to be in 3 dimensions\n",
    "    preprocess_y = preprocess_y.reshape(*preprocess_y.shape, 1)\n",
    "\n",
    "    return preprocess_x, preprocess_y, x_tk, y_tk\n",
    "\n",
    "preproc_english_sentences, preproc_french_sentences, english_tokenizer, french_tokenizer =\\\n",
    "    preprocess(english_sentences, french_sentences)\n",
    "\n",
    "\n",
    "print('Data Preprocessed')"
   ]
  },
  {
   "cell_type": "code",
   "execution_count": 10,
   "metadata": {},
   "outputs": [],
   "source": [
    "# tmp_x = None\n",
    "# tmp_y = None\n",
    "tmp_x, tmp_x_tk = tokenize(english_sentences)\n",
    "tmp_y, tmp_y_tk = tokenize(french_sentences)\n"
   ]
  },
  {
   "cell_type": "code",
   "execution_count": 11,
   "metadata": {},
   "outputs": [
    {
     "name": "stdout",
     "output_type": "stream",
     "text": [
      "the united states is usually chilly during july , and it is usually freezing in november .\n",
      "les états-unis est généralement froid en juillet , et il gèle habituellement en novembre .\n",
      "(137861, 15)\n",
      "(137861, 21, 1)\n",
      "longest english sentence: len=15, idx=137834\n",
      "[5, 20, 21, 1, 9, 62, 4, 36, 6, 3, 1, 10, 65, 2, 48]\n",
      "the united states is usually chilly during january , but it is never wet in february .\n",
      "les états-unis est généralement froid en janvier , mais il est jamais humide en février .\n",
      "longest frenech sentence: len=21, idx=123825\n",
      "[4, 32, 31, 1, 9, 26, 63, 15, 111, 22, 11, 24, 5, 3, 105, 103, 9, 19, 26, 11, 24]\n",
      "the united states is never dry during autumn , but it is never cold in fall .\n",
      "les états-unis est jamais à sec au cours de l' automne , mais il ne fait jamais froid à l' automne .\n"
     ]
    }
   ],
   "source": [
    "print(english_sentences[1])\n",
    "print(french_sentences[1])\n",
    "\n",
    "print(preproc_english_sentences.shape)\n",
    "print(preproc_french_sentences.shape)\n",
    "\n",
    "max_len_e, idx_max_len_e = max([ (len(s), index) for (index,s) in enumerate(tmp_x)])\n",
    "max_len_f, idx_max_len_f = max([ (len(s), index) for (index,s) in enumerate(tmp_y)])\n",
    "\n",
    "print(\"longest english sentence: len={max_len_e}, idx={idx_max_len_e}\".format(max_len_e=max_len_e, idx_max_len_e=idx_max_len_e))\n",
    "print(tmp_x[idx_max_len_e])\n",
    "print(english_sentences[idx_max_len_e])\n",
    "print(french_sentences[idx_max_len_e])\n",
    "\n",
    "print(\"longest frenech sentence: len={max_len_f}, idx={idx_max_len_f}\".format(max_len_f=max_len_f, idx_max_len_f=idx_max_len_f))\n",
    "print(tmp_y[idx_max_len_f])\n",
    "print(english_sentences[idx_max_len_f])\n",
    "print(french_sentences[idx_max_len_f])"
   ]
  },
  {
   "cell_type": "code",
   "execution_count": 14,
   "metadata": {},
   "outputs": [
    {
     "data": {
      "image/png": "[encoded data removed]",
      "text/plain": [
       "<matplotlib.figure.Figure at 0x7f45e683aac8>"
      ]
     },
     "metadata": {},
     "output_type": "display_data"
    }
   ],
   "source": [
    "import matplotlib\n",
    "import matplotlib.pyplot as plt\n",
    "\n",
    "%matplotlib inline\n",
    "\n",
    "#distribution of length of english senetecens\n",
    "plt.hist([len(s) for s in tmp_x], bins=range(25))\n",
    "plt.title(\"Distribution of length of English senetecens\")\n",
    "plt.show()"
   ]
  },
  {
   "cell_type": "code",
   "execution_count": 15,
   "metadata": {},
   "outputs": [
    {
     "data": {
      "text/plain": [
       "Text(0.5,1,'Distribution of length of French sentences')"
      ]
     },
     "execution_count": 15,
     "metadata": {},
     "output_type": "execute_result"
    },
    {
     "data": {
      "image/png": "[encoded data removed]",
      "text/plain": [
       "<matplotlib.figure.Figure at 0x7f45e683a3c8>"
      ]
     },
     "metadata": {},
     "output_type": "display_data"
    }
   ],
   "source": [
    "# dsitribution of length of french sentences\n",
    "plt.hist([len(s) for s in tmp_y], bins=range(25))\n",
    "plt.title(\"Distribution of length of French sentences\")"
   ]
  },
  {
   "cell_type": "markdown",
   "metadata": {},
   "source": [
    "## Models\n",
    "In this section, you will experiment with various neural network architectures.\n",
    "You will begin by training four relatively simple architectures.\n",
    "- Model 1 is a simple RNN\n",
    "- Model 2 is a RNN with Embedding\n",
    "- Model 3 is a Bidirectional RNN\n",
    "- Model 4 is an optional Encoder-Decoder RNN\n",
    "\n",
    "After experimenting with the four simple architectures, you will construct a deeper architecture that is designed to outperform all four models.\n",
    "### Ids Back to Text\n",
    "The neural network will be translating the input to words ids, which isn't the final form we want.  We want the French translation.  The function `logits_to_text` will bridge the gab between the logits from the neural network to the French translation.  You'll be using this function to better understand the output of the neural network."
   ]
  },
  {
   "cell_type": "code",
   "execution_count": 16,
   "metadata": {},
   "outputs": [
    {
     "name": "stdout",
     "output_type": "stream",
     "text": [
      "`logits_to_text` function loaded.\n"
     ]
    }
   ],
   "source": [
    "def logits_to_text(logits, tokenizer):\n",
    "    \"\"\"\n",
    "    Turn logits from a neural network into text using the tokenizer\n",
    "    :param logits: Logits from a neural network\n",
    "    :param tokenizer: Keras Tokenizer fit on the labels\n",
    "    :return: String that represents the text of the logits\n",
    "    \"\"\"\n",
    "    index_to_words = {id: word for word, id in tokenizer.word_index.items()}\n",
    "    index_to_words[0] = '<PAD>'\n",
    "\n",
    "    return ' '.join([index_to_words[prediction] for prediction in np.argmax(logits, 1)])\n",
    "\n",
    "print('`logits_to_text` function loaded.')"
   ]
  },
  {
   "cell_type": "code",
   "execution_count": 19,
   "metadata": {},
   "outputs": [],
   "source": [
    "import random\n",
    "\n",
    "# I will use this function to print random sentences translated by the models below\n",
    "def print_translations(model, x, y, y_tk, how_many=5, indexes=[]):\n",
    "    try:\n",
    "        how_many = int(how_many)\n",
    "    except ValueError:\n",
    "        how_many = 5\n",
    "        \n",
    "    if type(indexes)!=list or len(indexes)==0:\n",
    "        indexes = random.sample(range(1, len(x)), how_many)\n",
    "        \n",
    "    for idx in indexes:\n",
    "        print(\"english: {}\".format(x[idx]))\n",
    "        predictions = model.predict(y[idx:idx+1])\n",
    "        for prediction_idx in range(predictions.shape[0]):\n",
    "            print(\"french:  {pred}\".format(prediction_idx=prediction_idx, pred=logits_to_text(predictions[prediction_idx], y_tk)))\n",
    "        print()\n",
    "    "
   ]
  },
  {
   "cell_type": "code",
   "execution_count": 20,
   "metadata": {},
   "outputs": [],
   "source": [
    "from keras.callbacks import ModelCheckpoint\n",
    "\n",
    "def create_checkpoint_callback(filename):\n",
    "    return ModelCheckpoint(filename, monitor='val_acc', verbose=1, save_best_only=True)"
   ]
  },
  {
   "cell_type": "markdown",
   "metadata": {},
   "source": [
    "### Model 1: RNN (IMPLEMENTATION)\n",
    "![RNN](images/rnn.png)\n",
    "A basic RNN model is a good baseline for sequence data.  In this model, you'll build a RNN that translates English to French."
   ]
  },
  {
   "cell_type": "code",
   "execution_count": 31,
   "metadata": {
    "scrolled": false
   },
   "outputs": [
    {
     "name": "stdout",
     "output_type": "stream",
     "text": [
      "input_shape=(137861, 21, 1)\n",
      "output_sequence_length=21\n",
      "english_vocab_size=199\n",
      "french_vocab_size=344\n",
      "input_shape=(137861, 21, 1)\n",
      "output_sequence_length=21\n",
      "english_vocab_size=199\n",
      "french_vocab_size=344\n",
      "_________________________________________________________________\n",
      "Layer (type)                 Output Shape              Param #   \n",
      "=================================================================\n",
      "input_layer (InputLayer)     (None, 21, 1)             0         \n",
      "_________________________________________________________________\n",
      "gru_layer (GRU)              (None, 21, 200)           121200    \n",
      "_________________________________________________________________\n",
      "prediction_layer (Dense)     (None, 21, 344)           69144     \n",
      "=================================================================\n",
      "Total params: 190,344\n",
      "Trainable params: 190,344\n",
      "Non-trainable params: 0\n",
      "_________________________________________________________________\n",
      "None\n"
     ]
    }
   ],
   "source": [
    "from keras.layers import GRU, Input, Dense, TimeDistributed\n",
    "from keras.models import Model\n",
    "from keras.layers import Activation\n",
    "from keras.optimizers import Adam\n",
    "from keras.losses import sparse_categorical_crossentropy\n",
    "\n",
    "\n",
    "def simple_model(input_shape, output_sequence_length, english_vocab_size, french_vocab_size):\n",
    "    \"\"\"\n",
    "    Build and train a basic RNN on x and y\n",
    "    :param input_shape: Tuple of input shape\n",
    "    :param output_sequence_length: Length of output sequence\n",
    "    :param english_vocab_size: Number of unique English words in the dataset\n",
    "    :param french_vocab_size: Number of unique French words in the dataset\n",
    "    :return: Keras model built, but not trained\n",
    "    \"\"\"\n",
    "    # TODO: Build the layers\n",
    "    print(\"input_shape={}\".format(input_shape))\n",
    "    print(\"output_sequence_length={}\".format(output_sequence_length))\n",
    "    print(\"english_vocab_size={}\".format(english_vocab_size))\n",
    "    print(\"french_vocab_size={}\".format(french_vocab_size))\n",
    "    \n",
    "    \n",
    "    input_sequences = Input(shape=(21,1), name='input_layer')\n",
    "    \n",
    "    #gru = GRU(units=french_vocab_size+1, return_sequences=True, name='gru_layer')(input_sequences)\n",
    "    #predictions = TimeDistributed(Dense(units=french_vocab_size+1, input_shape=(21,french_vocab_size+1), name='dense_td'), name='time_distributed')(gru)\n",
    "    #model = Model(inputs = input_sequences, outputs=predictions)\n",
    "    \n",
    "    #gru = GRU(units=french_vocab_size+1, return_sequences=True, name='gru_layer')(input_sequences)\n",
    "    gru = GRU(units=200, return_sequences=True, name='gru_layer')(input_sequences)\n",
    "    #predictions = TimeDistributed(Dense(units=french_vocab_size+1, input_shape=(21,french_vocab_size+1), name='dense_td'), name='time_distributed')(gru)\n",
    "    predictions=Dense(french_vocab_size, activation='softmax', name='prediction_layer')(gru)\n",
    "    model = Model(inputs = input_sequences, outputs=predictions)\n",
    "    \n",
    "    learning_rate=0.05\n",
    "    model.compile(loss=sparse_categorical_crossentropy,\n",
    "                 optimizer=Adam(learning_rate),\n",
    "                 metrics=['accuracy'])\n",
    "#     print( model.summary())\n",
    "    return model\n",
    "\n",
    "tests.test_simple_model(simple_model)\n",
    "\n",
    "# Reshaping the input to work with a basic RNN\n",
    "tmp_x = pad(preproc_english_sentences, preproc_french_sentences.shape[1])\n",
    "tmp_x = tmp_x.reshape((-1, preproc_french_sentences.shape[-2], 1))\n",
    "\n",
    "# Train the neural network\n",
    "simple_rnn_model = simple_model(\n",
    "    tmp_x.shape,\n",
    "    preproc_french_sentences.shape[1],\n",
    "    len(english_tokenizer.word_index),\n",
    "    len(french_tokenizer.word_index))\n",
    "\n",
    "print(simple_rnn_model.summary())"
   ]
  },
  {
   "cell_type": "code",
   "execution_count": 22,
   "metadata": {},
   "outputs": [
    {
     "name": "stdout",
     "output_type": "stream",
     "text": [
      "model loaded and ready to use\n"
     ]
    }
   ],
   "source": [
    "simple_rnn_is_fit = False\n",
    "try:\n",
    "    simple_rnn_model.load_weights('model_simple.hdf5')\n",
    "    print('model loaded and ready to use')\n",
    "    simple_rnn_is_fit = True\n",
    "except OSError:\n",
    "    print('model needs trainig')\n",
    "except ValueError:\n",
    "    print('different model, needs training')\n"
   ]
  },
  {
   "cell_type": "code",
   "execution_count": 32,
   "metadata": {},
   "outputs": [
    {
     "name": "stdout",
     "output_type": "stream",
     "text": [
      "Train on 110288 samples, validate on 27573 samples\n",
      "Epoch 1/20\n",
      "109568/110288 [============================>.] - ETA: 0s - loss: 1.6938 - acc: 0.5870Epoch 00000: val_acc improved from -inf to 0.65348, saving model to model_simple.hdf5\n",
      "110288/110288 [==============================] - 11s - loss: 1.6907 - acc: 0.5874 - val_loss: nan - val_acc: 0.6535\n",
      "Epoch 2/20\n",
      "109568/110288 [============================>.] - ETA: 0s - loss: 1.1485 - acc: 0.6571Epoch 00001: val_acc improved from 0.65348 to 0.66478, saving model to model_simple.hdf5\n",
      "110288/110288 [==============================] - 10s - loss: 1.1483 - acc: 0.6572 - val_loss: nan - val_acc: 0.6648\n",
      "Epoch 3/20\n",
      "109568/110288 [============================>.] - ETA: 0s - loss: 1.0688 - acc: 0.6666Epoch 00002: val_acc did not improve\n",
      "110288/110288 [==============================] - 10s - loss: 1.0686 - acc: 0.6666 - val_loss: nan - val_acc: 0.6646\n",
      "Epoch 4/20\n",
      "109568/110288 [============================>.] - ETA: 0s - loss: 1.0161 - acc: 0.6756Epoch 00003: val_acc improved from 0.66478 to 0.68392, saving model to model_simple.hdf5\n",
      "110288/110288 [==============================] - 10s - loss: 1.0160 - acc: 0.6756 - val_loss: nan - val_acc: 0.6839\n",
      "Epoch 5/20\n",
      "109568/110288 [============================>.] - ETA: 0s - loss: 0.9687 - acc: 0.6856Epoch 00004: val_acc did not improve\n",
      "110288/110288 [==============================] - 10s - loss: 0.9690 - acc: 0.6855 - val_loss: nan - val_acc: 0.6720\n",
      "Epoch 6/20\n",
      "109568/110288 [============================>.] - ETA: 0s - loss: 0.9549 - acc: 0.6898Epoch 00005: val_acc improved from 0.68392 to 0.68974, saving model to model_simple.hdf5\n",
      "110288/110288 [==============================] - 10s - loss: 0.9548 - acc: 0.6899 - val_loss: nan - val_acc: 0.6897\n",
      "Epoch 7/20\n",
      "109568/110288 [============================>.] - ETA: 0s - loss: 0.9488 - acc: 0.6921Epoch 00006: val_acc did not improve\n",
      "110288/110288 [==============================] - 10s - loss: 0.9489 - acc: 0.6920 - val_loss: nan - val_acc: 0.6876\n",
      "Epoch 8/20\n",
      "109568/110288 [============================>.] - ETA: 0s - loss: 0.9403 - acc: 0.6945Epoch 00007: val_acc improved from 0.68974 to 0.71000, saving model to model_simple.hdf5\n",
      "110288/110288 [==============================] - 10s - loss: 0.9402 - acc: 0.6945 - val_loss: nan - val_acc: 0.7100\n",
      "Epoch 9/20\n",
      "109568/110288 [============================>.] - ETA: 0s - loss: 0.9291 - acc: 0.6965Epoch 00008: val_acc did not improve\n",
      "110288/110288 [==============================] - 10s - loss: 0.9290 - acc: 0.6965 - val_loss: nan - val_acc: 0.7026\n",
      "Epoch 10/20\n",
      "109568/110288 [============================>.] - ETA: 0s - loss: 0.9086 - acc: 0.7021Epoch 00009: val_acc did not improve\n",
      "110288/110288 [==============================] - 10s - loss: 0.9088 - acc: 0.7021 - val_loss: nan - val_acc: 0.7059\n",
      "Epoch 11/20\n",
      "109568/110288 [============================>.] - ETA: 0s - loss: 0.9127 - acc: 0.7029Epoch 00010: val_acc did not improve\n",
      "110288/110288 [==============================] - 10s - loss: 0.9129 - acc: 0.7029 - val_loss: nan - val_acc: 0.7050\n",
      "Epoch 12/20\n",
      "109568/110288 [============================>.] - ETA: 0s - loss: 0.9030 - acc: 0.7046Epoch 00011: val_acc did not improve\n",
      "110288/110288 [==============================] - 10s - loss: 0.9030 - acc: 0.7046 - val_loss: nan - val_acc: 0.7085\n",
      "Epoch 13/20\n",
      "109568/110288 [============================>.] - ETA: 0s - loss: 0.8772 - acc: 0.7123Epoch 00012: val_acc improved from 0.71000 to 0.72252, saving model to model_simple.hdf5\n",
      "110288/110288 [==============================] - 10s - loss: 0.8769 - acc: 0.7124 - val_loss: nan - val_acc: 0.7225\n",
      "Epoch 14/20\n",
      "109568/110288 [============================>.] - ETA: 0s - loss: 0.8822 - acc: 0.7107Epoch 00013: val_acc did not improve\n",
      "110288/110288 [==============================] - 10s - loss: 0.8820 - acc: 0.7107 - val_loss: nan - val_acc: 0.6923\n",
      "Epoch 15/20\n",
      "109568/110288 [============================>.] - ETA: 0s - loss: 0.8653 - acc: 0.7160Epoch 00014: val_acc improved from 0.72252 to 0.72359, saving model to model_simple.hdf5\n",
      "110288/110288 [==============================] - 10s - loss: 0.8654 - acc: 0.7161 - val_loss: nan - val_acc: 0.7236\n",
      "Epoch 16/20\n",
      "109568/110288 [============================>.] - ETA: 0s - loss: 0.8780 - acc: 0.7138Epoch 00015: val_acc did not improve\n",
      "110288/110288 [==============================] - 10s - loss: 0.8780 - acc: 0.7138 - val_loss: nan - val_acc: 0.7118\n",
      "Epoch 17/20\n",
      "109568/110288 [============================>.] - ETA: 0s - loss: 0.8809 - acc: 0.7184Epoch 00016: val_acc did not improve\n",
      "110288/110288 [==============================] - 10s - loss: 0.8811 - acc: 0.7183 - val_loss: nan - val_acc: 0.7145\n",
      "Epoch 18/20\n",
      "109568/110288 [============================>.] - ETA: 0s - loss: 0.9017 - acc: 0.7183Epoch 00017: val_acc improved from 0.72359 to 0.72635, saving model to model_simple.hdf5\n",
      "110288/110288 [==============================] - 10s - loss: 0.9015 - acc: 0.7184 - val_loss: nan - val_acc: 0.7263\n",
      "Epoch 19/20\n",
      "109568/110288 [============================>.] - ETA: 0s - loss: 0.8655 - acc: 0.7292Epoch 00018: val_acc did not improve\n",
      "110288/110288 [==============================] - 10s - loss: 0.8656 - acc: 0.7292 - val_loss: nan - val_acc: 0.7223\n",
      "Epoch 20/20\n",
      "109568/110288 [============================>.] - ETA: 0s - loss: 0.8775 - acc: 0.7202Epoch 00019: val_acc did not improve\n",
      "110288/110288 [==============================] - 10s - loss: 0.8777 - acc: 0.7201 - val_loss: nan - val_acc: 0.7169\n",
      "new jersey is sometimes quiet during autumn , and it is snowy in april .\n",
      "new jersey est parfois chaud en l' automne il est il en juillet <PAD> <PAD> <PAD> <PAD> <PAD> <PAD> <PAD> <PAD>\n"
     ]
    }
   ],
   "source": [
    "if not simple_rnn_is_fit or retrain_models:\n",
    "    simple_rnn_model.fit(tmp_x, preproc_french_sentences, batch_size=1024, epochs=20, validation_split=0.2, \\\n",
    "                         callbacks=[create_checkpoint_callback('model_simple.hdf5')])\n",
    "\n",
    "# Print prediction(s)\n",
    "print(english_sentences[0])\n",
    "print(logits_to_text(simple_rnn_model.predict(tmp_x[:1])[0], french_tokenizer))"
   ]
  },
  {
   "cell_type": "code",
   "execution_count": 33,
   "metadata": {},
   "outputs": [
    {
     "name": "stdout",
     "output_type": "stream",
     "text": [
      "english: china is usually wonderful during august , but it is sometimes cold in october .\n",
      "french:  chine est est généralement merveilleux mois mois d' août il est est froid en octobre <PAD> <PAD> <PAD> <PAD> <PAD> <PAD>\n",
      "\n",
      "english: she liked a big yellow truck .\n",
      "french:  elle aimait cette voiture voiture voiture <PAD> <PAD> <PAD> <PAD> <PAD> <PAD> <PAD> <PAD> <PAD> <PAD> <PAD> <PAD> <PAD> <PAD> <PAD>\n",
      "\n",
      "english: she dislikes strawberries , grapes , and peaches .\n",
      "french:  elle déteste les oranges les citrons et les mangues <PAD> <PAD> <PAD> <PAD> <PAD> <PAD> <PAD> <PAD> <PAD> <PAD> <PAD> <PAD>\n",
      "\n",
      "english: india is never dry during winter , but it is sometimes rainy in fall .\n",
      "french:  l' inde est jamais sec pendant l' mais mais il parfois pluvieux à l' <PAD> <PAD> <PAD> <PAD> <PAD> <PAD> <PAD>\n",
      "\n",
      "english: he likes oranges , grapes , and peaches .\n",
      "french:  elle aime les oranges les citrons et les mangues <PAD> <PAD> <PAD> <PAD> <PAD> <PAD> <PAD> <PAD> <PAD> <PAD> <PAD> <PAD>\n",
      "\n"
     ]
    }
   ],
   "source": [
    "print_translations(simple_rnn_model, english_sentences, tmp_x, french_tokenizer)"
   ]
  },
  {
   "cell_type": "markdown",
   "metadata": {},
   "source": [
    "### Model 2: Embedding (IMPLEMENTATION)\n",
    "![RNN](images/embedding.png)\n",
    "You've turned the words into ids, but there's a better representation of a word.  This is called word embeddings.  An embedding is a vector representation of the word that is close to similar words in n-dimensional space, where the n represents the size of the embedding vectors.\n",
    "\n",
    "In this model, you'll create a RNN model using embedding."
   ]
  },
  {
   "cell_type": "code",
   "execution_count": 51,
   "metadata": {
    "scrolled": false
   },
   "outputs": [
    {
     "name": "stdout",
     "output_type": "stream",
     "text": [
      "input_shape=(137861, 21)\n",
      "output_sequence_length=21\n",
      "english_vocab_size=199\n",
      "french_vocab_size=344\n",
      "input_shape=(137861, 21)\n",
      "output_sequence_length=21\n",
      "english_vocab_size=200\n",
      "french_vocab_size=345\n",
      "_________________________________________________________________\n",
      "Layer (type)                 Output Shape              Param #   \n",
      "=================================================================\n",
      "embedding_layer (Embedding)  (None, 21, 128)           25600     \n",
      "_________________________________________________________________\n",
      "gru_layer (GRU)              (None, 21, 100)           68700     \n",
      "_________________________________________________________________\n",
      "clasification_layer (Dense)  (None, 21, 345)           34845     \n",
      "=================================================================\n",
      "Total params: 129,145\n",
      "Trainable params: 129,145\n",
      "Non-trainable params: 0\n",
      "_________________________________________________________________\n",
      "None\n"
     ]
    }
   ],
   "source": [
    "from keras.layers.embeddings import Embedding\n",
    "from keras.models import Sequential\n",
    "\n",
    "def embed_model(input_shape, output_sequence_length, english_vocab_size, french_vocab_size):\n",
    "    \"\"\"\n",
    "    Build and train a RNN model using word embedding on x and y\n",
    "    :param input_shape: Tuple of input shape\n",
    "    :param output_sequence_length: Length of output sequence\n",
    "    :param english_vocab_size: Number of unique English words in the dataset\n",
    "    :param french_vocab_size: Number of unique French words in the dataset\n",
    "    :return: Keras model built, but not trained\n",
    "    \"\"\"\n",
    "    # TODO: Implement\n",
    "    print(\"input_shape={}\".format(input_shape))\n",
    "    print(\"output_sequence_length={}\".format(output_sequence_length))\n",
    "    print(\"english_vocab_size={}\".format(english_vocab_size))\n",
    "    print(\"french_vocab_size={}\".format(french_vocab_size))\n",
    "\n",
    "    dim_embedding = 128\n",
    "    gru_hidden_state_dim = 100\n",
    "    \n",
    "    model=Sequential()\n",
    "    model.add(Embedding(input_dim=english_vocab_size, output_dim=dim_embedding, input_length=input_shape[-1], name='embedding_layer' ))\n",
    "    model.add(GRU(units=gru_hidden_state_dim, return_sequences=True, name='gru_layer'))\n",
    "    model.add(Dense(french_vocab_size, activation='softmax', name='clasification_layer'))\n",
    "    \n",
    "    learning_rate = 0.01\n",
    "    model.compile(loss=sparse_categorical_crossentropy,\n",
    "                  optimizer=Adam(learning_rate),\n",
    "                  metrics=['accuracy'])\n",
    "    \n",
    "    return model\n",
    "\n",
    "tests.test_embed_model(embed_model)\n",
    "\n",
    "tmp_x = pad(preproc_english_sentences, preproc_french_sentences.shape[1])\n",
    "\n",
    "# Train the neural network\n",
    "embed_rnn_model = embed_model(\n",
    "    tmp_x.shape,\n",
    "    preproc_french_sentences.shape[1],\n",
    "    len(english_tokenizer.word_index)+1,\n",
    "    len(french_tokenizer.word_index)+1)\n",
    "\n",
    "print(embed_rnn_model.summary())"
   ]
  },
  {
   "cell_type": "code",
   "execution_count": 52,
   "metadata": {},
   "outputs": [
    {
     "name": "stdout",
     "output_type": "stream",
     "text": [
      "model loaded and ready to use\n"
     ]
    }
   ],
   "source": [
    "embed_rnn_is_fit = False\n",
    "try:\n",
    "    embed_rnn_model.load_weights('model_embed.hdf5')\n",
    "    print('model loaded and ready to use')\n",
    "    embed_rnn_is_fit = True\n",
    "except OSError:\n",
    "    print('model needs trainig')\n",
    "except ValueError:\n",
    "    print('different model, needs training')"
   ]
  },
  {
   "cell_type": "code",
   "execution_count": 53,
   "metadata": {},
   "outputs": [
    {
     "name": "stdout",
     "output_type": "stream",
     "text": [
      "Train on 110288 samples, validate on 27573 samples\n",
      "Epoch 1/20\n",
      "109568/110288 [============================>.] - ETA: 0s - loss: 0.4871 - acc: 0.8507Epoch 00000: val_acc improved from -inf to 0.85185, saving model to model_embed.hdf5\n",
      "110288/110288 [==============================] - 9s - loss: 0.4871 - acc: 0.8508 - val_loss: 0.4828 - val_acc: 0.8519\n",
      "Epoch 2/20\n",
      "109568/110288 [============================>.] - ETA: 0s - loss: 0.4764 - acc: 0.8538Epoch 00001: val_acc improved from 0.85185 to 0.85452, saving model to model_embed.hdf5\n",
      "110288/110288 [==============================] - 8s - loss: 0.4763 - acc: 0.8539 - val_loss: 0.4777 - val_acc: 0.8545\n",
      "Epoch 3/20\n",
      "109568/110288 [============================>.] - ETA: 0s - loss: 0.4697 - acc: 0.8555Epoch 00002: val_acc improved from 0.85452 to 0.85551, saving model to model_embed.hdf5\n",
      "110288/110288 [==============================] - 8s - loss: 0.4697 - acc: 0.8555 - val_loss: 0.4716 - val_acc: 0.8555\n",
      "Epoch 4/20\n",
      "109568/110288 [============================>.] - ETA: 0s - loss: 0.4666 - acc: 0.8567Epoch 00003: val_acc did not improve\n",
      "110288/110288 [==============================] - 8s - loss: 0.4666 - acc: 0.8567 - val_loss: 0.4728 - val_acc: 0.8555\n",
      "Epoch 5/20\n",
      "109568/110288 [============================>.] - ETA: 0s - loss: 0.4627 - acc: 0.8577Epoch 00004: val_acc improved from 0.85551 to 0.85734, saving model to model_embed.hdf5\n",
      "110288/110288 [==============================] - 8s - loss: 0.4626 - acc: 0.8578 - val_loss: 0.4675 - val_acc: 0.8573\n",
      "Epoch 6/20\n",
      "109568/110288 [============================>.] - ETA: 0s - loss: 0.4600 - acc: 0.8584Epoch 00005: val_acc did not improve\n",
      "110288/110288 [==============================] - 8s - loss: 0.4602 - acc: 0.8584 - val_loss: 0.4671 - val_acc: 0.8570\n",
      "Epoch 7/20\n",
      "109568/110288 [============================>.] - ETA: 0s - loss: 0.4575 - acc: 0.8593Epoch 00006: val_acc improved from 0.85734 to 0.85904, saving model to model_embed.hdf5\n",
      "110288/110288 [==============================] - 8s - loss: 0.4575 - acc: 0.8593 - val_loss: 0.4606 - val_acc: 0.8590\n",
      "Epoch 8/20\n",
      "109568/110288 [============================>.] - ETA: 0s - loss: 0.4544 - acc: 0.8600Epoch 00007: val_acc improved from 0.85904 to 0.85941, saving model to model_embed.hdf5\n",
      "110288/110288 [==============================] - 8s - loss: 0.4545 - acc: 0.8600 - val_loss: 0.4600 - val_acc: 0.8594\n",
      "Epoch 9/20\n",
      "109568/110288 [============================>.] - ETA: 0s - loss: 0.4525 - acc: 0.8607Epoch 00008: val_acc improved from 0.85941 to 0.85960, saving model to model_embed.hdf5\n",
      "110288/110288 [==============================] - 8s - loss: 0.4528 - acc: 0.8607 - val_loss: 0.4585 - val_acc: 0.8596\n",
      "Epoch 10/20\n",
      "109568/110288 [============================>.] - ETA: 0s - loss: 0.4515 - acc: 0.8607Epoch 00009: val_acc improved from 0.85960 to 0.85989, saving model to model_embed.hdf5\n",
      "110288/110288 [==============================] - 8s - loss: 0.4515 - acc: 0.8607 - val_loss: 0.4587 - val_acc: 0.8599\n",
      "Epoch 11/20\n",
      "109568/110288 [============================>.] - ETA: 0s - loss: 0.4490 - acc: 0.8619Epoch 00010: val_acc improved from 0.85989 to 0.86118, saving model to model_embed.hdf5\n",
      "110288/110288 [==============================] - 8s - loss: 0.4490 - acc: 0.8619 - val_loss: 0.4553 - val_acc: 0.8612\n",
      "Epoch 12/20\n",
      "109568/110288 [============================>.] - ETA: 0s - loss: 0.4485 - acc: 0.8617Epoch 00011: val_acc did not improve\n",
      "110288/110288 [==============================] - 8s - loss: 0.4485 - acc: 0.8616 - val_loss: 0.4549 - val_acc: 0.8611\n",
      "Epoch 13/20\n",
      "109568/110288 [============================>.] - ETA: 0s - loss: 0.4467 - acc: 0.8625Epoch 00012: val_acc improved from 0.86118 to 0.86194, saving model to model_embed.hdf5\n",
      "110288/110288 [==============================] - 8s - loss: 0.4467 - acc: 0.8625 - val_loss: 0.4518 - val_acc: 0.8619\n",
      "Epoch 14/20\n",
      "109568/110288 [============================>.] - ETA: 0s - loss: 0.4457 - acc: 0.8625Epoch 00013: val_acc improved from 0.86194 to 0.86201, saving model to model_embed.hdf5\n",
      "110288/110288 [==============================] - 8s - loss: 0.4457 - acc: 0.8625 - val_loss: 0.4531 - val_acc: 0.8620\n",
      "Epoch 15/20\n",
      "109568/110288 [============================>.] - ETA: 0s - loss: 0.4437 - acc: 0.8635Epoch 00014: val_acc improved from 0.86201 to 0.86234, saving model to model_embed.hdf5\n",
      "110288/110288 [==============================] - 8s - loss: 0.4436 - acc: 0.8635 - val_loss: 0.4495 - val_acc: 0.8623\n",
      "Epoch 16/20\n",
      "109568/110288 [============================>.] - ETA: 0s - loss: 0.4410 - acc: 0.8643Epoch 00015: val_acc did not improve\n",
      "110288/110288 [==============================] - 8s - loss: 0.4411 - acc: 0.8643 - val_loss: 0.4500 - val_acc: 0.8622\n",
      "Epoch 17/20\n",
      "109568/110288 [============================>.] - ETA: 0s - loss: 0.4400 - acc: 0.8645Epoch 00016: val_acc improved from 0.86234 to 0.86347, saving model to model_embed.hdf5\n",
      "110288/110288 [==============================] - 8s - loss: 0.4400 - acc: 0.8645 - val_loss: 0.4479 - val_acc: 0.8635\n",
      "Epoch 18/20\n",
      "109568/110288 [============================>.] - ETA: 0s - loss: 0.4395 - acc: 0.8647Epoch 00017: val_acc improved from 0.86347 to 0.86427, saving model to model_embed.hdf5\n",
      "110288/110288 [==============================] - 8s - loss: 0.4394 - acc: 0.8647 - val_loss: 0.4448 - val_acc: 0.8643\n",
      "Epoch 19/20\n",
      "109568/110288 [============================>.] - ETA: 0s - loss: 0.4371 - acc: 0.8655Epoch 00018: val_acc did not improve\n",
      "110288/110288 [==============================] - 8s - loss: 0.4372 - acc: 0.8655 - val_loss: 0.4448 - val_acc: 0.8642\n",
      "Epoch 20/20\n",
      "109568/110288 [============================>.] - ETA: 0s - loss: 0.4356 - acc: 0.8663Epoch 00019: val_acc improved from 0.86427 to 0.86522, saving model to model_embed.hdf5\n",
      "110288/110288 [==============================] - 8s - loss: 0.4356 - acc: 0.8663 - val_loss: 0.4407 - val_acc: 0.8652\n"
     ]
    }
   ],
   "source": [
    "\n",
    "if not embed_rnn_is_fit or retrain_models:\n",
    "    embed_rnn_model.fit(tmp_x, preproc_french_sentences, batch_size=1024, callbacks=[create_checkpoint_callback('model_embed.hdf5')], epochs=20, validation_split=0.2)\n"
   ]
  },
  {
   "cell_type": "code",
   "execution_count": 54,
   "metadata": {},
   "outputs": [
    {
     "name": "stdout",
     "output_type": "stream",
     "text": [
      "english: the united states is usually freezing during may , but it is never nice in november .\n",
      "french:  les états unis est généralement gel habituellement mois mois de mai mais jamais est agréable en novembre <PAD> <PAD> <PAD> <PAD>\n",
      "\n",
      "english: india is wonderful during october , but it is never beautiful in august .\n",
      "french:  l' inde est merveilleux en octobre mais il est jamais beau en août <PAD> <PAD> <PAD> <PAD> <PAD> <PAD> <PAD> <PAD>\n",
      "\n",
      "english: i think translating between english and spanish is easy .\n",
      "french:  je pense que la traduction entre espagnol espagnol espagnol et anglais anglais facile <PAD> <PAD> <PAD> <PAD> <PAD> <PAD> <PAD> <PAD>\n",
      "\n",
      "english: new jersey is sometimes rainy during january , and it is sometimes mild in october .\n",
      "french:  new jersey est parfois pluvieux en janvier et il est parfois doux en octobre <PAD> <PAD> <PAD> <PAD> <PAD> <PAD> <PAD>\n",
      "\n",
      "english: india is mild during august , but it is never busy in december .\n",
      "french:  l' inde jamais doux au mois d' août mais il est jamais occupé décembre décembre <PAD> <PAD> <PAD> <PAD> <PAD> <PAD>\n",
      "\n"
     ]
    }
   ],
   "source": [
    "print_translations(embed_rnn_model, english_sentences, tmp_x, french_tokenizer)"
   ]
  },
  {
   "cell_type": "markdown",
   "metadata": {},
   "source": [
    "### Model 3: Bidirectional RNNs (IMPLEMENTATION)\n",
    "![RNN](images/bidirectional.png)\n",
    "One restriction of a RNN is that it can't see the future input, only the past.  This is where bidirectional recurrent neural networks come in.  They are able to see the future data."
   ]
  },
  {
   "cell_type": "code",
   "execution_count": 58,
   "metadata": {},
   "outputs": [
    {
     "name": "stdout",
     "output_type": "stream",
     "text": [
      "input_shape=(137861, 21, 1)\n",
      "output_sequence_length=21\n",
      "english_vocab_size=199\n",
      "french_vocab_size=344\n",
      "switching to input size=21\n",
      "input_shape=(137861, 21)\n",
      "output_sequence_length=21\n",
      "english_vocab_size=200\n",
      "french_vocab_size=345\n",
      "switching to input size=21\n",
      "_________________________________________________________________\n",
      "Layer (type)                 Output Shape              Param #   \n",
      "=================================================================\n",
      "reshape_layer (Reshape)      (None, 21)                0         \n",
      "_________________________________________________________________\n",
      "embedding_layer (Embedding)  (None, 21, 128)           25600     \n",
      "_________________________________________________________________\n",
      "bidi_gru (Bidirectional)     (None, 21, 200)           137400    \n",
      "_________________________________________________________________\n",
      "clasification_layer (Dense)  (None, 21, 345)           69345     \n",
      "=================================================================\n",
      "Total params: 232,345\n",
      "Trainable params: 232,345\n",
      "Non-trainable params: 0\n",
      "_________________________________________________________________\n",
      "None\n"
     ]
    }
   ],
   "source": [
    "from keras.layers import Bidirectional, Dropout\n",
    "from keras.layers import Reshape\n",
    "\n",
    "\n",
    "def bd_model(input_shape, output_sequence_length, english_vocab_size, french_vocab_size):\n",
    "    \"\"\"\n",
    "    Build and train a bidirectional RNN model on x and y\n",
    "    :param input_shape: Tuple of input shape\n",
    "    :param output_sequence_length: Length of output sequence\n",
    "    :param english_vocab_size: Number of unique English words in the dataset\n",
    "    :param french_vocab_size: Number of unique French words in the dataset\n",
    "    :return: Keras model built, but not trained\n",
    "    \"\"\"\n",
    "    # TODO: Implement\n",
    "    \n",
    "    print(\"input_shape={}\".format(input_shape))\n",
    "    print(\"output_sequence_length={}\".format(output_sequence_length))\n",
    "    print(\"english_vocab_size={}\".format(english_vocab_size))\n",
    "    print(\"french_vocab_size={}\".format(french_vocab_size))\n",
    "    print(\"switching to input size={}\".format(input_shape[1]))\n",
    "    hyper_dim_embedding = 128\n",
    "    hyper_hid_size = 100\n",
    "    \n",
    "    model=Sequential()\n",
    "    model.add(Reshape(target_shape=(input_shape[1],), input_shape= input_shape[1:], name='reshape_layer' ))\n",
    "    model.add(Embedding(input_dim=english_vocab_size, output_dim=hyper_dim_embedding, input_length=21, name='embedding_layer' ))\n",
    "    \n",
    "    #model.add(Bidirectional(GRU(output_sequence_length, return_sequences=True, name='gru_layer'), name='bidi_gru', merge_mode='concat'))\n",
    "    model.add(Bidirectional(GRU(hyper_hid_size, return_sequences=True, name='gru_layer'), name='bidi_gru', merge_mode='concat'))\n",
    "    #model.add(Dropout(0.25, name='dropout'))\n",
    "    model.add(Dense(units=french_vocab_size, activation='softmax', name='clasification_layer'))\n",
    "    \n",
    "    learning_rate = 0.01\n",
    "    model.compile(loss=sparse_categorical_crossentropy,\n",
    "                  optimizer=Adam(learning_rate),\n",
    "                  metrics=['accuracy'])\n",
    "    \n",
    "    return model\n",
    "\n",
    "tests.test_bd_model(bd_model)\n",
    "\n",
    "# TODO: Train and Print prediction(s)\n",
    "# Reshaping the input to work with a basic RNN\n",
    "tmp_x = pad(preproc_english_sentences, preproc_french_sentences.shape[1])\n",
    "#tmp_x = tmp_x.reshape((-1, preproc_french_sentences.shape[-2], 1))\n",
    "\n",
    "# Train the neural network\n",
    "bd_rnn_model = bd_model(\n",
    "    tmp_x.shape,\n",
    "    preproc_french_sentences.shape[1],\n",
    "    len(english_tokenizer.word_index)+1,\n",
    "    len(french_tokenizer.word_index)+1)\n",
    "\n",
    "print(bd_rnn_model.summary())"
   ]
  },
  {
   "cell_type": "code",
   "execution_count": 59,
   "metadata": {},
   "outputs": [
    {
     "name": "stdout",
     "output_type": "stream",
     "text": [
      "different model, needs training\n"
     ]
    }
   ],
   "source": [
    "bd_rnn_is_fit = False\n",
    "try:\n",
    "    bd_rnn_model.load_weights('model_bd.hdf5')\n",
    "    print('model loaded and ready to use')\n",
    "    bd_rnn_is_fit = True\n",
    "except OSError:\n",
    "    print('model needs trainig')\n",
    "except ValueError:\n",
    "    print('different model, needs training')"
   ]
  },
  {
   "cell_type": "code",
   "execution_count": 62,
   "metadata": {},
   "outputs": [
    {
     "name": "stdout",
     "output_type": "stream",
     "text": [
      "Train on 110288 samples, validate on 27573 samples\n",
      "Epoch 1/10\n",
      "109568/110288 [============================>.] - ETA: 0s - loss: 0.0862 - acc: 0.9744Epoch 00000: val_acc improved from -inf to 0.97130, saving model to model_bd.hdf5\n",
      "110288/110288 [==============================] - 13s - loss: 0.0861 - acc: 0.9744 - val_loss: 0.1004 - val_acc: 0.9713\n",
      "Epoch 2/10\n",
      "109568/110288 [============================>.] - ETA: 0s - loss: 0.0811 - acc: 0.9760Epoch 00001: val_acc did not improve\n",
      "110288/110288 [==============================] - 13s - loss: 0.0811 - acc: 0.9760 - val_loss: 0.1026 - val_acc: 0.9708\n",
      "Epoch 3/10\n",
      "109568/110288 [============================>.] - ETA: 0s - loss: 0.0845 - acc: 0.9748Epoch 00002: val_acc did not improve\n",
      "110288/110288 [==============================] - 13s - loss: 0.0845 - acc: 0.9748 - val_loss: 0.1036 - val_acc: 0.9701\n",
      "Epoch 4/10\n",
      "109568/110288 [============================>.] - ETA: 0s - loss: 0.0827 - acc: 0.9753Epoch 00003: val_acc improved from 0.97130 to 0.97339, saving model to model_bd.hdf5\n",
      "110288/110288 [==============================] - 13s - loss: 0.0827 - acc: 0.9752 - val_loss: 0.0947 - val_acc: 0.9734\n",
      "Epoch 5/10\n",
      "109568/110288 [============================>.] - ETA: 0s - loss: 0.0808 - acc: 0.9760Epoch 00004: val_acc did not improve\n",
      "110288/110288 [==============================] - 13s - loss: 0.0807 - acc: 0.9761 - val_loss: 0.1073 - val_acc: 0.9691\n",
      "Epoch 6/10\n",
      "109568/110288 [============================>.] - ETA: 0s - loss: 0.0879 - acc: 0.9739Epoch 00005: val_acc did not improve\n",
      "110288/110288 [==============================] - 13s - loss: 0.0879 - acc: 0.9739 - val_loss: 0.1050 - val_acc: 0.9703\n",
      "Epoch 7/10\n",
      "109568/110288 [============================>.] - ETA: 0s - loss: 0.0847 - acc: 0.9749Epoch 00006: val_acc did not improve\n",
      "110288/110288 [==============================] - 13s - loss: 0.0848 - acc: 0.9749 - val_loss: 0.1138 - val_acc: 0.9679\n",
      "Epoch 8/10\n",
      "109568/110288 [============================>.] - ETA: 0s - loss: 0.0944 - acc: 0.9720Epoch 00007: val_acc did not improve\n",
      "110288/110288 [==============================] - 13s - loss: 0.0944 - acc: 0.9720 - val_loss: 0.1130 - val_acc: 0.9679\n",
      "Epoch 9/10\n",
      "109568/110288 [============================>.] - ETA: 0s - loss: 0.0864 - acc: 0.9744Epoch 00008: val_acc did not improve\n",
      "110288/110288 [==============================] - 13s - loss: 0.0864 - acc: 0.9744 - val_loss: 0.1067 - val_acc: 0.9700\n",
      "Epoch 10/10\n",
      "109568/110288 [============================>.] - ETA: 0s - loss: 0.0812 - acc: 0.9757Epoch 00009: val_acc did not improve\n",
      "110288/110288 [==============================] - 13s - loss: 0.0812 - acc: 0.9757 - val_loss: 0.1021 - val_acc: 0.9717\n",
      "new jersey est parfois calme pendant l' automne et il est neigeux en avril <PAD> <PAD> <PAD> <PAD> <PAD> <PAD> <PAD>\n"
     ]
    }
   ],
   "source": [
    "bd_rnn_is_fit = False\n",
    "if not bd_rnn_is_fit or retrain_models:\n",
    "    bd_rnn_model.fit(tmp_x, preproc_french_sentences, batch_size=1024, epochs=20, validation_split=0.2, callbacks=[create_checkpoint_callback('model_bd.hdf5')])\n",
    "    bd_rnn_is_fit = True\n",
    "    \n",
    "# Print prediction(s)\n",
    "print(logits_to_text(bd_rnn_model.predict(tmp_x[:1])[0], french_tokenizer))"
   ]
  },
  {
   "cell_type": "code",
   "execution_count": 63,
   "metadata": {},
   "outputs": [
    {
     "name": "stdout",
     "output_type": "stream",
     "text": [
      "english: she likes bananas , grapes , and peaches .\n",
      "french:  elle aime les bananes les raisins et les pêches <PAD> <PAD> <PAD> <PAD> <PAD> <PAD> <PAD> <PAD> <PAD> <PAD> <PAD> <PAD>\n",
      "\n",
      "english: china is never wonderful during summer , but it is sometimes cold in may .\n",
      "french:  chine est jamais merveilleux pendant l' été mais il est parfois froid en mai <PAD> <PAD> <PAD> <PAD> <PAD> <PAD> <PAD>\n",
      "\n",
      "english: he dislikes grapes , bananas , and mangoes.\n",
      "french:  il aime pas les raisins les bananes et les mangues <PAD> <PAD> <PAD> <PAD> <PAD> <PAD> <PAD> <PAD> <PAD> <PAD> <PAD>\n",
      "\n",
      "english: china is busy during april , and it is usually wet in november .\n",
      "french:  chine est occupé en avril et il est généralement humide en novembre <PAD> <PAD> <PAD> <PAD> <PAD> <PAD> <PAD> <PAD> <PAD>\n",
      "\n",
      "english: he likes lemons , grapes , and limes.\n",
      "french:  il aime les citrons les raisins et citrons verts <PAD> <PAD> <PAD> <PAD> <PAD> <PAD> <PAD> <PAD> <PAD> <PAD> <PAD> <PAD>\n",
      "\n"
     ]
    }
   ],
   "source": [
    "print_translations(bd_rnn_model, english_sentences, tmp_x, french_tokenizer)"
   ]
  },
  {
   "cell_type": "markdown",
   "metadata": {},
   "source": [
    "### Model 4: Encoder-Decoder (OPTIONAL)\n",
    "Time to look at encoder-decoder models.  This model is made up of an encoder and decoder. The encoder creates a matrix representation of the sentence.  The decoder takes this matrix as input and predicts the translation as output.\n",
    "\n",
    "Create an encoder-decoder model in the cell below."
   ]
  },
  {
   "cell_type": "code",
   "execution_count": 64,
   "metadata": {},
   "outputs": [
    {
     "name": "stdout",
     "output_type": "stream",
     "text": [
      "input_shape=(137861, 15, 1)\n",
      "output_sequence_length=21\n",
      "english_vocab_size=199\n",
      "french_vocab_size=344\n",
      "switching to input size=15\n",
      "shape of tmp_x: (137861, 21)\n",
      "input_shape=(137861, 21)\n",
      "output_sequence_length=21\n",
      "english_vocab_size=200\n",
      "french_vocab_size=345\n",
      "switching to input size=21\n",
      "_________________________________________________________________\n",
      "Layer (type)                 Output Shape              Param #   \n",
      "=================================================================\n",
      "reshape_layer (Reshape)      (None, 21)                0         \n",
      "_________________________________________________________________\n",
      "embedding_layer (Embedding)  (None, 21, 128)           25600     \n",
      "_________________________________________________________________\n",
      "bidirectional_3 (Bidirection (None, 200)               137400    \n",
      "_________________________________________________________________\n",
      "dense_3 (Dense)              (None, 100)               20100     \n",
      "_________________________________________________________________\n",
      "dropout_2 (Dropout)          (None, 100)               0         \n",
      "_________________________________________________________________\n",
      "repeat_layer (RepeatVector)  (None, 21, 100)           0         \n",
      "_________________________________________________________________\n",
      "bidirectional_4 (Bidirection (None, 21, 400)           481600    \n",
      "_________________________________________________________________\n",
      "time_distributed_3 (TimeDist (None, 21, 100)           40100     \n",
      "_________________________________________________________________\n",
      "time_distributed_4 (TimeDist (None, 21, 345)           34845     \n",
      "=================================================================\n",
      "Total params: 739,645\n",
      "Trainable params: 739,645\n",
      "Non-trainable params: 0\n",
      "_________________________________________________________________\n",
      "None\n"
     ]
    }
   ],
   "source": [
    "from keras.layers import RepeatVector\n",
    "from keras.layers import LSTM\n",
    "\n",
    "def encdec_model(input_shape, output_sequence_length, english_vocab_size, french_vocab_size):\n",
    "    \"\"\"\n",
    "    Build and train an encoder-decoder model on x and y\n",
    "    :param input_shape: Tuple of input shape\n",
    "    :param output_sequence_length: Length of output sequence\n",
    "    :param english_vocab_size: Number of unique English words in the dataset\n",
    "    :param french_vocab_size: Number of unique French words in the dataset\n",
    "    :return: Keras model built, but not trained\n",
    "    \"\"\"\n",
    "    print(\"input_shape={}\".format(input_shape))\n",
    "    print(\"output_sequence_length={}\".format(output_sequence_length))\n",
    "    print(\"english_vocab_size={}\".format(english_vocab_size))\n",
    "    print(\"french_vocab_size={}\".format(french_vocab_size))\n",
    "    print(\"switching to input size={}\".format(input_shape[1]))\n",
    "    \n",
    "    # hyper-parameters\n",
    "    hyper_embed_size = 128\n",
    "    hyper_hidden_size = 100\n",
    "    learning_rate = 0.005\n",
    "    \n",
    "    model=Sequential()\n",
    "    \n",
    "    # build encoder network\n",
    "    model.add(Reshape(target_shape=(input_shape[1],), input_shape= input_shape[1:], name='reshape_layer' ))\n",
    "    model.add(Embedding(english_vocab_size, hyper_embed_size, input_shape=input_shape[2:], mask_zero=True, name='embedding_layer'))\n",
    "    model.add(Bidirectional(GRU(hyper_hidden_size, name='lstm_encoder_layer')))\n",
    "    model.add(Dense(hyper_hidden_size, activation='relu'))\n",
    "    model.add(Dropout(0.2))\n",
    "    model.add(RepeatVector(output_sequence_length, name='repeat_layer'))\n",
    "    \n",
    "    # decoder network\n",
    "    model.add(Bidirectional(LSTM(hyper_hidden_size, return_sequences=True, name='lstm_decoder_layer')))\n",
    "    #model.add(Dropout(0.2))\n",
    "    model.add(TimeDistributed(Dense(hyper_hidden_size, activation='relu')))\n",
    "    \n",
    "    model.add(TimeDistributed(Dense(french_vocab_size, name='td_dense', activation='softmax')))\n",
    "#     model.add(Activation('softmax'))\n",
    "    \n",
    "    model.compile(loss=sparse_categorical_crossentropy,\n",
    "                  optimizer=Adam(learning_rate),\n",
    "                  metrics=['accuracy'])\n",
    "    return model\n",
    "\n",
    "\n",
    "tests.test_encdec_model(encdec_model)\n",
    "\n",
    "\n",
    "# OPTIONAL: Train and Print prediction(s)\n",
    "# Reshaping the input to work with a basic RNN\n",
    "tmp_x = pad(preproc_english_sentences, preproc_french_sentences.shape[1])\n",
    "print(\"shape of tmp_x: {}\".format(tmp_x.shape))\n",
    "#tmp_x = tmp_x.reshape((-1, preproc_french_sentences.shape[-2], 1))\n",
    "\n",
    "\n",
    "# Train the neural network\n",
    "encdec_model = encdec_model(\n",
    "    tmp_x.shape,\n",
    "    preproc_french_sentences.shape[1],\n",
    "    len(english_tokenizer.word_index)+1,\n",
    "    len(french_tokenizer.word_index)+1)\n",
    "\n",
    "print(encdec_model.summary())\n"
   ]
  },
  {
   "cell_type": "code",
   "execution_count": 65,
   "metadata": {},
   "outputs": [
    {
     "name": "stdout",
     "output_type": "stream",
     "text": [
      "different model, needs training\n"
     ]
    }
   ],
   "source": [
    "encdec_is_fit = False\n",
    "try:\n",
    "    encdec_model.load_weights('model_encdec.hdf5')\n",
    "    print('model loaded and ready to use')\n",
    "    encdec_is_fit = True\n",
    "except OSError:\n",
    "    print('model needs trainig')\n",
    "except ValueError:\n",
    "    print('different model, needs training')"
   ]
  },
  {
   "cell_type": "code",
   "execution_count": 66,
   "metadata": {
    "scrolled": false
   },
   "outputs": [
    {
     "name": "stdout",
     "output_type": "stream",
     "text": [
      "Train on 110288 samples, validate on 27573 samples\n",
      "Epoch 1/50\n",
      "109568/110288 [============================>.] - ETA: 0s - loss: 2.2678 - acc: 0.5033Epoch 00000: val_acc improved from -inf to 0.58522, saving model to model_encdec.hdf5\n",
      "110288/110288 [==============================] - 53s - loss: 2.2631 - acc: 0.5038 - val_loss: 1.5147 - val_acc: 0.5852\n",
      "Epoch 2/50\n",
      "109568/110288 [============================>.] - ETA: 0s - loss: 1.3175 - acc: 0.6331Epoch 00001: val_acc improved from 0.58522 to 0.69161, saving model to model_encdec.hdf5\n",
      "110288/110288 [==============================] - 50s - loss: 1.3160 - acc: 0.6335 - val_loss: 1.0996 - val_acc: 0.6916\n",
      "Epoch 3/50\n",
      "109568/110288 [============================>.] - ETA: 0s - loss: 0.9685 - acc: 0.7158Epoch 00002: val_acc improved from 0.69161 to 0.74961, saving model to model_encdec.hdf5\n",
      "110288/110288 [==============================] - 50s - loss: 0.9680 - acc: 0.7159 - val_loss: 0.8194 - val_acc: 0.7496\n",
      "Epoch 4/50\n",
      "109568/110288 [============================>.] - ETA: 0s - loss: 0.7984 - acc: 0.7548Epoch 00003: val_acc improved from 0.74961 to 0.78944, saving model to model_encdec.hdf5\n",
      "110288/110288 [==============================] - 50s - loss: 0.7977 - acc: 0.7550 - val_loss: 0.6739 - val_acc: 0.7894\n",
      "Epoch 5/50\n",
      "109568/110288 [============================>.] - ETA: 0s - loss: 0.6493 - acc: 0.7946Epoch 00004: val_acc improved from 0.78944 to 0.82066, saving model to model_encdec.hdf5\n",
      "110288/110288 [==============================] - 50s - loss: 0.6491 - acc: 0.7947 - val_loss: 0.5770 - val_acc: 0.8207\n",
      "Epoch 6/50\n",
      "109568/110288 [============================>.] - ETA: 0s - loss: 0.5618 - acc: 0.8207Epoch 00005: val_acc improved from 0.82066 to 0.85649, saving model to model_encdec.hdf5\n",
      "110288/110288 [==============================] - 50s - loss: 0.5615 - acc: 0.8208 - val_loss: 0.4560 - val_acc: 0.8565\n",
      "Epoch 7/50\n",
      "109568/110288 [============================>.] - ETA: 0s - loss: 0.4872 - acc: 0.8442Epoch 00006: val_acc improved from 0.85649 to 0.87871, saving model to model_encdec.hdf5\n",
      "110288/110288 [==============================] - 50s - loss: 0.4871 - acc: 0.8442 - val_loss: 0.3943 - val_acc: 0.8787\n",
      "Epoch 8/50\n",
      "109568/110288 [============================>.] - ETA: 0s - loss: 0.4267 - acc: 0.8671Epoch 00007: val_acc improved from 0.87871 to 0.90635, saving model to model_encdec.hdf5\n",
      "110288/110288 [==============================] - 50s - loss: 0.4265 - acc: 0.8672 - val_loss: 0.3239 - val_acc: 0.9063\n",
      "Epoch 9/50\n",
      "109568/110288 [============================>.] - ETA: 0s - loss: 0.3731 - acc: 0.8847Epoch 00008: val_acc improved from 0.90635 to 0.92174, saving model to model_encdec.hdf5\n",
      "110288/110288 [==============================] - 50s - loss: 0.3729 - acc: 0.8848 - val_loss: 0.2706 - val_acc: 0.9217\n",
      "Epoch 10/50\n",
      "109568/110288 [============================>.] - ETA: 0s - loss: 0.3427 - acc: 0.8942Epoch 00009: val_acc improved from 0.92174 to 0.93426, saving model to model_encdec.hdf5\n",
      "110288/110288 [==============================] - 50s - loss: 0.3425 - acc: 0.8942 - val_loss: 0.2346 - val_acc: 0.9343\n",
      "Epoch 11/50\n",
      "109568/110288 [============================>.] - ETA: 0s - loss: 0.2934 - acc: 0.9103Epoch 00010: val_acc improved from 0.93426 to 0.94195, saving model to model_encdec.hdf5\n",
      "110288/110288 [==============================] - 50s - loss: 0.2932 - acc: 0.9104 - val_loss: 0.2058 - val_acc: 0.9419\n",
      "Epoch 12/50\n",
      "109568/110288 [============================>.] - ETA: 0s - loss: 0.2585 - acc: 0.9220Epoch 00011: val_acc improved from 0.94195 to 0.95155, saving model to model_encdec.hdf5\n",
      "110288/110288 [==============================] - 50s - loss: 0.2585 - acc: 0.9220 - val_loss: 0.1784 - val_acc: 0.9515\n",
      "Epoch 13/50\n",
      "109568/110288 [============================>.] - ETA: 0s - loss: 0.2440 - acc: 0.9270Epoch 00012: val_acc improved from 0.95155 to 0.95731, saving model to model_encdec.hdf5\n",
      "110288/110288 [==============================] - 50s - loss: 0.2441 - acc: 0.9270 - val_loss: 0.1576 - val_acc: 0.9573\n",
      "Epoch 14/50\n",
      "109568/110288 [============================>.] - ETA: 0s - loss: 0.2221 - acc: 0.9339Epoch 00013: val_acc improved from 0.95731 to 0.95802, saving model to model_encdec.hdf5\n",
      "110288/110288 [==============================] - 50s - loss: 0.2221 - acc: 0.9339 - val_loss: 0.1532 - val_acc: 0.9580\n",
      "Epoch 15/50\n",
      "109568/110288 [============================>.] - ETA: 0s - loss: 0.2150 - acc: 0.9365Epoch 00014: val_acc improved from 0.95802 to 0.96247, saving model to model_encdec.hdf5\n",
      "110288/110288 [==============================] - 50s - loss: 0.2148 - acc: 0.9366 - val_loss: 0.1408 - val_acc: 0.9625\n",
      "Epoch 16/50\n",
      "109568/110288 [============================>.] - ETA: 0s - loss: 0.2044 - acc: 0.9402Epoch 00015: val_acc improved from 0.96247 to 0.96323, saving model to model_encdec.hdf5\n",
      "110288/110288 [==============================] - 50s - loss: 0.2045 - acc: 0.9402 - val_loss: 0.1348 - val_acc: 0.9632\n",
      "Epoch 17/50\n",
      "109568/110288 [============================>.] - ETA: 0s - loss: 0.1827 - acc: 0.9466Epoch 00016: val_acc improved from 0.96323 to 0.96735, saving model to model_encdec.hdf5\n",
      "110288/110288 [==============================] - 50s - loss: 0.1826 - acc: 0.9466 - val_loss: 0.1230 - val_acc: 0.9673\n",
      "Epoch 18/50\n",
      "109568/110288 [============================>.] - ETA: 0s - loss: 0.1703 - acc: 0.9504Epoch 00017: val_acc improved from 0.96735 to 0.96813, saving model to model_encdec.hdf5\n",
      "110288/110288 [==============================] - 50s - loss: 0.1704 - acc: 0.9504 - val_loss: 0.1179 - val_acc: 0.9681\n",
      "Epoch 19/50\n",
      "109568/110288 [============================>.] - ETA: 0s - loss: 0.1671 - acc: 0.9515Epoch 00018: val_acc improved from 0.96813 to 0.96901, saving model to model_encdec.hdf5\n",
      "110288/110288 [==============================] - 50s - loss: 0.1670 - acc: 0.9515 - val_loss: 0.1131 - val_acc: 0.9690\n",
      "Epoch 20/50\n",
      "109568/110288 [============================>.] - ETA: 0s - loss: 0.1681 - acc: 0.9516Epoch 00019: val_acc did not improve\n",
      "110288/110288 [==============================] - 50s - loss: 0.1681 - acc: 0.9516 - val_loss: 0.1282 - val_acc: 0.9641\n",
      "Epoch 21/50\n",
      "109568/110288 [============================>.] - ETA: 0s - loss: 0.1659 - acc: 0.9518Epoch 00020: val_acc improved from 0.96901 to 0.97020, saving model to model_encdec.hdf5\n",
      "110288/110288 [==============================] - 50s - loss: 0.1659 - acc: 0.9518 - val_loss: 0.1115 - val_acc: 0.9702\n",
      "Epoch 22/50\n",
      "109568/110288 [============================>.] - ETA: 0s - loss: 0.1567 - acc: 0.9546Epoch 00021: val_acc improved from 0.97020 to 0.97114, saving model to model_encdec.hdf5\n",
      "110288/110288 [==============================] - 50s - loss: 0.1567 - acc: 0.9546 - val_loss: 0.1059 - val_acc: 0.9711\n",
      "Epoch 23/50\n",
      "109568/110288 [============================>.] - ETA: 0s - loss: 0.1474 - acc: 0.9574Epoch 00022: val_acc did not improve\n",
      "110288/110288 [==============================] - 50s - loss: 0.1475 - acc: 0.9574 - val_loss: 0.1123 - val_acc: 0.9696\n",
      "Epoch 24/50\n",
      "109568/110288 [============================>.] - ETA: 0s - loss: 0.1421 - acc: 0.9592Epoch 00023: val_acc did not improve\n",
      "110288/110288 [==============================] - 50s - loss: 0.1423 - acc: 0.9592 - val_loss: 0.1148 - val_acc: 0.9693\n",
      "Epoch 25/50\n",
      "109568/110288 [============================>.] - ETA: 0s - loss: 0.1447 - acc: 0.9587Epoch 00024: val_acc did not improve\n",
      "110288/110288 [==============================] - 50s - loss: 0.1448 - acc: 0.9586 - val_loss: 0.1261 - val_acc: 0.9670\n",
      "Epoch 26/50\n",
      "109568/110288 [============================>.] - ETA: 0s - loss: 0.1376 - acc: 0.9603Epoch 00025: val_acc improved from 0.97114 to 0.97273, saving model to model_encdec.hdf5\n",
      "110288/110288 [==============================] - 50s - loss: 0.1375 - acc: 0.9603 - val_loss: 0.1009 - val_acc: 0.9727\n",
      "Epoch 27/50\n",
      "109568/110288 [============================>.] - ETA: 0s - loss: 0.1301 - acc: 0.9626Epoch 00026: val_acc did not improve\n",
      "110288/110288 [==============================] - 50s - loss: 0.1301 - acc: 0.9626 - val_loss: 0.0973 - val_acc: 0.9726\n",
      "Epoch 28/50\n",
      "109568/110288 [============================>.] - ETA: 0s - loss: 0.1430 - acc: 0.9591Epoch 00027: val_acc improved from 0.97273 to 0.97303, saving model to model_encdec.hdf5\n"
     ]
    },
    {
     "name": "stdout",
     "output_type": "stream",
     "text": [
      "110288/110288 [==============================] - 50s - loss: 0.1428 - acc: 0.9592 - val_loss: 0.1011 - val_acc: 0.9730\n",
      "Epoch 29/50\n",
      "109568/110288 [============================>.] - ETA: 0s - loss: 0.1289 - acc: 0.9629Epoch 00028: val_acc improved from 0.97303 to 0.97384, saving model to model_encdec.hdf5\n",
      "110288/110288 [==============================] - 50s - loss: 0.1289 - acc: 0.9629 - val_loss: 0.0943 - val_acc: 0.9738\n",
      "Epoch 30/50\n",
      "109568/110288 [============================>.] - ETA: 0s - loss: 0.1210 - acc: 0.9654Epoch 00029: val_acc did not improve\n",
      "110288/110288 [==============================] - 50s - loss: 0.1209 - acc: 0.9654 - val_loss: 0.1044 - val_acc: 0.9716\n",
      "Epoch 31/50\n",
      "109568/110288 [============================>.] - ETA: 0s - loss: 0.1235 - acc: 0.9648Epoch 00030: val_acc improved from 0.97384 to 0.97504, saving model to model_encdec.hdf5\n",
      "110288/110288 [==============================] - 50s - loss: 0.1236 - acc: 0.9648 - val_loss: 0.0891 - val_acc: 0.9750\n",
      "Epoch 32/50\n",
      "109568/110288 [============================>.] - ETA: 0s - loss: 0.1142 - acc: 0.9670Epoch 00031: val_acc improved from 0.97504 to 0.97588, saving model to model_encdec.hdf5\n",
      "110288/110288 [==============================] - 50s - loss: 0.1143 - acc: 0.9670 - val_loss: 0.0893 - val_acc: 0.9759\n",
      "Epoch 33/50\n",
      "109568/110288 [============================>.] - ETA: 0s - loss: 0.1174 - acc: 0.9664Epoch 00032: val_acc did not improve\n",
      "110288/110288 [==============================] - 50s - loss: 0.1173 - acc: 0.9664 - val_loss: 0.0904 - val_acc: 0.9754\n",
      "Epoch 34/50\n",
      "109568/110288 [============================>.] - ETA: 0s - loss: 0.1149 - acc: 0.9673Epoch 00033: val_acc did not improve\n",
      "110288/110288 [==============================] - 50s - loss: 0.1151 - acc: 0.9673 - val_loss: 0.1007 - val_acc: 0.9719\n",
      "Epoch 35/50\n",
      "109568/110288 [============================>.] - ETA: 0s - loss: 0.1148 - acc: 0.9670Epoch 00034: val_acc improved from 0.97588 to 0.97741, saving model to model_encdec.hdf5\n",
      "110288/110288 [==============================] - 50s - loss: 0.1146 - acc: 0.9670 - val_loss: 0.0848 - val_acc: 0.9774\n",
      "Epoch 36/50\n",
      "109568/110288 [============================>.] - ETA: 0s - loss: 0.1119 - acc: 0.9676Epoch 00035: val_acc did not improve\n",
      "110288/110288 [==============================] - 50s - loss: 0.1118 - acc: 0.9676 - val_loss: 0.0845 - val_acc: 0.9772\n",
      "Epoch 37/50\n",
      "109568/110288 [============================>.] - ETA: 0s - loss: 0.1096 - acc: 0.9689Epoch 00036: val_acc did not improve\n",
      "110288/110288 [==============================] - 50s - loss: 0.1097 - acc: 0.9689 - val_loss: 0.0888 - val_acc: 0.9754\n",
      "Epoch 38/50\n",
      "109568/110288 [============================>.] - ETA: 0s - loss: 0.1127 - acc: 0.9677Epoch 00037: val_acc did not improve\n",
      "110288/110288 [==============================] - 50s - loss: 0.1127 - acc: 0.9677 - val_loss: 0.0911 - val_acc: 0.9750\n",
      "Epoch 39/50\n",
      " 10240/110288 [=>............................] - ETA: 41s - loss: 0.1035 - acc: 0.9696"
     ]
    },
    {
     "ename": "KeyboardInterrupt",
     "evalue": "",
     "output_type": "error",
     "traceback": [
      "\u001b[0;31m---------------------------------------------------------------------------\u001b[0m",
      "\u001b[0;31mKeyboardInterrupt\u001b[0m                         Traceback (most recent call last)",
      "\u001b[0;32m<ipython-input-66-e876b1b25f17>\u001b[0m in \u001b[0;36m<module>\u001b[0;34m()\u001b[0m\n\u001b[1;32m      1\u001b[0m \u001b[0mencdec_is_fit\u001b[0m \u001b[0;34m=\u001b[0m \u001b[0;32mFalse\u001b[0m\u001b[0;34m\u001b[0m\u001b[0m\n\u001b[1;32m      2\u001b[0m \u001b[0;32mif\u001b[0m \u001b[0;32mnot\u001b[0m \u001b[0mencdec_is_fit\u001b[0m \u001b[0;32mor\u001b[0m \u001b[0mretrain_models\u001b[0m\u001b[0;34m:\u001b[0m\u001b[0;34m\u001b[0m\u001b[0m\n\u001b[0;32m----> 3\u001b[0;31m     \u001b[0mencdec_model\u001b[0m\u001b[0;34m.\u001b[0m\u001b[0mfit\u001b[0m\u001b[0;34m(\u001b[0m\u001b[0mtmp_x\u001b[0m\u001b[0;34m,\u001b[0m \u001b[0mpreproc_french_sentences\u001b[0m\u001b[0;34m,\u001b[0m \u001b[0mbatch_size\u001b[0m\u001b[0;34m=\u001b[0m\u001b[0;36m1024\u001b[0m\u001b[0;34m,\u001b[0m \u001b[0mepochs\u001b[0m\u001b[0;34m=\u001b[0m\u001b[0;36m50\u001b[0m\u001b[0;34m,\u001b[0m \u001b[0mvalidation_split\u001b[0m\u001b[0;34m=\u001b[0m\u001b[0;36m0.2\u001b[0m\u001b[0;34m,\u001b[0m \u001b[0mcallbacks\u001b[0m\u001b[0;34m=\u001b[0m\u001b[0;34m[\u001b[0m\u001b[0mcreate_checkpoint_callback\u001b[0m\u001b[0;34m(\u001b[0m\u001b[0;34m'model_encdec.hdf5'\u001b[0m\u001b[0;34m)\u001b[0m\u001b[0;34m]\u001b[0m\u001b[0;34m)\u001b[0m\u001b[0;34m\u001b[0m\u001b[0m\n\u001b[0m\u001b[1;32m      4\u001b[0m     \u001b[0mencdec_is_fit\u001b[0m \u001b[0;34m=\u001b[0m \u001b[0;32mTrue\u001b[0m\u001b[0;34m\u001b[0m\u001b[0m\n\u001b[1;32m      5\u001b[0m \u001b[0;31m# Print prediction(s)\u001b[0m\u001b[0;34m\u001b[0m\u001b[0;34m\u001b[0m\u001b[0m\n",
      "\u001b[0;32m~/anaconda3/envs/aind-nlp-capstone/lib/python3.5/site-packages/keras/models.py\u001b[0m in \u001b[0;36mfit\u001b[0;34m(self, x, y, batch_size, epochs, verbose, callbacks, validation_split, validation_data, shuffle, class_weight, sample_weight, initial_epoch, **kwargs)\u001b[0m\n\u001b[1;32m    865\u001b[0m                               \u001b[0mclass_weight\u001b[0m\u001b[0;34m=\u001b[0m\u001b[0mclass_weight\u001b[0m\u001b[0;34m,\u001b[0m\u001b[0;34m\u001b[0m\u001b[0m\n\u001b[1;32m    866\u001b[0m                               \u001b[0msample_weight\u001b[0m\u001b[0;34m=\u001b[0m\u001b[0msample_weight\u001b[0m\u001b[0;34m,\u001b[0m\u001b[0;34m\u001b[0m\u001b[0m\n\u001b[0;32m--> 867\u001b[0;31m                               initial_epoch=initial_epoch)\n\u001b[0m\u001b[1;32m    868\u001b[0m \u001b[0;34m\u001b[0m\u001b[0m\n\u001b[1;32m    869\u001b[0m     def evaluate(self, x, y, batch_size=32, verbose=1,\n",
      "\u001b[0;32m~/anaconda3/envs/aind-nlp-capstone/lib/python3.5/site-packages/keras/engine/training.py\u001b[0m in \u001b[0;36mfit\u001b[0;34m(self, x, y, batch_size, epochs, verbose, callbacks, validation_split, validation_data, shuffle, class_weight, sample_weight, initial_epoch, steps_per_epoch, validation_steps, **kwargs)\u001b[0m\n\u001b[1;32m   1596\u001b[0m                               \u001b[0minitial_epoch\u001b[0m\u001b[0;34m=\u001b[0m\u001b[0minitial_epoch\u001b[0m\u001b[0;34m,\u001b[0m\u001b[0;34m\u001b[0m\u001b[0m\n\u001b[1;32m   1597\u001b[0m                               \u001b[0msteps_per_epoch\u001b[0m\u001b[0;34m=\u001b[0m\u001b[0msteps_per_epoch\u001b[0m\u001b[0;34m,\u001b[0m\u001b[0;34m\u001b[0m\u001b[0m\n\u001b[0;32m-> 1598\u001b[0;31m                               validation_steps=validation_steps)\n\u001b[0m\u001b[1;32m   1599\u001b[0m \u001b[0;34m\u001b[0m\u001b[0m\n\u001b[1;32m   1600\u001b[0m     def evaluate(self, x, y,\n",
      "\u001b[0;32m~/anaconda3/envs/aind-nlp-capstone/lib/python3.5/site-packages/keras/engine/training.py\u001b[0m in \u001b[0;36m_fit_loop\u001b[0;34m(self, f, ins, out_labels, batch_size, epochs, verbose, callbacks, val_f, val_ins, shuffle, callback_metrics, initial_epoch, steps_per_epoch, validation_steps)\u001b[0m\n\u001b[1;32m   1181\u001b[0m                     \u001b[0mbatch_logs\u001b[0m\u001b[0;34m[\u001b[0m\u001b[0;34m'size'\u001b[0m\u001b[0;34m]\u001b[0m \u001b[0;34m=\u001b[0m \u001b[0mlen\u001b[0m\u001b[0;34m(\u001b[0m\u001b[0mbatch_ids\u001b[0m\u001b[0;34m)\u001b[0m\u001b[0;34m\u001b[0m\u001b[0m\n\u001b[1;32m   1182\u001b[0m                     \u001b[0mcallbacks\u001b[0m\u001b[0;34m.\u001b[0m\u001b[0mon_batch_begin\u001b[0m\u001b[0;34m(\u001b[0m\u001b[0mbatch_index\u001b[0m\u001b[0;34m,\u001b[0m \u001b[0mbatch_logs\u001b[0m\u001b[0;34m)\u001b[0m\u001b[0;34m\u001b[0m\u001b[0m\n\u001b[0;32m-> 1183\u001b[0;31m                     \u001b[0mouts\u001b[0m \u001b[0;34m=\u001b[0m \u001b[0mf\u001b[0m\u001b[0;34m(\u001b[0m\u001b[0mins_batch\u001b[0m\u001b[0;34m)\u001b[0m\u001b[0;34m\u001b[0m\u001b[0m\n\u001b[0m\u001b[1;32m   1184\u001b[0m                     \u001b[0;32mif\u001b[0m \u001b[0;32mnot\u001b[0m \u001b[0misinstance\u001b[0m\u001b[0;34m(\u001b[0m\u001b[0mouts\u001b[0m\u001b[0;34m,\u001b[0m \u001b[0mlist\u001b[0m\u001b[0;34m)\u001b[0m\u001b[0;34m:\u001b[0m\u001b[0;34m\u001b[0m\u001b[0m\n\u001b[1;32m   1185\u001b[0m                         \u001b[0mouts\u001b[0m \u001b[0;34m=\u001b[0m \u001b[0;34m[\u001b[0m\u001b[0mouts\u001b[0m\u001b[0;34m]\u001b[0m\u001b[0;34m\u001b[0m\u001b[0m\n",
      "\u001b[0;32m~/anaconda3/envs/aind-nlp-capstone/lib/python3.5/site-packages/keras/backend/tensorflow_backend.py\u001b[0m in \u001b[0;36m__call__\u001b[0;34m(self, inputs)\u001b[0m\n\u001b[1;32m   2271\u001b[0m         updated = session.run(self.outputs + [self.updates_op],\n\u001b[1;32m   2272\u001b[0m                               \u001b[0mfeed_dict\u001b[0m\u001b[0;34m=\u001b[0m\u001b[0mfeed_dict\u001b[0m\u001b[0;34m,\u001b[0m\u001b[0;34m\u001b[0m\u001b[0m\n\u001b[0;32m-> 2273\u001b[0;31m                               **self.session_kwargs)\n\u001b[0m\u001b[1;32m   2274\u001b[0m         \u001b[0;32mreturn\u001b[0m \u001b[0mupdated\u001b[0m\u001b[0;34m[\u001b[0m\u001b[0;34m:\u001b[0m\u001b[0mlen\u001b[0m\u001b[0;34m(\u001b[0m\u001b[0mself\u001b[0m\u001b[0;34m.\u001b[0m\u001b[0moutputs\u001b[0m\u001b[0;34m)\u001b[0m\u001b[0;34m]\u001b[0m\u001b[0;34m\u001b[0m\u001b[0m\n\u001b[1;32m   2275\u001b[0m \u001b[0;34m\u001b[0m\u001b[0m\n",
      "\u001b[0;32m~/anaconda3/envs/aind-nlp-capstone/lib/python3.5/site-packages/tensorflow/python/client/session.py\u001b[0m in \u001b[0;36mrun\u001b[0;34m(self, fetches, feed_dict, options, run_metadata)\u001b[0m\n\u001b[1;32m    776\u001b[0m     \u001b[0;32mtry\u001b[0m\u001b[0;34m:\u001b[0m\u001b[0;34m\u001b[0m\u001b[0m\n\u001b[1;32m    777\u001b[0m       result = self._run(None, fetches, feed_dict, options_ptr,\n\u001b[0;32m--> 778\u001b[0;31m                          run_metadata_ptr)\n\u001b[0m\u001b[1;32m    779\u001b[0m       \u001b[0;32mif\u001b[0m \u001b[0mrun_metadata\u001b[0m\u001b[0;34m:\u001b[0m\u001b[0;34m\u001b[0m\u001b[0m\n\u001b[1;32m    780\u001b[0m         \u001b[0mproto_data\u001b[0m \u001b[0;34m=\u001b[0m \u001b[0mtf_session\u001b[0m\u001b[0;34m.\u001b[0m\u001b[0mTF_GetBuffer\u001b[0m\u001b[0;34m(\u001b[0m\u001b[0mrun_metadata_ptr\u001b[0m\u001b[0;34m)\u001b[0m\u001b[0;34m\u001b[0m\u001b[0m\n",
      "\u001b[0;32m~/anaconda3/envs/aind-nlp-capstone/lib/python3.5/site-packages/tensorflow/python/client/session.py\u001b[0m in \u001b[0;36m_run\u001b[0;34m(self, handle, fetches, feed_dict, options, run_metadata)\u001b[0m\n\u001b[1;32m    980\u001b[0m     \u001b[0;32mif\u001b[0m \u001b[0mfinal_fetches\u001b[0m \u001b[0;32mor\u001b[0m \u001b[0mfinal_targets\u001b[0m\u001b[0;34m:\u001b[0m\u001b[0;34m\u001b[0m\u001b[0m\n\u001b[1;32m    981\u001b[0m       results = self._do_run(handle, final_targets, final_fetches,\n\u001b[0;32m--> 982\u001b[0;31m                              feed_dict_string, options, run_metadata)\n\u001b[0m\u001b[1;32m    983\u001b[0m     \u001b[0;32melse\u001b[0m\u001b[0;34m:\u001b[0m\u001b[0;34m\u001b[0m\u001b[0m\n\u001b[1;32m    984\u001b[0m       \u001b[0mresults\u001b[0m \u001b[0;34m=\u001b[0m \u001b[0;34m[\u001b[0m\u001b[0;34m]\u001b[0m\u001b[0;34m\u001b[0m\u001b[0m\n",
      "\u001b[0;32m~/anaconda3/envs/aind-nlp-capstone/lib/python3.5/site-packages/tensorflow/python/client/session.py\u001b[0m in \u001b[0;36m_do_run\u001b[0;34m(self, handle, target_list, fetch_list, feed_dict, options, run_metadata)\u001b[0m\n\u001b[1;32m   1030\u001b[0m     \u001b[0;32mif\u001b[0m \u001b[0mhandle\u001b[0m \u001b[0;32mis\u001b[0m \u001b[0;32mNone\u001b[0m\u001b[0;34m:\u001b[0m\u001b[0;34m\u001b[0m\u001b[0m\n\u001b[1;32m   1031\u001b[0m       return self._do_call(_run_fn, self._session, feed_dict, fetch_list,\n\u001b[0;32m-> 1032\u001b[0;31m                            target_list, options, run_metadata)\n\u001b[0m\u001b[1;32m   1033\u001b[0m     \u001b[0;32melse\u001b[0m\u001b[0;34m:\u001b[0m\u001b[0;34m\u001b[0m\u001b[0m\n\u001b[1;32m   1034\u001b[0m       return self._do_call(_prun_fn, self._session, handle, feed_dict,\n",
      "\u001b[0;32m~/anaconda3/envs/aind-nlp-capstone/lib/python3.5/site-packages/tensorflow/python/client/session.py\u001b[0m in \u001b[0;36m_do_call\u001b[0;34m(self, fn, *args)\u001b[0m\n\u001b[1;32m   1037\u001b[0m   \u001b[0;32mdef\u001b[0m \u001b[0m_do_call\u001b[0m\u001b[0;34m(\u001b[0m\u001b[0mself\u001b[0m\u001b[0;34m,\u001b[0m \u001b[0mfn\u001b[0m\u001b[0;34m,\u001b[0m \u001b[0;34m*\u001b[0m\u001b[0margs\u001b[0m\u001b[0;34m)\u001b[0m\u001b[0;34m:\u001b[0m\u001b[0;34m\u001b[0m\u001b[0m\n\u001b[1;32m   1038\u001b[0m     \u001b[0;32mtry\u001b[0m\u001b[0;34m:\u001b[0m\u001b[0;34m\u001b[0m\u001b[0m\n\u001b[0;32m-> 1039\u001b[0;31m       \u001b[0;32mreturn\u001b[0m \u001b[0mfn\u001b[0m\u001b[0;34m(\u001b[0m\u001b[0;34m*\u001b[0m\u001b[0margs\u001b[0m\u001b[0;34m)\u001b[0m\u001b[0;34m\u001b[0m\u001b[0m\n\u001b[0m\u001b[1;32m   1040\u001b[0m     \u001b[0;32mexcept\u001b[0m \u001b[0merrors\u001b[0m\u001b[0;34m.\u001b[0m\u001b[0mOpError\u001b[0m \u001b[0;32mas\u001b[0m \u001b[0me\u001b[0m\u001b[0;34m:\u001b[0m\u001b[0;34m\u001b[0m\u001b[0m\n\u001b[1;32m   1041\u001b[0m       \u001b[0mmessage\u001b[0m \u001b[0;34m=\u001b[0m \u001b[0mcompat\u001b[0m\u001b[0;34m.\u001b[0m\u001b[0mas_text\u001b[0m\u001b[0;34m(\u001b[0m\u001b[0me\u001b[0m\u001b[0;34m.\u001b[0m\u001b[0mmessage\u001b[0m\u001b[0;34m)\u001b[0m\u001b[0;34m\u001b[0m\u001b[0m\n",
      "\u001b[0;32m~/anaconda3/envs/aind-nlp-capstone/lib/python3.5/site-packages/tensorflow/python/client/session.py\u001b[0m in \u001b[0;36m_run_fn\u001b[0;34m(session, feed_dict, fetch_list, target_list, options, run_metadata)\u001b[0m\n\u001b[1;32m   1019\u001b[0m         return tf_session.TF_Run(session, options,\n\u001b[1;32m   1020\u001b[0m                                  \u001b[0mfeed_dict\u001b[0m\u001b[0;34m,\u001b[0m \u001b[0mfetch_list\u001b[0m\u001b[0;34m,\u001b[0m \u001b[0mtarget_list\u001b[0m\u001b[0;34m,\u001b[0m\u001b[0;34m\u001b[0m\u001b[0m\n\u001b[0;32m-> 1021\u001b[0;31m                                  status, run_metadata)\n\u001b[0m\u001b[1;32m   1022\u001b[0m \u001b[0;34m\u001b[0m\u001b[0m\n\u001b[1;32m   1023\u001b[0m     \u001b[0;32mdef\u001b[0m \u001b[0m_prun_fn\u001b[0m\u001b[0;34m(\u001b[0m\u001b[0msession\u001b[0m\u001b[0;34m,\u001b[0m \u001b[0mhandle\u001b[0m\u001b[0;34m,\u001b[0m \u001b[0mfeed_dict\u001b[0m\u001b[0;34m,\u001b[0m \u001b[0mfetch_list\u001b[0m\u001b[0;34m)\u001b[0m\u001b[0;34m:\u001b[0m\u001b[0;34m\u001b[0m\u001b[0m\n",
      "\u001b[0;31mKeyboardInterrupt\u001b[0m: "
     ]
    }
   ],
   "source": [
    "encdec_is_fit = False\n",
    "if not encdec_is_fit or retrain_models:\n",
    "    encdec_model.fit(tmp_x, preproc_french_sentences, batch_size=1024, epochs=50, validation_split=0.2, callbacks=[create_checkpoint_callback('model_encdec.hdf5')])\n",
    "    encdec_is_fit = True\n",
    "# Print prediction(s)\n",
    "print(logits_to_text(encdec_model.predict(tmp_x[:1])[0], french_tokenizer))"
   ]
  },
  {
   "cell_type": "code",
   "execution_count": 67,
   "metadata": {},
   "outputs": [
    {
     "name": "stdout",
     "output_type": "stream",
     "text": [
      "english: she dislikes grapefruit , lemons , and bananas .\n",
      "french:  elle n'aime pamplemousse citrons et et <PAD> <PAD> <PAD> <PAD> <PAD> <PAD> <PAD> <PAD> <PAD> <PAD> <PAD> <PAD> <PAD> <PAD> <PAD>\n",
      "\n",
      "english: india is usually mild during march , but it is quiet in may .\n",
      "french:  l' inde est généralement doux en mars mais il est calme en mai <PAD> <PAD> <PAD> <PAD> <PAD> <PAD> <PAD> <PAD>\n",
      "\n",
      "english: the united states is never snowy during december , and it is sometimes chilly in october .\n",
      "french:  les états unis est jamais de neige en décembre et il est parfois frisquet en octobre <PAD> <PAD> <PAD> <PAD> <PAD>\n",
      "\n",
      "english: the united states is never wet during fall , but it is never warm in june .\n",
      "french:  les états unis est jamais humide à l'automne mais il est jamais chaud en juin <PAD> <PAD> <PAD> <PAD> <PAD> <PAD>\n",
      "\n",
      "english: india is sometimes wonderful during september , and it is never freezing in spring .\n",
      "french:  l' inde est parfois merveilleux en septembre et il gèle jamais au printemps <PAD> <PAD> <PAD> <PAD> <PAD> <PAD> <PAD> <PAD>\n",
      "\n"
     ]
    }
   ],
   "source": [
    "# test some translations\n",
    "print_translations(encdec_model, english_sentences, tmp_x, french_tokenizer)\n"
   ]
  },
  {
   "cell_type": "markdown",
   "metadata": {},
   "source": [
    "### Model 5: Custom (IMPLEMENTATION)\n",
    "Use everything you learned from the previous models to create a model that incorporates embedding and a bidirectional rnn into one model."
   ]
  },
  {
   "cell_type": "code",
   "execution_count": 81,
   "metadata": {},
   "outputs": [
    {
     "name": "stdout",
     "output_type": "stream",
     "text": [
      "Final Model Loaded\n",
      "input_shape=(137861, 15)\n",
      "output_sequence_length=21\n",
      "english_vocab_size=200\n",
      "french_vocab_size=345\n",
      "switching to input size=15\n",
      "_________________________________________________________________\n",
      "Layer (type)                 Output Shape              Param #   \n",
      "=================================================================\n",
      "embedding_layer (Embedding)  (None, 15, 128)           25600     \n",
      "_________________________________________________________________\n",
      "bidirectional_9 (Bidirection (None, 200)               137400    \n",
      "_________________________________________________________________\n",
      "repeat_vector_6 (RepeatVecto (None, 21, 200)           0         \n",
      "_________________________________________________________________\n",
      "gru_12 (GRU)                 (None, 21, 128)           126336    \n",
      "_________________________________________________________________\n",
      "time_distributed_10 (TimeDis (None, 21, 345)           44505     \n",
      "=================================================================\n",
      "Total params: 333,841\n",
      "Trainable params: 333,841\n",
      "Non-trainable params: 0\n",
      "_________________________________________________________________\n",
      "None\n",
      "_________________________________________________________________\n",
      "Layer (type)                 Output Shape              Param #   \n",
      "=================================================================\n",
      "embedding_layer (Embedding)  (None, 15, 128)           25600     \n",
      "_________________________________________________________________\n",
      "bidirectional_9 (Bidirection (None, 200)               137400    \n",
      "_________________________________________________________________\n",
      "repeat_vector_6 (RepeatVecto (None, 21, 200)           0         \n",
      "_________________________________________________________________\n",
      "gru_12 (GRU)                 (None, 21, 128)           126336    \n",
      "_________________________________________________________________\n",
      "time_distributed_10 (TimeDis (None, 21, 345)           44505     \n",
      "=================================================================\n",
      "Total params: 333,841\n",
      "Trainable params: 333,841\n",
      "Non-trainable params: 0\n",
      "_________________________________________________________________\n",
      "None\n"
     ]
    }
   ],
   "source": [
    "from keras.models import Sequential\n",
    "from keras.layers import RepeatVector, Dense, Reshape, Embedding, TimeDistributed, Activation, Dropout\n",
    "from keras.layers import LSTM\n",
    "from keras.optimizers import Adam\n",
    "from keras.losses import sparse_categorical_crossentropy\n",
    "\n",
    "    \n",
    "def model_final(input_shape, output_sequence_length, english_vocab_size, french_vocab_size):\n",
    "    \"\"\"\n",
    "    Build and train an encoder-decoder model on x and y\n",
    "    :param input_shape: Tuple of input shape\n",
    "    :param output_sequence_length: Length of output sequence\n",
    "    :param english_vocab_size: Number of unique English words in the dataset\n",
    "    :param french_vocab_size: Number of unique French words in the dataset\n",
    "    :return: Keras model built, but not trained\n",
    "    \"\"\"\n",
    "    print(\"input_shape={}\".format(input_shape))\n",
    "    print(\"output_sequence_length={}\".format(output_sequence_length))\n",
    "    print(\"english_vocab_size={}\".format(english_vocab_size))\n",
    "    print(\"french_vocab_size={}\".format(french_vocab_size))\n",
    "    print(\"switching to input size={}\".format(input_shape[1]))\n",
    "    \n",
    "    # hyper-parameters\n",
    "    dim_embed = 128\n",
    "    dim_hidden = 100\n",
    "    learning_rate = 0.005\n",
    "    hyper_dropout = 0.25\n",
    "    \n",
    "    # OPTIONAL: Implement\n",
    "    model = Sequential()\n",
    "   \n",
    "    # build encoder network\n",
    "    #model.add(Reshape(target_shape=(input_shape[1],1), input_shape= input_shape[1:], name='reshape_layer' ))\n",
    "    model.add(Embedding(english_vocab_size, dim_embed, input_shape=input_shape[1:], mask_zero=True, name='embedding_layer'))\n",
    "    #model.add(LSTM(dim_hidden, name='lstm_encoder_layer'))\n",
    "    #model.add(RepeatVector(output_sequence_length, name='repeat_layer'))\n",
    "    #model.add(TimeDistributed(GRU(units=output_sequence_length, return_sequences=True), name='bidi_gru_encoder'))\n",
    "    \n",
    "    # decoder network\n",
    "    #model.add(LSTM(french_vocab_size, return_sequences=True, name='lstm_decoder_layer'))\n",
    "    #model.add(TimeDistributed(GRU(units=output_sequence_length, return_sequences=False)))\n",
    "    \n",
    "#     model.add(TimeDistributed(Dense(french_vocab_size, activation=\"relu\", name='td_dense'), name='td_dense_1'))\n",
    "    #model.add(Dropout(hyper_dropout))\n",
    "    #model.add(TimeDistributed(Dense(french_vocab_size, activation=\"relu\", name='td_dense'), name='td_dense_2'))\n",
    "    \n",
    "    \n",
    "#     model = Sequential()\n",
    "    out_dim = 128\n",
    "    model.add(Bidirectional(GRU(100, input_shape=input_shape, return_sequences=False))) # encoder\n",
    "    model.add(RepeatVector(output_sequence_length)) # Get the last output of the GRU and repeats it\n",
    "    model.add(GRU(out_dim, return_sequences=True)) # decoder\n",
    "    model.add(TimeDistributed(Dense(french_vocab_size, activation='softmax', name='activation_layer')))\n",
    "    \n",
    "    model.compile(loss=sparse_categorical_crossentropy,\n",
    "                  optimizer=Adam(learning_rate),\n",
    "                  metrics=['accuracy'])\n",
    "    print(model.summary())\n",
    "    return model\n",
    "#tests.test_model_final(model_final)\n",
    "\n",
    "\n",
    "\n",
    "print('Final Model Loaded')\n",
    "# TODO: Train neural network using model_final\n",
    "tmp_x = pad(preproc_english_sentences, preproc_english_sentences.shape[-1])\n",
    "\n",
    "# Train the neural network\n",
    "final_model = model_final(\n",
    "    tmp_x.shape,\n",
    "    preproc_french_sentences.shape[1],\n",
    "    len(english_tokenizer.word_index)+1,\n",
    "    len(french_tokenizer.word_index)+1)\n",
    "\n",
    "print(final_model.summary())\n"
   ]
  },
  {
   "cell_type": "code",
   "execution_count": 82,
   "metadata": {},
   "outputs": [
    {
     "name": "stdout",
     "output_type": "stream",
     "text": [
      "model loaded and ready to use\n"
     ]
    }
   ],
   "source": [
    "final_is_fit = False\n",
    "try:\n",
    "    final_model.load_weights('model_final.hdf5')\n",
    "    print('model loaded and ready to use')\n",
    "    final_is_fit = True\n",
    "except OSError:\n",
    "    print('model needs trainig')\n",
    "except ValueError:\n",
    "    print('different model, needs training')"
   ]
  },
  {
   "cell_type": "code",
   "execution_count": 83,
   "metadata": {},
   "outputs": [
    {
     "name": "stdout",
     "output_type": "stream",
     "text": [
      "Train on 110288 samples, validate on 27573 samples\n",
      "Epoch 1/20\n",
      "109568/110288 [============================>.] - ETA: 0s - loss: 0.1431 - acc: 0.9632Epoch 00000: val_acc improved from -inf to 0.96394, saving model to model_final.hdf5\n",
      "110288/110288 [==============================] - 30s - loss: 0.1430 - acc: 0.9632 - val_loss: 0.1395 - val_acc: 0.9639\n",
      "Epoch 2/20\n",
      "109568/110288 [============================>.] - ETA: 0s - loss: 0.1294 - acc: 0.9665Epoch 00001: val_acc improved from 0.96394 to 0.96513, saving model to model_final.hdf5\n",
      "110288/110288 [==============================] - 26s - loss: 0.1292 - acc: 0.9665 - val_loss: 0.1383 - val_acc: 0.9651\n",
      "Epoch 3/20\n",
      "109568/110288 [============================>.] - ETA: 0s - loss: 0.1115 - acc: 0.9715Epoch 00002: val_acc improved from 0.96513 to 0.97008, saving model to model_final.hdf5\n",
      "110288/110288 [==============================] - 26s - loss: 0.1116 - acc: 0.9714 - val_loss: 0.1168 - val_acc: 0.9701\n",
      "Epoch 4/20\n",
      "109568/110288 [============================>.] - ETA: 0s - loss: 0.1167 - acc: 0.9699Epoch 00003: val_acc did not improve\n",
      "110288/110288 [==============================] - 26s - loss: 0.1168 - acc: 0.9699 - val_loss: 0.1491 - val_acc: 0.9621\n",
      "Epoch 5/20\n",
      "109568/110288 [============================>.] - ETA: 0s - loss: 0.1173 - acc: 0.9695Epoch 00004: val_acc did not improve\n",
      "110288/110288 [==============================] - 26s - loss: 0.1174 - acc: 0.9695 - val_loss: 0.1505 - val_acc: 0.9632\n",
      "Epoch 6/20\n",
      "109568/110288 [============================>.] - ETA: 0s - loss: 0.1023 - acc: 0.9737Epoch 00005: val_acc improved from 0.97008 to 0.97256, saving model to model_final.hdf5\n",
      "110288/110288 [==============================] - 26s - loss: 0.1022 - acc: 0.9737 - val_loss: 0.1074 - val_acc: 0.9726\n",
      "Epoch 7/20\n",
      "109568/110288 [============================>.] - ETA: 0s - loss: 0.1154 - acc: 0.9700Epoch 00006: val_acc did not improve\n",
      "110288/110288 [==============================] - 26s - loss: 0.1154 - acc: 0.9701 - val_loss: 0.1473 - val_acc: 0.9625\n",
      "Epoch 8/20\n",
      "109568/110288 [============================>.] - ETA: 0s - loss: 0.1081 - acc: 0.9721Epoch 00007: val_acc did not improve\n",
      "110288/110288 [==============================] - 26s - loss: 0.1081 - acc: 0.9721 - val_loss: 0.1274 - val_acc: 0.9676\n",
      "Epoch 9/20\n",
      "109568/110288 [============================>.] - ETA: 0s - loss: 0.1732 - acc: 0.9535Epoch 00008: val_acc did not improve\n",
      "110288/110288 [==============================] - 26s - loss: 0.1733 - acc: 0.9535 - val_loss: 0.1808 - val_acc: 0.9527\n",
      "Epoch 10/20\n",
      "109568/110288 [============================>.] - ETA: 0s - loss: 0.1517 - acc: 0.9588Epoch 00009: val_acc did not improve\n",
      "110288/110288 [==============================] - 26s - loss: 0.1514 - acc: 0.9589 - val_loss: 0.1288 - val_acc: 0.9660\n",
      "Epoch 11/20\n",
      "109568/110288 [============================>.] - ETA: 0s - loss: 0.1016 - acc: 0.9728Epoch 00010: val_acc did not improve\n",
      "110288/110288 [==============================] - 26s - loss: 0.1017 - acc: 0.9727 - val_loss: 0.1214 - val_acc: 0.9684\n",
      "Epoch 12/20\n",
      "109568/110288 [============================>.] - ETA: 0s - loss: 0.0956 - acc: 0.9745Epoch 00011: val_acc did not improve\n",
      "110288/110288 [==============================] - 26s - loss: 0.0956 - acc: 0.9745 - val_loss: 0.1109 - val_acc: 0.9713\n",
      "Epoch 13/20\n",
      "109568/110288 [============================>.] - ETA: 0s - loss: 0.0894 - acc: 0.9766Epoch 00012: val_acc improved from 0.97256 to 0.97321, saving model to model_final.hdf5\n",
      "110288/110288 [==============================] - 26s - loss: 0.0894 - acc: 0.9766 - val_loss: 0.1042 - val_acc: 0.9732\n",
      "Epoch 14/20\n",
      "109568/110288 [============================>.] - ETA: 0s - loss: 0.0720 - acc: 0.9811Epoch 00013: val_acc improved from 0.97321 to 0.97525, saving model to model_final.hdf5\n",
      "110288/110288 [==============================] - 26s - loss: 0.0721 - acc: 0.9810 - val_loss: 0.0949 - val_acc: 0.9752\n",
      "Epoch 15/20\n",
      "109568/110288 [============================>.] - ETA: 0s - loss: 0.0684 - acc: 0.9819Epoch 00014: val_acc improved from 0.97525 to 0.97554, saving model to model_final.hdf5\n",
      "110288/110288 [==============================] - 26s - loss: 0.0684 - acc: 0.9819 - val_loss: 0.0955 - val_acc: 0.9755\n",
      "Epoch 16/20\n",
      "109568/110288 [============================>.] - ETA: 0s - loss: 0.1087 - acc: 0.9713Epoch 00015: val_acc did not improve\n",
      "110288/110288 [==============================] - 26s - loss: 0.1088 - acc: 0.9712 - val_loss: 0.1532 - val_acc: 0.9604\n",
      "Epoch 17/20\n",
      "109568/110288 [============================>.] - ETA: 0s - loss: 0.1328 - acc: 0.9649Epoch 00016: val_acc did not improve\n",
      "110288/110288 [==============================] - 26s - loss: 0.1334 - acc: 0.9648 - val_loss: 0.2565 - val_acc: 0.9318\n",
      "Epoch 18/20\n",
      "109568/110288 [============================>.] - ETA: 0s - loss: 0.1669 - acc: 0.9551Epoch 00017: val_acc did not improve\n",
      "110288/110288 [==============================] - 26s - loss: 0.1669 - acc: 0.9551 - val_loss: 0.1946 - val_acc: 0.9485\n",
      "Epoch 19/20\n",
      "109568/110288 [============================>.] - ETA: 0s - loss: 0.1536 - acc: 0.9583Epoch 00018: val_acc did not improve\n",
      "110288/110288 [==============================] - 26s - loss: 0.1535 - acc: 0.9583 - val_loss: 0.1374 - val_acc: 0.9635\n",
      "Epoch 20/20\n",
      "109568/110288 [============================>.] - ETA: 0s - loss: 0.1100 - acc: 0.9704Epoch 00019: val_acc did not improve\n",
      "110288/110288 [==============================] - 26s - loss: 0.1101 - acc: 0.9703 - val_loss: 0.1464 - val_acc: 0.9612\n"
     ]
    }
   ],
   "source": [
    "if not final_is_fit or retrain_models:\n",
    "    final_model.fit(tmp_x, preproc_french_sentences, batch_size=1024, epochs=20, validation_split=0.2, callbacks=[create_checkpoint_callback('model_final.hdf5')])\n",
    "\n"
   ]
  },
  {
   "cell_type": "code",
   "execution_count": 84,
   "metadata": {},
   "outputs": [
    {
     "name": "stdout",
     "output_type": "stream",
     "text": [
      "english: india is usually mild during july , and it is hot in spring .\n",
      "french:  l' inde est généralement doux en juillet et il est chaud au printemps <PAD> <PAD> <PAD> <PAD> <PAD> <PAD> <PAD> <PAD>\n",
      "\n",
      "english: their favorite fruit is the pear , but my favorite is the apple .\n",
      "french:  leur fruit préféré est la poire mais mon préféré est la pomme <PAD> <PAD> <PAD> <PAD> <PAD> <PAD> <PAD> <PAD> <PAD>\n",
      "\n",
      "english: the united states is sometimes hot during december , but it is never relaxing in july .\n",
      "french:  les états unis est parfois chaud en décembre mais il est jamais relaxant en juillet <PAD> <PAD> <PAD> <PAD> <PAD> <PAD>\n",
      "\n",
      "english: california is sometimes warm during spring , but it is never dry in winter .\n",
      "french:  californie est parfois chaud au printemps mais il est jamais en hiver <PAD> <PAD> <PAD> <PAD> <PAD> <PAD> <PAD> <PAD> <PAD>\n",
      "\n",
      "english: california is snowy during october , but it is usually warm in winter .\n",
      "french:  californie est enneigée en octobre mais il est habituellement chaud hiver hiver <PAD> <PAD> <PAD> <PAD> <PAD> <PAD> <PAD> <PAD> <PAD>\n",
      "\n"
     ]
    }
   ],
   "source": [
    "print_translations(final_model, english_sentences, tmp_x, french_tokenizer)"
   ]
  },
  {
   "cell_type": "markdown",
   "metadata": {},
   "source": [
    "## Prediction (IMPLEMENTATION)"
   ]
  },
  {
   "cell_type": "code",
   "execution_count": 88,
   "metadata": {},
   "outputs": [
    {
     "name": "stdout",
     "output_type": "stream",
     "text": [
      "Sample 1:\n",
      "il a vu un vieux camion jaune <PAD> <PAD> <PAD> <PAD> <PAD> <PAD> <PAD> <PAD> <PAD> <PAD> <PAD> <PAD> <PAD> <PAD>\n",
      "Il a vu un vieux camion jaune\n",
      "Sample 2:\n",
      "new jersey est parfois calme pendant l' et et il est neigeux en avril <PAD> <PAD> <PAD> <PAD> <PAD> <PAD> <PAD>\n",
      "<PAD> <PAD> <PAD> <PAD> <PAD> <PAD> <PAD> <PAD> <PAD> <PAD> <PAD> <PAD> <PAD> <PAD> <PAD> <PAD> <PAD> <PAD> <PAD> <PAD> <PAD>\n"
     ]
    }
   ],
   "source": [
    "import numpy as np\n",
    "from keras.preprocessing.sequence import pad_sequences\n",
    "\n",
    "\n",
    "def final_predictions(x, y, x_tk, y_tk):\n",
    "    \"\"\"\n",
    "    Gets predictions using the final model\n",
    "    :param x: Preprocessed English data\n",
    "    :param y: Preprocessed French data\n",
    "    :param x_tk: English tokenizer\n",
    "    :param y_tk: French tokenizer\n",
    "    \"\"\"\n",
    "    # TODO: Train neural network using model_final\n",
    "#    tmp_x = pad(x, y.shape[1])\n",
    "\n",
    "    # Train the neural network\n",
    "    \"\"\"\n",
    "    model = bd_model(\n",
    "        tmp_x.shape,\n",
    "        y.shape[1],\n",
    "        len(x_tk.word_index)+1,\n",
    "        len(y_tk.word_index)+1)\n",
    "\n",
    "    model.fit(tmp_x, y, batch_size=1024, epochs=10, validation_split=0.2)\n",
    "    \"\"\"\n",
    "    model=final_model\n",
    "    \n",
    "     ## DON'T EDIT ANYTHING BELOW THIS LINE\n",
    "    y_id_to_word = {value: key for key, value in y_tk.word_index.items()}\n",
    "    y_id_to_word[0] = '<PAD>'\n",
    "\n",
    "    sentence = 'he saw a old yellow truck'\n",
    "    sentence = [x_tk.word_index[word] for word in sentence.split()]\n",
    "    sentence = pad_sequences([sentence], maxlen=x.shape[-1], padding='post')\n",
    "    sentences = np.array([sentence[0], x[0]])\n",
    "    predictions = model.predict(sentences, len(sentences))\n",
    "\n",
    "    print('Sample 1:')\n",
    "    print(' '.join([y_id_to_word[np.argmax(x)] for x in predictions[0]]))\n",
    "    print('Il a vu un vieux camion jaune')\n",
    "    print('Sample 2:')\n",
    "    print(' '.join([y_id_to_word[np.argmax(x)] for x in predictions[1]]))\n",
    "    print(' '.join([y_id_to_word[np.argmax(x)] for x in y[0]]))\n",
    "\n",
    "\n",
    "final_predictions(preproc_english_sentences, preproc_french_sentences, english_tokenizer, french_tokenizer)\n"
   ]
  },
  {
   "cell_type": "markdown",
   "metadata": {},
   "source": [
    "## Submission\n",
    "When you are ready to submit your project, do the following steps:\n",
    "1. Ensure you pass all points on the [rubric](https://review.udacity.com/#!/rubrics/1004/view).\n",
    "2. Submit the following in a zip file.\n",
    "  - `helper.py`\n",
    "  - `machine_translation.ipynb`\n",
    "  - `machine_translation.html`\n",
    "    - You can export the notebook by navigating to **File -> Download as -> HTML (.html)**."
   ]
  },
  {
   "cell_type": "code",
   "execution_count": null,
   "metadata": {},
   "outputs": [],
   "source": []
  }
 ],
 "metadata": {
  "kernelspec": {
   "display_name": "Python 3",
   "language": "python",
   "name": "python3"
  },
  "language_info": {
   "codemirror_mode": {
    "name": "ipython",
    "version": 3
   },
   "file_extension": ".py",
   "mimetype": "text/x-python",
   "name": "python",
   "nbconvert_exporter": "python",
   "pygments_lexer": "ipython3",
   "version": "3.5.4"
  }
 },
 "nbformat": 4,
 "nbformat_minor": 1
}
