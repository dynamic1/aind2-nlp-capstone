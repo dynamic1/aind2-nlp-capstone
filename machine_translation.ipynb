{
 "cells": [
  {
   "cell_type": "markdown",
   "metadata": {
    "collapsed": true
   },
   "source": [
    "# Artificial Intelligence Nanodegree\n",
    "## Machine Translation Project\n",
    "In this notebook, sections that end with **'(IMPLEMENTATION)'** in the header indicate that the following blocks of code will require additional functionality which you must provide. Please be sure to read the instructions carefully!\n",
    "\n",
    "## Introduction\n",
    "In this notebook, you will build a deep neural network that functions as part of an end-to-end machine translation pipeline. Your completed pipeline will accept English text as input and return the French translation.\n",
    "\n",
    "- **Preprocess** - You'll convert text to sequence of integers.\n",
    "- **Models** Create models which accepts a sequence of integers as input and returns a probability distribution over possible translations. After learning about the basic types of neural networks that are often used for machine translation, you will engage in your own investigations, to design your own model!\n",
    "- **Prediction** Run the model on English text.\n",
    "\n",
    "## Dataset\n",
    "We begin by investigating the dataset that will be used to train and evaluate your pipeline.  The most common datasets used for machine translation are from [WMT](http://www.statmt.org/).  However, that will take a long time to train a neural network on.  We'll be using a dataset we created for this project that contains a small vocabulary.  You'll be able to train your model in a reasonable time with this dataset.\n",
    "### Load Data\n",
    "The data is located in `data/small_vocab_en` and `data/small_vocab_fr`. The `small_vocab_en` file contains English sentences with their French translations in the `small_vocab_fr` file. Load the English and French data from these files from running the cell below."
   ]
  },
  {
   "cell_type": "code",
   "execution_count": 43,
   "metadata": {},
   "outputs": [],
   "source": [
    "# if set to true will cause all the models to be re-trained\n",
    "# if set to false, models will be loaded from weight files (if available)\n",
    "retrain_models = False\n",
    "#retrain_models = True\n"
   ]
  },
  {
   "cell_type": "code",
   "execution_count": 2,
   "metadata": {},
   "outputs": [
    {
     "data": {
      "text/html": [
       "<style>.container { width:100% !important; }</style>"
      ],
      "text/plain": [
       "<IPython.core.display.HTML object>"
      ]
     },
     "metadata": {},
     "output_type": "display_data"
    }
   ],
   "source": [
    "from IPython.core.display import display, HTML\n",
    "\n",
    "def make_page_wide():\n",
    "    display(HTML(\"<style>.container { width:100% !important; }</style>\"))\n",
    "\n",
    "make_page_wide()"
   ]
  },
  {
   "cell_type": "code",
   "execution_count": 3,
   "metadata": {},
   "outputs": [
    {
     "name": "stderr",
     "output_type": "stream",
     "text": [
      "Using TensorFlow backend.\n"
     ]
    },
    {
     "name": "stdout",
     "output_type": "stream",
     "text": [
      "Dataset Loaded\n"
     ]
    }
   ],
   "source": [
    "import helper\n",
    "\n",
    "import keras\n",
    "\n",
    "# Load English data\n",
    "english_sentences = helper.load_data('data/small_vocab_en')\n",
    "# Load French data\n",
    "french_sentences = helper.load_data('data/small_vocab_fr')\n",
    "\n",
    "#print(french_sentences[0:5])\n",
    "print('Dataset Loaded')"
   ]
  },
  {
   "cell_type": "markdown",
   "metadata": {},
   "source": [
    "### Files\n",
    "Each line in `small_vocab_en` contains an English sentence with the respective translation in each line of `small_vocab_fr`.  View the first two lines from each file."
   ]
  },
  {
   "cell_type": "code",
   "execution_count": 4,
   "metadata": {},
   "outputs": [
    {
     "name": "stdout",
     "output_type": "stream",
     "text": [
      "small_vocab_en Line 1:  new jersey is sometimes quiet during autumn , and it is snowy in april .\n",
      "small_vocab_fr Line 1:  new jersey est parfois calme pendant l' automne , et il est neigeux en avril .\n",
      "small_vocab_en Line 2:  the united states is usually chilly during july , and it is usually freezing in november .\n",
      "small_vocab_fr Line 2:  les états-unis est généralement froid en juillet , et il gèle habituellement en novembre .\n"
     ]
    }
   ],
   "source": [
    "for sample_i in range(2):\n",
    "    print('small_vocab_en Line {}:  {}'.format(sample_i + 1, english_sentences[sample_i]))\n",
    "    print('small_vocab_fr Line {}:  {}'.format(sample_i + 1, french_sentences[sample_i]))"
   ]
  },
  {
   "cell_type": "markdown",
   "metadata": {},
   "source": [
    "From looking at the sentences, you can see they have been preprocessed already.  The puncuations have been delimited using spaces. All the text have been converted to lowercase.  This should save you some time, but the text requires more preprocessing.\n",
    "### Vocabulary\n",
    "The complexity of the problem is determined by the complexity of the vocabulary.  A more complex vocabulary is a more complex problem.  Let's look at the complexity of the dataset we'll be working with."
   ]
  },
  {
   "cell_type": "code",
   "execution_count": 5,
   "metadata": {},
   "outputs": [
    {
     "name": "stdout",
     "output_type": "stream",
     "text": [
      "1823250 English words.\n",
      "227 unique English words.\n",
      "10 Most common words in the English dataset:\n",
      "\"is\" \",\" \".\" \"in\" \"it\" \"during\" \"the\" \"but\" \"and\" \"sometimes\"\n",
      "\n",
      "1961295 French words.\n",
      "355 unique French words.\n",
      "10 Most common words in the French dataset:\n",
      "\"est\" \".\" \",\" \"en\" \"il\" \"les\" \"mais\" \"et\" \"la\" \"parfois\"\n"
     ]
    }
   ],
   "source": [
    "import collections\n",
    "\n",
    "\n",
    "english_words_counter = collections.Counter([word for sentence in english_sentences for word in sentence.split()])\n",
    "french_words_counter = collections.Counter([word for sentence in french_sentences for word in sentence.split()])\n",
    "\n",
    "print('{} English words.'.format(len([word for sentence in english_sentences for word in sentence.split()])))\n",
    "print('{} unique English words.'.format(len(english_words_counter)))\n",
    "print('10 Most common words in the English dataset:')\n",
    "print('\"' + '\" \"'.join(list(zip(*english_words_counter.most_common(10)))[0]) + '\"')\n",
    "print()\n",
    "print('{} French words.'.format(len([word for sentence in french_sentences for word in sentence.split()])))\n",
    "print('{} unique French words.'.format(len(french_words_counter)))\n",
    "print('10 Most common words in the French dataset:')\n",
    "print('\"' + '\" \"'.join(list(zip(*french_words_counter.most_common(10)))[0]) + '\"')"
   ]
  },
  {
   "cell_type": "markdown",
   "metadata": {},
   "source": [
    "For comparison, _Alice's Adventures in Wonderland_ contains 2,766 unique words of a total of 15,500 words.\n",
    "## Preprocess\n",
    "For this project, you won't use text data as input to your model. Instead, you'll convert the text into sequences of integers using the following preprocess methods:\n",
    "1. Tokenize the words into ids\n",
    "2. Add padding to make all the sequences the same length.\n",
    "\n",
    "Time to start preprocessing the data...\n",
    "### Tokenize (IMPLEMENTATION)\n",
    "For a neural network to predict on text data, it first has to be turned into data it can understand. Text data like \"dog\" is a sequence of ASCII character encodings.  Since a neural network is a series of multiplication and addition operations, the input data needs to be number(s).\n",
    "\n",
    "We can turn each character into a number or each word into a number.  These are called character and word ids, respectively.  Character ids are used for character level models that generate text predictions for each character.  A word level model uses word ids that generate text predictions for each word.  Word level models tend to learn better, since they are lower in complexity, so we'll use those.\n",
    "\n",
    "Turn each sentence into a sequence of words ids using Keras's [`Tokenizer`](https://keras.io/preprocessing/text/#tokenizer) function. Use this function to tokenize `english_sentences` and `french_sentences` in the cell below.\n",
    "\n",
    "Running the cell will run `tokenize` on sample data and show output for debugging."
   ]
  },
  {
   "cell_type": "code",
   "execution_count": 6,
   "metadata": {},
   "outputs": [
    {
     "name": "stdout",
     "output_type": "stream",
     "text": [
      "{'of': 14, 'a': 3, 'is': 19, 'short': 20, 'fox': 5, 'over': 7, 'by': 10, 'jove': 11, 'quick': 2, 'prize': 17, 'study': 13, 'my': 12, 'dog': 9, 'won': 16, 'brown': 4, 'lexicography': 15, 'jumps': 6, 'lazy': 8, 'the': 1, 'sentence': 21, 'this': 18}\n",
      "\n",
      "Sequence 1 in x\n",
      "  Input:  The quick brown fox jumps over the lazy dog .\n",
      "  Output: [1, 2, 4, 5, 6, 7, 1, 8, 9]\n",
      "Sequence 2 in x\n",
      "  Input:  By Jove , my quick study of lexicography won a prize .\n",
      "  Output: [10, 11, 12, 2, 13, 14, 15, 16, 3, 17]\n",
      "Sequence 3 in x\n",
      "  Input:  This is a short sentence .\n",
      "  Output: [18, 19, 3, 20, 21]\n"
     ]
    }
   ],
   "source": [
    "import project_tests as tests\n",
    "from keras.preprocessing.text import Tokenizer\n",
    "\n",
    "\n",
    "def tokenize(x):\n",
    "    \"\"\"\n",
    "    Tokenize x\n",
    "    :param x: List of sentences/strings to be tokenized\n",
    "    :return: Tuple of (tokenized x data, tokenizer used to tokenize x)\n",
    "    \"\"\"\n",
    "    # TODO: Implement\n",
    "    \n",
    "    tokenizer = Tokenizer()\n",
    "    tokenizer.fit_on_texts(x)\n",
    "    #print(tokenizer.word_index)\n",
    "    sequences = tokenizer.texts_to_sequences(x)\n",
    "    \n",
    "    return sequences, tokenizer\n",
    "\n",
    "tests.test_tokenize(tokenize)\n",
    "\n",
    "# Tokenize Example output\n",
    "text_sentences = [\n",
    "    'The quick brown fox jumps over the lazy dog .',\n",
    "    'By Jove , my quick study of lexicography won a prize .',\n",
    "    'This is a short sentence .']\n",
    "text_tokenized, text_tokenizer = tokenize(text_sentences)\n",
    "print(text_tokenizer.word_index)\n",
    "print()\n",
    "for sample_i, (sent, token_sent) in enumerate(zip(text_sentences, text_tokenized)):\n",
    "    print('Sequence {} in x'.format(sample_i + 1))\n",
    "    print('  Input:  {}'.format(sent))\n",
    "    print('  Output: {}'.format(token_sent))"
   ]
  },
  {
   "cell_type": "markdown",
   "metadata": {},
   "source": [
    "### Padding (IMPLEMENTATION)\n",
    "When batching the sequence of word ids together, each sequence needs to be the same length.  Since sentences are dynamic in length, we can add padding to the end of the sequences to make them the same length.\n",
    "\n",
    "Make sure all the English sequences have the same length and all the French sequences have the same length by adding padding to the **end** of each sequence using Keras's [`pad_sequences`](https://keras.io/preprocessing/sequence/#pad_sequences) function."
   ]
  },
  {
   "cell_type": "code",
   "execution_count": 7,
   "metadata": {},
   "outputs": [
    {
     "name": "stdout",
     "output_type": "stream",
     "text": [
      "Sequence 1 in x\n",
      "  Input:  [1 2 4 5 6 7 1 8 9]\n",
      "  Output: [1 2 4 5 6 7 1 8 9 0]\n",
      "Sequence 2 in x\n",
      "  Input:  [10 11 12  2 13 14 15 16  3 17]\n",
      "  Output: [10 11 12  2 13 14 15 16  3 17]\n",
      "Sequence 3 in x\n",
      "  Input:  [18 19  3 20 21]\n",
      "  Output: [18 19  3 20 21  0  0  0  0  0]\n"
     ]
    }
   ],
   "source": [
    "import numpy as np\n",
    "from keras.preprocessing.sequence import pad_sequences\n",
    "\n",
    "\n",
    "def pad(x, length=None):\n",
    "    \"\"\"\n",
    "    Pad x\n",
    "    :param x: List of sequences.\n",
    "    :param length: Length to pad the sequence to.  If None, use length of longest sequence in x.\n",
    "    :return: Padded numpy array of sequences\n",
    "    \"\"\"\n",
    "    # TODO: Implement\n",
    "    padded_ar = pad_sequences(x, maxlen=length, padding='post', truncating='post')\n",
    "#     print(padded_ar)\n",
    "    return padded_ar\n",
    "tests.test_pad(pad)\n",
    "\n",
    "# Pad Tokenized output\n",
    "test_pad = pad(text_tokenized)\n",
    "for sample_i, (token_sent, pad_sent) in enumerate(zip(text_tokenized, test_pad)):\n",
    "    print('Sequence {} in x'.format(sample_i + 1))\n",
    "    print('  Input:  {}'.format(np.array(token_sent)))\n",
    "    print('  Output: {}'.format(pad_sent))"
   ]
  },
  {
   "cell_type": "markdown",
   "metadata": {},
   "source": [
    "### Preprocess Pipeline\n",
    "Your focus for this project is to build neural network architecture, so we won't ask you to create a preprocess pipeline.  Instead, we've provided you with the implementation of the `preprocess` function."
   ]
  },
  {
   "cell_type": "code",
   "execution_count": 8,
   "metadata": {},
   "outputs": [
    {
     "name": "stdout",
     "output_type": "stream",
     "text": [
      "the united states is usually chilly during july , and it is usually freezing in november .\n",
      "les états-unis est généralement froid en juillet , et il gèle habituellement en novembre .\n"
     ]
    }
   ],
   "source": [
    "print(english_sentences[1])\n",
    "print(french_sentences[1])"
   ]
  },
  {
   "cell_type": "code",
   "execution_count": 9,
   "metadata": {},
   "outputs": [
    {
     "name": "stdout",
     "output_type": "stream",
     "text": [
      "Data Preprocessed\n"
     ]
    }
   ],
   "source": [
    "def preprocess(x, y):\n",
    "    \"\"\"\n",
    "    Preprocess x and y\n",
    "    :param x: Feature List of sentences\n",
    "    :param y: Label List of sentences\n",
    "    :return: Tuple of (Preprocessed x, Preprocessed y, x tokenizer, y tokenizer)\n",
    "    \"\"\"\n",
    "    preprocess_x, x_tk = tokenize(x)\n",
    "    preprocess_y, y_tk = tokenize(y)\n",
    "\n",
    "    \n",
    "    preprocess_x = pad(preprocess_x)\n",
    "    preprocess_y = pad(preprocess_y)\n",
    "\n",
    "    # Keras's sparse_categorical_crossentropy function requires the labels to be in 3 dimensions\n",
    "    preprocess_y = preprocess_y.reshape(*preprocess_y.shape, 1)\n",
    "\n",
    "    return preprocess_x, preprocess_y, x_tk, y_tk\n",
    "\n",
    "preproc_english_sentences, preproc_french_sentences, english_tokenizer, french_tokenizer =\\\n",
    "    preprocess(english_sentences, french_sentences)\n",
    "\n",
    "\n",
    "print('Data Preprocessed')"
   ]
  },
  {
   "cell_type": "code",
   "execution_count": 10,
   "metadata": {},
   "outputs": [],
   "source": [
    "# tmp_x = None\n",
    "# tmp_y = None\n",
    "tmp_x, tmp_x_tk = tokenize(english_sentences)\n",
    "tmp_y, tmp_y_tk = tokenize(french_sentences)\n"
   ]
  },
  {
   "cell_type": "code",
   "execution_count": 11,
   "metadata": {},
   "outputs": [
    {
     "name": "stdout",
     "output_type": "stream",
     "text": [
      "the united states is usually chilly during july , and it is usually freezing in november .\n",
      "les états-unis est généralement froid en juillet , et il gèle habituellement en novembre .\n",
      "(137861, 15)\n",
      "(137861, 21, 1)\n",
      "longest english sentence: len=15, idx=137834\n",
      "[5, 20, 21, 1, 9, 62, 4, 36, 6, 3, 1, 10, 65, 2, 48]\n",
      "the united states is usually chilly during january , but it is never wet in february .\n",
      "les états-unis est généralement froid en janvier , mais il est jamais humide en février .\n",
      "longest frenech sentence: len=21, idx=123825\n",
      "[4, 32, 31, 1, 9, 26, 63, 15, 111, 22, 11, 24, 5, 3, 105, 103, 9, 19, 26, 11, 24]\n",
      "the united states is never dry during autumn , but it is never cold in fall .\n",
      "les états-unis est jamais à sec au cours de l' automne , mais il ne fait jamais froid à l' automne .\n"
     ]
    }
   ],
   "source": [
    "print(english_sentences[1])\n",
    "print(french_sentences[1])\n",
    "\n",
    "#import sys\n",
    "#print(sys.version)\n",
    "\n",
    "print(preproc_english_sentences.shape)\n",
    "print(preproc_french_sentences.shape)\n",
    "\n",
    "#print(preproc_english_sentences[0])\n",
    "#print(preproc_french_sentences[1])\n",
    "\n",
    "\n",
    "max_len_e, idx_max_len_e = max([ (len(s), index) for (index,s) in enumerate(tmp_x)])\n",
    "max_len_f, idx_max_len_f = max([ (len(s), index) for (index,s) in enumerate(tmp_y)])\n",
    "\n",
    "print(\"longest english sentence: len={max_len_e}, idx={idx_max_len_e}\".format(max_len_e=max_len_e, idx_max_len_e=idx_max_len_e))\n",
    "print(tmp_x[idx_max_len_e])\n",
    "print(english_sentences[idx_max_len_e])\n",
    "print(french_sentences[idx_max_len_e])\n",
    "\n",
    "print(\"longest frenech sentence: len={max_len_f}, idx={idx_max_len_f}\".format(max_len_f=max_len_f, idx_max_len_f=idx_max_len_f))\n",
    "print(tmp_y[idx_max_len_f])\n",
    "print(english_sentences[idx_max_len_f])\n",
    "print(french_sentences[idx_max_len_f])"
   ]
  },
  {
   "cell_type": "code",
   "execution_count": 12,
   "metadata": {},
   "outputs": [
    {
     "data": {
      "text/plain": [
       "(array([  1.00000000e+00,   0.00000000e+00,   0.00000000e+00,\n",
       "          1.37000000e+02,   1.46000000e+02,   2.59200000e+03,\n",
       "          2.63750000e+04,   5.12200000e+03,   1.03100000e+03,\n",
       "          8.04000000e+02,   1.76000000e+02,   3.53500000e+03,\n",
       "          2.70090000e+04,   3.49130000e+04,   2.99620000e+04,\n",
       "          6.05800000e+03,   0.00000000e+00,   0.00000000e+00,\n",
       "          0.00000000e+00,   0.00000000e+00,   0.00000000e+00,\n",
       "          0.00000000e+00,   0.00000000e+00,   0.00000000e+00]),\n",
       " array([ 0,  1,  2,  3,  4,  5,  6,  7,  8,  9, 10, 11, 12, 13, 14, 15, 16,\n",
       "        17, 18, 19, 20, 21, 22, 23, 24]),\n",
       " <a list of 24 Patch objects>)"
      ]
     },
     "execution_count": 12,
     "metadata": {},
     "output_type": "execute_result"
    },
    {
     "data": {
      "image/png": "[encoded data removed]",
      "text/plain": [
       "<matplotlib.figure.Figure at 0x7f9dce1063c8>"
      ]
     },
     "metadata": {},
     "output_type": "display_data"
    }
   ],
   "source": [
    "import matplotlib\n",
    "import matplotlib.pyplot as plt\n",
    "\n",
    "%matplotlib inline\n",
    "\n",
    "#distribution of length of english senetecens\n",
    "plt.hist([len(s) for s in tmp_x], bins=range(25))"
   ]
  },
  {
   "cell_type": "code",
   "execution_count": 13,
   "metadata": {},
   "outputs": [
    {
     "data": {
      "text/plain": [
       "(array([  1.00000000e+00,   0.00000000e+00,   0.00000000e+00,\n",
       "          3.10000000e+01,   1.85000000e+02,   5.64000000e+02,\n",
       "          4.97300000e+03,   5.41400000e+03,   4.76700000e+03,\n",
       "          1.51240000e+04,   4.68400000e+03,   3.66000000e+03,\n",
       "          1.36470000e+04,   2.01280000e+04,   3.18310000e+04,\n",
       "          2.12290000e+04,   8.01800000e+03,   2.82000000e+03,\n",
       "          6.75000000e+02,   9.90000000e+01,   8.00000000e+00,\n",
       "          3.00000000e+00,   0.00000000e+00,   0.00000000e+00]),\n",
       " array([ 0,  1,  2,  3,  4,  5,  6,  7,  8,  9, 10, 11, 12, 13, 14, 15, 16,\n",
       "        17, 18, 19, 20, 21, 22, 23, 24]),\n",
       " <a list of 24 Patch objects>)"
      ]
     },
     "execution_count": 13,
     "metadata": {},
     "output_type": "execute_result"
    },
    {
     "data": {
      "image/png": "[encoded data removed]",
      "text/plain": [
       "<matplotlib.figure.Figure at 0x7f9dcc9b50b8>"
      ]
     },
     "metadata": {},
     "output_type": "display_data"
    }
   ],
   "source": [
    "# dsitribution of length of french sentences\n",
    "plt.hist([len(s) for s in tmp_y], bins=range(25))"
   ]
  },
  {
   "cell_type": "markdown",
   "metadata": {},
   "source": [
    "## Models\n",
    "In this section, you will experiment with various neural network architectures.\n",
    "You will begin by training four relatively simple architectures.\n",
    "- Model 1 is a simple RNN\n",
    "- Model 2 is a RNN with Embedding\n",
    "- Model 3 is a Bidirectional RNN\n",
    "- Model 4 is an optional Encoder-Decoder RNN\n",
    "\n",
    "After experimenting with the four simple architectures, you will construct a deeper architecture that is designed to outperform all four models.\n",
    "### Ids Back to Text\n",
    "The neural network will be translating the input to words ids, which isn't the final form we want.  We want the French translation.  The function `logits_to_text` will bridge the gab between the logits from the neural network to the French translation.  You'll be using this function to better understand the output of the neural network."
   ]
  },
  {
   "cell_type": "code",
   "execution_count": 14,
   "metadata": {},
   "outputs": [
    {
     "name": "stdout",
     "output_type": "stream",
     "text": [
      "`logits_to_text` function loaded.\n"
     ]
    }
   ],
   "source": [
    "def logits_to_text(logits, tokenizer):\n",
    "    \"\"\"\n",
    "    Turn logits from a neural network into text using the tokenizer\n",
    "    :param logits: Logits from a neural network\n",
    "    :param tokenizer: Keras Tokenizer fit on the labels\n",
    "    :return: String that represents the text of the logits\n",
    "    \"\"\"\n",
    "    index_to_words = {id: word for word, id in tokenizer.word_index.items()}\n",
    "    index_to_words[0] = '<PAD>'\n",
    "\n",
    "    return ' '.join([index_to_words[prediction] for prediction in np.argmax(logits, 1)])\n",
    "\n",
    "print('`logits_to_text` function loaded.')"
   ]
  },
  {
   "cell_type": "code",
   "execution_count": 15,
   "metadata": {},
   "outputs": [],
   "source": [
    "import random\n",
    "\n",
    "\n",
    "def print_translations(model, x, y, y_tk, how_many=5, indexes=[]):\n",
    "    try:\n",
    "        how_many = int(how_many)\n",
    "    except ValueError:\n",
    "        how_many = 5\n",
    "        \n",
    "    if type(indexes)!=list or len(indexes)==0:\n",
    "        indexes = random.sample(range(1, len(x)), how_many)\n",
    "        \n",
    "    for idx in indexes:\n",
    "        print(\"english: {}\".format(x[idx]))\n",
    "        predictions = model.predict(y[idx:idx+1])\n",
    "        # prediciton.shape = (1,seq_length, logits)\n",
    "        # print(predictions.shape[0])\n",
    "        for prediction_idx in range(predictions.shape[0]):\n",
    "            print(\"french:  {pred}\".format(prediction_idx=prediction_idx, pred=logits_to_text(predictions[prediction_idx], y_tk)))\n",
    "        print()\n",
    "    "
   ]
  },
  {
   "cell_type": "code",
   "execution_count": 16,
   "metadata": {},
   "outputs": [],
   "source": [
    "from keras.callbacks import ModelCheckpoint\n",
    "\n",
    "def create_checkpoint_callback(filename):\n",
    "    return ModelCheckpoint(filename, monitor='val_acc', verbose=1, save_best_only=True)"
   ]
  },
  {
   "cell_type": "markdown",
   "metadata": {},
   "source": [
    "### Model 1: RNN (IMPLEMENTATION)\n",
    "![RNN](images/rnn.png)\n",
    "A basic RNN model is a good baseline for sequence data.  In this model, you'll build a RNN that translates English to French."
   ]
  },
  {
   "cell_type": "code",
   "execution_count": 17,
   "metadata": {
    "scrolled": false
   },
   "outputs": [
    {
     "name": "stdout",
     "output_type": "stream",
     "text": [
      "input_shape=(137861, 21, 1)\n",
      "output_sequence_length=21\n",
      "english_vocab_size=199\n",
      "french_vocab_size=344\n",
      "input_shape=(137861, 21, 1)\n",
      "output_sequence_length=21\n",
      "english_vocab_size=199\n",
      "french_vocab_size=344\n",
      "_________________________________________________________________\n",
      "Layer (type)                 Output Shape              Param #   \n",
      "=================================================================\n",
      "input_layer (InputLayer)     (None, 21, 1)             0         \n",
      "_________________________________________________________________\n",
      "gru_layer (GRU)              (None, 21, 100)           30600     \n",
      "_________________________________________________________________\n",
      "prediction_layer (Dense)     (None, 21, 344)           34744     \n",
      "=================================================================\n",
      "Total params: 65,344\n",
      "Trainable params: 65,344\n",
      "Non-trainable params: 0\n",
      "_________________________________________________________________\n",
      "None\n"
     ]
    }
   ],
   "source": [
    "from keras.layers import GRU, Input, Dense, TimeDistributed\n",
    "from keras.models import Model\n",
    "from keras.layers import Activation\n",
    "from keras.optimizers import Adam\n",
    "from keras.losses import sparse_categorical_crossentropy\n",
    "\n",
    "\n",
    "def simple_model(input_shape, output_sequence_length, english_vocab_size, french_vocab_size):\n",
    "    \"\"\"\n",
    "    Build and train a basic RNN on x and y\n",
    "    :param input_shape: Tuple of input shape\n",
    "    :param output_sequence_length: Length of output sequence\n",
    "    :param english_vocab_size: Number of unique English words in the dataset\n",
    "    :param french_vocab_size: Number of unique French words in the dataset\n",
    "    :return: Keras model built, but not trained\n",
    "    \"\"\"\n",
    "    # TODO: Build the layers\n",
    "    print(\"input_shape={}\".format(input_shape))\n",
    "    print(\"output_sequence_length={}\".format(output_sequence_length))\n",
    "    print(\"english_vocab_size={}\".format(english_vocab_size))\n",
    "    print(\"french_vocab_size={}\".format(french_vocab_size))\n",
    "    \n",
    "    \n",
    "    input_sequences = Input(shape=(21,1), name='input_layer')\n",
    "    \n",
    "    #gru = GRU(units=french_vocab_size+1, return_sequences=True, name='gru_layer')(input_sequences)\n",
    "    #predictions = TimeDistributed(Dense(units=french_vocab_size+1, input_shape=(21,french_vocab_size+1), name='dense_td'), name='time_distributed')(gru)\n",
    "    #model = Model(inputs = input_sequences, outputs=predictions)\n",
    "    \n",
    "    #gru = GRU(units=french_vocab_size+1, return_sequences=True, name='gru_layer')(input_sequences)\n",
    "    gru = GRU(units=100, return_sequences=True, name='gru_layer')(input_sequences)\n",
    "    #predictions = TimeDistributed(Dense(units=french_vocab_size+1, input_shape=(21,french_vocab_size+1), name='dense_td'), name='time_distributed')(gru)\n",
    "    predictions=Dense(french_vocab_size, activation='softmax', name='prediction_layer')(gru)\n",
    "    model = Model(inputs = input_sequences, outputs=predictions)\n",
    "    \n",
    "    learning_rate=0.2\n",
    "    model.compile(loss=sparse_categorical_crossentropy,\n",
    "                 optimizer=Adam(learning_rate),\n",
    "                 metrics=['accuracy'])\n",
    "#     print( model.summary())\n",
    "    return model\n",
    "\n",
    "tests.test_simple_model(simple_model)\n",
    "\n",
    "# Reshaping the input to work with a basic RNN\n",
    "tmp_x = pad(preproc_english_sentences, preproc_french_sentences.shape[1])\n",
    "tmp_x = tmp_x.reshape((-1, preproc_french_sentences.shape[-2], 1))\n",
    "\n",
    "# Train the neural network\n",
    "simple_rnn_model = simple_model(\n",
    "    tmp_x.shape,\n",
    "    preproc_french_sentences.shape[1],\n",
    "    len(english_tokenizer.word_index),\n",
    "    len(french_tokenizer.word_index))\n",
    "\n",
    "print(simple_rnn_model.summary())"
   ]
  },
  {
   "cell_type": "code",
   "execution_count": 18,
   "metadata": {},
   "outputs": [
    {
     "name": "stdout",
     "output_type": "stream",
     "text": [
      "model loaded and ready to use\n"
     ]
    }
   ],
   "source": [
    "simple_rnn_is_fit = False\n",
    "try:\n",
    "    simple_rnn_model.load_weights('model_simple.hdf5')\n",
    "    print('model loaded and ready to use')\n",
    "    simple_rnn_is_fit = True\n",
    "except OSError:\n",
    "    print('model needs trainig')\n",
    "except ValueError:\n",
    "    print('different model, needs training')\n"
   ]
  },
  {
   "cell_type": "code",
   "execution_count": 19,
   "metadata": {},
   "outputs": [
    {
     "name": "stdout",
     "output_type": "stream",
     "text": [
      "Train on 110288 samples, validate on 27573 samples\n",
      "Epoch 1/10\n",
      "109568/110288 [============================>.] - ETA: 0s - loss: 4.1642 - acc: 0.5591- ETA: 9s - loss: 5.7 - ETA: 6s - loss: 5.0594 - acc: 0  - ETA: 2s - loss: - ETA: 1s - loss: 4.2308Epoch 00000: val_acc improved from -inf to 0.59551, saving model to model_simple.hdf5\n",
      "110288/110288 [==============================] - 8s - loss: 4.1621 - acc: 0.5593 - val_loss: nan - val_acc: 0.5955\n",
      "Epoch 2/10\n",
      "109568/110288 [============================>.] - ETA: 0s - loss: 3.7240 - acc: 0.5885- ETA: 6s - loEpoch 00001: val_acc did not improve\n",
      "110288/110288 [==============================] - 7s - loss: 3.7242 - acc: 0.5885 - val_loss: nan - val_acc: 0.5804\n",
      "Epoch 3/10\n",
      "109568/110288 [============================>.] - ETA: 0s - loss: 3.7068 - acc: 0.5892- ETA: 4s - loss: 3.7070 - a - ETA: 3s - loss: 3.7024 -Epoch 00002: val_acc did not improve\n",
      "110288/110288 [==============================] - 7s - loss: 3.7073 - acc: 0.5891 - val_loss: nan - val_acc: 0.5638\n",
      "Epoch 4/10\n",
      "109568/110288 [============================>.] - ETA: 0s - loss: 3.7278 - acc: 0.5895- ETA: 1s - loss: 3.7340 - acc: 0. - ETA: 1s - loss: 3.7325 - acc:  - ETA: 1s - loss: 3.7305 - acc: 0.58 - ETA: 0s - loss: 3.7299 Epoch 00003: val_acc improved from 0.59551 to 0.60563, saving model to model_simple.hdf5\n",
      "110288/110288 [==============================] - 7s - loss: 3.7277 - acc: 0.5895 - val_loss: nan - val_acc: 0.6056\n",
      "Epoch 5/10\n",
      "109568/110288 [============================>.] - ETA: 0s - loss: 3.7013 - acc: 0.5903- ETA: 3s - loss: 3.6961 - acc: 0 - ETA: 2s - loss: 3.6984 - a - ETEpoch 00004: val_acc did not improve\n",
      "110288/110288 [==============================] - 7s - loss: 3.7007 - acc: 0.5903 - val_loss: nan - val_acc: 0.5790\n",
      "Epoch 6/10\n",
      "109568/110288 [============================>.] - ETA: 0s - loss: 3.6306 - acc: 0.5977- ETA: 6s - l - ETA: 4s - loss - - ETA: 0s - loss: 3.6332 - acc: Epoch 00005: val_acc did not improve\n",
      "110288/110288 [==============================] - 7s - loss: 3.6303 - acc: 0.5978 - val_loss: nan - val_acc: 0.6052\n",
      "Epoch 7/10\n",
      "109568/110288 [============================>.] - ETA: 0s - loss: 3.6709 - acc: 0.5926- ETA: 5s - loss: 3.6088 - acc: Epoch 00006: val_acc did not improve\n",
      "110288/110288 [==============================] - 7s - loss: 3.6717 - acc: 0.5924 - val_loss: nan - val_acc: 0.5816\n",
      "Epoch 8/10\n",
      "109568/110288 [============================>.] - ETA: 0s - loss: 5.6505 - acc: 0.5099Epoch 00007: val_acc did not improve\n",
      "110288/110288 [==============================] - 7s - loss: 5.6504 - acc: 0.5100 - val_loss: nan - val_acc: 0.5385\n",
      "Epoch 9/10\n",
      "109568/110288 [============================>.] - ETA: 0s - loss: 5.5392 - acc: 0.5520Epoch 00008: val_acc did not improve\n",
      "110288/110288 [==============================] - 7s - loss: 5.5385 - acc: 0.5521 - val_loss: nan - val_acc: 0.5762\n",
      "Epoch 10/10\n",
      "109568/110288 [============================>.] - ETA: 0s - loss: 5.4177 - acc: 0.5725Epoch 00009: val_acc did not improve\n",
      "110288/110288 [==============================] - 7s - loss: 5.4167 - acc: 0.5726 - val_loss: nan - val_acc: 0.5760\n",
      "new jersey is sometimes quiet during autumn , and it is snowy in april .\n",
      "new en est est froid en en et mais est est en en <PAD> <PAD> <PAD> <PAD> <PAD> <PAD> <PAD> <PAD>\n"
     ]
    }
   ],
   "source": [
    "if not simple_rnn_is_fit or retrain_models:\n",
    "    simple_rnn_model.fit(tmp_x, preproc_french_sentences, batch_size=1024, epochs=10, validation_split=0.2, \\\n",
    "                         callbacks=[create_checkpoint_callback('model_simple.hdf5')])\n",
    "\n",
    "# Print prediction(s)\n",
    "print(english_sentences[0])\n",
    "print(logits_to_text(simple_rnn_model.predict(tmp_x[:1])[0], french_tokenizer))"
   ]
  },
  {
   "cell_type": "code",
   "execution_count": 20,
   "metadata": {},
   "outputs": [
    {
     "name": "stdout",
     "output_type": "stream",
     "text": [
      "english: you like mangoes , lemons , and strawberries.\n",
      "french:  son les les les les pommes et et <PAD> <PAD> <PAD> <PAD> <PAD> <PAD> <PAD> <PAD> <PAD> <PAD> <PAD> <PAD> <PAD>\n",
      "\n",
      "english: china is relaxing during spring , but it is rainy in july .\n",
      "french:  la est fraise en en mais mais est est en en <PAD> <PAD> <PAD> <PAD> <PAD> <PAD> <PAD> <PAD> <PAD> <PAD>\n",
      "\n",
      "english: the apple is our least liked fruit , but the grape is her least liked .\n",
      "french:  la fraise est en préféré aimé aimé mais mais fraise est en préféré aimé <PAD> <PAD> <PAD> <PAD> <PAD> <PAD> <PAD>\n",
      "\n",
      "english: the united states is quiet during february , but it is never wonderful in april .\n",
      "french:  la unis unis est fraise en en mais mais est parfois est en en <PAD> <PAD> <PAD> <PAD> <PAD> <PAD> <PAD>\n",
      "\n",
      "english: we dislike lemons , bananas , and mangoes .\n",
      "french:  son les les les les pommes et et <PAD> <PAD> <PAD> <PAD> <PAD> <PAD> <PAD> <PAD> <PAD> <PAD> <PAD> <PAD> <PAD>\n",
      "\n"
     ]
    }
   ],
   "source": [
    "print_translations(simple_rnn_model, english_sentences, tmp_x, french_tokenizer)"
   ]
  },
  {
   "cell_type": "markdown",
   "metadata": {},
   "source": [
    "### Model 2: Embedding (IMPLEMENTATION)\n",
    "![RNN](images/embedding.png)\n",
    "You've turned the words into ids, but there's a better representation of a word.  This is called word embeddings.  An embedding is a vector representation of the word that is close to similar words in n-dimensional space, where the n represents the size of the embedding vectors.\n",
    "\n",
    "In this model, you'll create a RNN model using embedding."
   ]
  },
  {
   "cell_type": "code",
   "execution_count": 21,
   "metadata": {
    "scrolled": false
   },
   "outputs": [
    {
     "name": "stdout",
     "output_type": "stream",
     "text": [
      "input_shape=(137861, 21)\n",
      "output_sequence_length=21\n",
      "english_vocab_size=199\n",
      "french_vocab_size=344\n",
      "input_shape=(137861, 21)\n",
      "output_sequence_length=21\n",
      "english_vocab_size=200\n",
      "french_vocab_size=345\n",
      "_________________________________________________________________\n",
      "Layer (type)                 Output Shape              Param #   \n",
      "=================================================================\n",
      "embedding_layer (Embedding)  (None, 21, 64)            12800     \n",
      "_________________________________________________________________\n",
      "gru_layer (GRU)              (None, 21, 345)           424350    \n",
      "_________________________________________________________________\n",
      "clasification_layer (Dense)  (None, 21, 345)           119370    \n",
      "=================================================================\n",
      "Total params: 556,520\n",
      "Trainable params: 556,520\n",
      "Non-trainable params: 0\n",
      "_________________________________________________________________\n",
      "None\n"
     ]
    }
   ],
   "source": [
    "from keras.layers.embeddings import Embedding\n",
    "from keras.models import Sequential\n",
    "\n",
    "def embed_model(input_shape, output_sequence_length, english_vocab_size, french_vocab_size):\n",
    "    \"\"\"\n",
    "    Build and train a RNN model using word embedding on x and y\n",
    "    :param input_shape: Tuple of input shape\n",
    "    :param output_sequence_length: Length of output sequence\n",
    "    :param english_vocab_size: Number of unique English words in the dataset\n",
    "    :param french_vocab_size: Number of unique French words in the dataset\n",
    "    :return: Keras model built, but not trained\n",
    "    \"\"\"\n",
    "    # TODO: Implement\n",
    "    print(\"input_shape={}\".format(input_shape))\n",
    "    print(\"output_sequence_length={}\".format(output_sequence_length))\n",
    "    print(\"english_vocab_size={}\".format(english_vocab_size))\n",
    "    print(\"french_vocab_size={}\".format(french_vocab_size))\n",
    "\n",
    "    dim_embedding = 64\n",
    "    gru_hidden_state_dim = french_vocab_size\n",
    "    \n",
    "    model=Sequential()\n",
    "    model.add(Embedding(input_dim=english_vocab_size, output_dim=dim_embedding, input_length=input_shape[-1], name='embedding_layer' ))\n",
    "    model.add(GRU(units=gru_hidden_state_dim, return_sequences=True, name='gru_layer'))\n",
    "    model.add(Dense(french_vocab_size, activation='softmax', name='clasification_layer'))\n",
    "    \n",
    "    learning_rate = 0.2\n",
    "    model.compile(loss=sparse_categorical_crossentropy,\n",
    "                  optimizer=Adam(learning_rate),\n",
    "                  metrics=['accuracy'])\n",
    "    \n",
    "    return model\n",
    "\n",
    "tests.test_embed_model(embed_model)\n",
    "\n",
    "tmp_x = pad(preproc_english_sentences, preproc_french_sentences.shape[1])\n",
    "\n",
    "# Train the neural network\n",
    "embed_rnn_model = embed_model(\n",
    "    tmp_x.shape,\n",
    "    preproc_french_sentences.shape[1],\n",
    "    len(english_tokenizer.word_index)+1,\n",
    "    len(french_tokenizer.word_index)+1)\n",
    "\n",
    "print(embed_rnn_model.summary())"
   ]
  },
  {
   "cell_type": "code",
   "execution_count": 22,
   "metadata": {},
   "outputs": [
    {
     "name": "stdout",
     "output_type": "stream",
     "text": [
      "model loaded and ready to use\n"
     ]
    }
   ],
   "source": [
    "embed_rnn_is_fit = False\n",
    "try:\n",
    "    embed_rnn_model.load_weights('model_embed.hdf5')\n",
    "    print('model loaded and ready to use')\n",
    "    embed_rnn_is_fit = True\n",
    "except OSError:\n",
    "    print('model needs trainig')\n",
    "except ValueError:\n",
    "    print('different model, needs training')"
   ]
  },
  {
   "cell_type": "code",
   "execution_count": 23,
   "metadata": {},
   "outputs": [
    {
     "name": "stdout",
     "output_type": "stream",
     "text": [
      "Train on 110288 samples, validate on 27573 samples\n",
      "Epoch 1/10\n",
      "109568/110288 [============================>.] - ETA: 0s - loss: 13.2312 - acc: 0.1789Epoch 00000: val_acc improved from -inf to 0.43693, saving model to model_embed.hdf5\n",
      "110288/110288 [==============================] - 16s - loss: 13.2046 - acc: 0.1806 - val_loss: 9.0748 - val_acc: 0.4369\n",
      "Epoch 2/10\n",
      "109568/110288 [============================>.] - ETA: 0s - loss: 8.8855 - acc: 0.4484Epoch 00001: val_acc improved from 0.43693 to 0.49958, saving model to model_embed.hdf5\n",
      "110288/110288 [==============================] - 16s - loss: 8.8800 - acc: 0.4488 - val_loss: 8.0601 - val_acc: 0.4996\n",
      "Epoch 3/10\n",
      "109568/110288 [============================>.] - ETA: 0s - loss: 8.0525 - acc: 0.5002Epoch 00002: val_acc improved from 0.49958 to 0.50338, saving model to model_embed.hdf5\n",
      "110288/110288 [==============================] - 16s - loss: 8.0524 - acc: 0.5002 - val_loss: 8.0023 - val_acc: 0.5034\n",
      "Epoch 4/10\n",
      "109568/110288 [============================>.] - ETA: 0s - loss: 8.0705 - acc: 0.4988Epoch 00003: val_acc improved from 0.50338 to 0.50384, saving model to model_embed.hdf5\n",
      "110288/110288 [==============================] - 16s - loss: 8.0701 - acc: 0.4988 - val_loss: 7.9956 - val_acc: 0.5038\n",
      "Epoch 5/10\n",
      "109568/110288 [============================>.] - ETA: 0s - loss: 8.0025 - acc: 0.5034Epoch 00004: val_acc improved from 0.50384 to 0.50520, saving model to model_embed.hdf5\n",
      "110288/110288 [==============================] - 16s - loss: 8.0016 - acc: 0.5035 - val_loss: 7.9746 - val_acc: 0.5052\n",
      "Epoch 6/10\n",
      "109568/110288 [============================>.] - ETA: 0s - loss: 7.9929 - acc: 0.5040Epoch 00005: val_acc improved from 0.50520 to 0.50536, saving model to model_embed.hdf5\n",
      "110288/110288 [==============================] - 16s - loss: 7.9925 - acc: 0.5041 - val_loss: 7.9719 - val_acc: 0.5054\n",
      "Epoch 7/10\n",
      "109568/110288 [============================>.] - ETA: 0s - loss: 7.9688 - acc: 0.5054Epoch 00006: val_acc improved from 0.50536 to 0.50839, saving model to model_embed.hdf5\n",
      "110288/110288 [==============================] - 16s - loss: 7.9684 - acc: 0.5054 - val_loss: 7.9196 - val_acc: 0.5084\n",
      "Epoch 8/10\n",
      "109568/110288 [============================>.] - ETA: 0s - loss: 7.9133 - acc: 0.5088Epoch 00007: val_acc improved from 0.50839 to 0.51103, saving model to model_embed.hdf5\n",
      "110288/110288 [==============================] - 16s - loss: 7.9132 - acc: 0.5088 - val_loss: 7.8789 - val_acc: 0.5110\n",
      "Epoch 9/10\n",
      "109568/110288 [============================>.] - ETA: 0s - loss: 7.8966 - acc: 0.5099Epoch 00008: val_acc improved from 0.51103 to 0.51110, saving model to model_embed.hdf5\n",
      "110288/110288 [==============================] - 16s - loss: 7.8968 - acc: 0.5098 - val_loss: 7.8696 - val_acc: 0.5111\n",
      "Epoch 10/10\n",
      "109568/110288 [============================>.] - ETA: 0s - loss: 7.8810 - acc: 0.5109Epoch 00009: val_acc improved from 0.51110 to 0.51217, saving model to model_embed.hdf5\n",
      "110288/110288 [==============================] - 16s - loss: 7.8812 - acc: 0.5109 - val_loss: 7.8577 - val_acc: 0.5122\n"
     ]
    }
   ],
   "source": [
    "\n",
    "if not embed_rnn_is_fit or retrain_models:\n",
    "    embed_rnn_model.fit(tmp_x, preproc_french_sentences, batch_size=1024, callbacks=[create_checkpoint_callback('model_embed.hdf5')], epochs=10, validation_split=0.2)\n"
   ]
  },
  {
   "cell_type": "code",
   "execution_count": 24,
   "metadata": {},
   "outputs": [
    {
     "name": "stdout",
     "output_type": "stream",
     "text": [
      "english: india is pleasant during october , and it is usually nice in february .\n",
      "french:  l' est est en en en est est est est en en <PAD> <PAD> <PAD> <PAD> <PAD> <PAD> <PAD> <PAD> <PAD>\n",
      "\n",
      "english: paris is busy during autumn , but it is never beautiful in september .\n",
      "french:  en est est en en en en est est est en en <PAD> <PAD> <PAD> <PAD> <PAD> <PAD> <PAD> <PAD> <PAD>\n",
      "\n",
      "english: they dislike apples , peaches , and bananas .\n",
      "french:  en en en en en en <PAD> <PAD> <PAD> <PAD> <PAD> <PAD> <PAD> <PAD> <PAD> <PAD> <PAD> <PAD> <PAD> <PAD> <PAD>\n",
      "\n",
      "english: the united states is snowy during october , and it is sometimes beautiful in winter .\n",
      "french:  le <PAD> en est est en en <PAD> est est est est en en <PAD> <PAD> <PAD> <PAD> <PAD> <PAD> <PAD>\n",
      "\n",
      "english: she likes strawberries , lemons , and apples .\n",
      "french:  le le en <PAD> le le <PAD> <PAD> <PAD> <PAD> <PAD> <PAD> <PAD> <PAD> <PAD> <PAD> <PAD> <PAD> <PAD> <PAD> <PAD>\n",
      "\n"
     ]
    }
   ],
   "source": [
    "print_translations(embed_rnn_model, english_sentences, tmp_x, french_tokenizer)"
   ]
  },
  {
   "cell_type": "markdown",
   "metadata": {},
   "source": [
    "### Model 3: Bidirectional RNNs (IMPLEMENTATION)\n",
    "![RNN](images/bidirectional.png)\n",
    "One restriction of a RNN is that it can't see the future input, only the past.  This is where bidirectional recurrent neural networks come in.  They are able to see the future data."
   ]
  },
  {
   "cell_type": "code",
   "execution_count": 54,
   "metadata": {},
   "outputs": [
    {
     "name": "stdout",
     "output_type": "stream",
     "text": [
      "input_shape=(137861, 21, 1)\n",
      "output_sequence_length=21\n",
      "english_vocab_size=199\n",
      "french_vocab_size=344\n",
      "switching to input size=21\n",
      "input_shape=(137861, 21)\n",
      "output_sequence_length=21\n",
      "english_vocab_size=200\n",
      "french_vocab_size=345\n",
      "switching to input size=21\n",
      "_________________________________________________________________\n",
      "Layer (type)                 Output Shape              Param #   \n",
      "=================================================================\n",
      "reshape_layer (Reshape)      (None, 21)                0         \n",
      "_________________________________________________________________\n",
      "embedding_layer (Embedding)  (None, 21, 64)            12800     \n",
      "_________________________________________________________________\n",
      "bidi_gru (Bidirectional)     (None, 21, 50)            13500     \n",
      "_________________________________________________________________\n",
      "dropout (Dropout)            (None, 21, 50)            0         \n",
      "_________________________________________________________________\n",
      "clasification_layer (Dense)  (None, 21, 345)           17595     \n",
      "=================================================================\n",
      "Total params: 43,895\n",
      "Trainable params: 43,895\n",
      "Non-trainable params: 0\n",
      "_________________________________________________________________\n",
      "None\n"
     ]
    }
   ],
   "source": [
    "from keras.layers import Bidirectional\n",
    "from keras.layers import Reshape\n",
    "\n",
    "\n",
    "def bd_model(input_shape, output_sequence_length, english_vocab_size, french_vocab_size):\n",
    "    \"\"\"\n",
    "    Build and train a bidirectional RNN model on x and y\n",
    "    :param input_shape: Tuple of input shape\n",
    "    :param output_sequence_length: Length of output sequence\n",
    "    :param english_vocab_size: Number of unique English words in the dataset\n",
    "    :param french_vocab_size: Number of unique French words in the dataset\n",
    "    :return: Keras model built, but not trained\n",
    "    \"\"\"\n",
    "    # TODO: Implement\n",
    "    \n",
    "    print(\"input_shape={}\".format(input_shape))\n",
    "    print(\"output_sequence_length={}\".format(output_sequence_length))\n",
    "    print(\"english_vocab_size={}\".format(english_vocab_size))\n",
    "    print(\"french_vocab_size={}\".format(french_vocab_size))\n",
    "    print(\"switching to input size={}\".format(input_shape[1]))\n",
    "    hyper_dim_embedding = 64\n",
    "    hyper_hid_size = 25\n",
    "    \n",
    "    model=Sequential()\n",
    "    model.add(Reshape(target_shape=(input_shape[1],), input_shape= input_shape[1:], name='reshape_layer' ))\n",
    "    model.add(Embedding(input_dim=english_vocab_size, output_dim=hyper_dim_embedding, input_length=21, name='embedding_layer' ))\n",
    "    \n",
    "    #model.add(Bidirectional(GRU(output_sequence_length, return_sequences=True, name='gru_layer'), name='bidi_gru', merge_mode='concat'))\n",
    "    model.add(Bidirectional(GRU(hyper_hid_size, return_sequences=True, name='gru_layer'), name='bidi_gru', merge_mode='concat'))\n",
    "    model.add(Dropout(0.25, name='dropout'))\n",
    "    model.add(Dense(units=french_vocab_size, activation='softmax', name='clasification_layer'))\n",
    "    \n",
    "    learning_rate = 0.2\n",
    "    model.compile(loss=sparse_categorical_crossentropy,\n",
    "                  optimizer=Adam(learning_rate),\n",
    "                  metrics=['accuracy'])\n",
    "    \n",
    "    return model\n",
    "\n",
    "tests.test_bd_model(bd_model)\n",
    "\n",
    "# TODO: Train and Print prediction(s)\n",
    "# Reshaping the input to work with a basic RNN\n",
    "tmp_x = pad(preproc_english_sentences, preproc_french_sentences.shape[1])\n",
    "#tmp_x = tmp_x.reshape((-1, preproc_french_sentences.shape[-2], 1))\n",
    "\n",
    "# Train the neural network\n",
    "bd_rnn_model = bd_model(\n",
    "    tmp_x.shape,\n",
    "    preproc_french_sentences.shape[1],\n",
    "    len(english_tokenizer.word_index)+1,\n",
    "    len(french_tokenizer.word_index)+1)\n",
    "\n",
    "print(bd_rnn_model.summary())"
   ]
  },
  {
   "cell_type": "code",
   "execution_count": 55,
   "metadata": {},
   "outputs": [
    {
     "name": "stdout",
     "output_type": "stream",
     "text": [
      "different model, needs training\n"
     ]
    }
   ],
   "source": [
    "bd_rnn_is_fit = False\n",
    "try:\n",
    "    bd_rnn_model.load_weights('model_bd.hdf5')\n",
    "    print('model loaded and ready to use')\n",
    "    bd_rnn_is_fit = True\n",
    "except OSError:\n",
    "    print('model needs trainig')\n",
    "except ValueError:\n",
    "    print('different model, needs training')"
   ]
  },
  {
   "cell_type": "code",
   "execution_count": 56,
   "metadata": {},
   "outputs": [
    {
     "name": "stdout",
     "output_type": "stream",
     "text": [
      "Train on 110288 samples, validate on 27573 samples\n",
      "Epoch 1/10\n",
      "109568/110288 [============================>.] - ETA: 0s - loss: 1.8309 - acc: 0.6058Epoch 00000: val_acc improved from -inf to 0.71178, saving model to model_bd.hdf5\n",
      "110288/110288 [==============================] - 11s - loss: 1.8278 - acc: 0.6061 - val_loss: 1.1392 - val_acc: 0.7118\n",
      "Epoch 2/10\n",
      "109568/110288 [============================>.] - ETA: 0s - loss: 1.3057 - acc: 0.6710Epoch 00001: val_acc did not improve\n",
      "110288/110288 [==============================] - 10s - loss: 1.3059 - acc: 0.6710 - val_loss: 1.1082 - val_acc: 0.7104\n",
      "Epoch 3/10\n",
      "109568/110288 [============================>.] - ETA: 0s - loss: 1.3214 - acc: 0.6723Epoch 00002: val_acc improved from 0.71178 to 0.72302, saving model to model_bd.hdf5\n",
      "110288/110288 [==============================] - 10s - loss: 1.3205 - acc: 0.6724 - val_loss: 1.0156 - val_acc: 0.7230\n",
      "Epoch 4/10\n",
      "109568/110288 [============================>.] - ETA: 0s - loss: 1.2029 - acc: 0.6907Epoch 00003: val_acc improved from 0.72302 to 0.73133, saving model to model_bd.hdf5\n",
      "110288/110288 [==============================] - 10s - loss: 1.2028 - acc: 0.6908 - val_loss: 0.9944 - val_acc: 0.7313\n",
      "Epoch 5/10\n",
      "109568/110288 [============================>.] - ETA: 0s - loss: 1.1834 - acc: 0.6967Epoch 00004: val_acc improved from 0.73133 to 0.73952, saving model to model_bd.hdf5\n",
      "110288/110288 [==============================] - 10s - loss: 1.1833 - acc: 0.6967 - val_loss: 0.9709 - val_acc: 0.7395\n",
      "Epoch 6/10\n",
      "109568/110288 [============================>.] - ETA: 0s - loss: 1.1578 - acc: 0.7020Epoch 00005: val_acc did not improve\n",
      "110288/110288 [==============================] - 10s - loss: 1.1579 - acc: 0.7019 - val_loss: 0.9609 - val_acc: 0.7388\n",
      "Epoch 7/10\n",
      "109568/110288 [============================>.] - ETA: 0s - loss: 1.1609 - acc: 0.6998Epoch 00006: val_acc did not improve\n",
      "110288/110288 [==============================] - 10s - loss: 1.1610 - acc: 0.6998 - val_loss: 0.9543 - val_acc: 0.7371\n",
      "Epoch 8/10\n",
      "109568/110288 [============================>.] - ETA: 0s - loss: 1.1552 - acc: 0.6982Epoch 00007: val_acc did not improve\n",
      "110288/110288 [==============================] - 10s - loss: 1.1553 - acc: 0.6981 - val_loss: 0.9494 - val_acc: 0.7332\n",
      "Epoch 9/10\n",
      "109568/110288 [============================>.] - ETA: 0s - loss: 1.1487 - acc: 0.6997Epoch 00008: val_acc improved from 0.73952 to 0.74065, saving model to model_bd.hdf5\n",
      "110288/110288 [==============================] - 10s - loss: 1.1488 - acc: 0.6997 - val_loss: 0.9421 - val_acc: 0.7406\n",
      "Epoch 10/10\n",
      "109568/110288 [============================>.] - ETA: 0s - loss: 1.1473 - acc: 0.7021Epoch 00009: val_acc did not improve\n",
      "110288/110288 [==============================] - 10s - loss: 1.1472 - acc: 0.7021 - val_loss: 0.9473 - val_acc: 0.7406\n",
      "new jersey est parfois calme au cours et et est est en en <PAD> <PAD> <PAD> <PAD> <PAD> <PAD> <PAD> <PAD>\n"
     ]
    }
   ],
   "source": [
    "bd_rnn_is_fit = False\n",
    "if not bd_rnn_is_fit or retrain_models:\n",
    "    bd_rnn_model.fit(tmp_x, preproc_french_sentences, batch_size=1024, epochs=10, validation_split=0.2, callbacks=[create_checkpoint_callback('model_bd.hdf5')])\n",
    "    bd_rnn_is_fit = True\n",
    "    \n",
    "# Print prediction(s)\n",
    "print(logits_to_text(bd_rnn_model.predict(tmp_x[:1])[0], french_tokenizer))"
   ]
  },
  {
   "cell_type": "code",
   "execution_count": 57,
   "metadata": {},
   "outputs": [
    {
     "name": "stdout",
     "output_type": "stream",
     "text": [
      "english: he likes grapefruit , apples , and peaches .\n",
      "french:  il aime le les les les et <PAD> <PAD> <PAD> <PAD> <PAD> <PAD> <PAD> <PAD> <PAD> <PAD> <PAD> <PAD> <PAD> <PAD>\n",
      "\n",
      "english: paris is sometimes chilly during august , and it is cold in fall .\n",
      "french:  paris est parfois froid au mois d' août et jamais froid à <PAD> <PAD> <PAD> <PAD> <PAD> <PAD> <PAD> <PAD> <PAD>\n",
      "\n",
      "english: france is freezing during february , but it is never quiet in march .\n",
      "french:  la france le gel février mais il il est est jamais mars <PAD> <PAD> <PAD> <PAD> <PAD> <PAD> <PAD> <PAD> <PAD>\n",
      "\n",
      "english: california is chilly during april , and it is relaxing in march .\n",
      "french:  california est froid en avril et il est relaxant en mars <PAD> <PAD> <PAD> <PAD> <PAD> <PAD> <PAD> <PAD> <PAD> <PAD>\n",
      "\n",
      "english: your least liked fruit is the grapefruit , but their least liked is the grape .\n",
      "french:  votre fruit moins moins est le pamplemousse mais leur moins moins est le raisin <PAD> <PAD> <PAD> <PAD> <PAD> <PAD> <PAD>\n",
      "\n"
     ]
    }
   ],
   "source": [
    "print_translations(bd_rnn_model, english_sentences, tmp_x, french_tokenizer)"
   ]
  },
  {
   "cell_type": "markdown",
   "metadata": {},
   "source": [
    "### Model 4: Encoder-Decoder (OPTIONAL)\n",
    "Time to look at encoder-decoder models.  This model is made up of an encoder and decoder. The encoder creates a matrix representation of the sentence.  The decoder takes this matrix as input and predicts the translation as output.\n",
    "\n",
    "Create an encoder-decoder model in the cell below."
   ]
  },
  {
   "cell_type": "code",
   "execution_count": 127,
   "metadata": {},
   "outputs": [
    {
     "name": "stdout",
     "output_type": "stream",
     "text": [
      "input_shape=(137861, 15, 1)\n",
      "output_sequence_length=21\n",
      "english_vocab_size=199\n",
      "french_vocab_size=344\n",
      "switching to input size=15\n",
      "shape of tmp_x: (137861, 21)\n",
      "input_shape=(137861, 21)\n",
      "output_sequence_length=21\n",
      "english_vocab_size=200\n",
      "french_vocab_size=345\n",
      "switching to input size=21\n",
      "_________________________________________________________________\n",
      "Layer (type)                 Output Shape              Param #   \n",
      "=================================================================\n",
      "reshape_layer (Reshape)      (None, 21)                0         \n",
      "_________________________________________________________________\n",
      "embedding_layer (Embedding)  (None, 21, 64)            12800     \n",
      "_________________________________________________________________\n",
      "bidirectional_39 (Bidirectio (None, 100)               34500     \n",
      "_________________________________________________________________\n",
      "dense_37 (Dense)             (None, 50)                5050      \n",
      "_________________________________________________________________\n",
      "dropout_24 (Dropout)         (None, 50)                0         \n",
      "_________________________________________________________________\n",
      "repeat_layer (RepeatVector)  (None, 21, 50)            0         \n",
      "_________________________________________________________________\n",
      "bidirectional_40 (Bidirectio (None, 21, 200)           120800    \n",
      "_________________________________________________________________\n",
      "time_distributed_30 (TimeDis (None, 21, 50)            10050     \n",
      "_________________________________________________________________\n",
      "time_distributed_31 (TimeDis (None, 21, 345)           17595     \n",
      "=================================================================\n",
      "Total params: 200,795\n",
      "Trainable params: 200,795\n",
      "Non-trainable params: 0\n",
      "_________________________________________________________________\n",
      "None\n"
     ]
    }
   ],
   "source": [
    "from keras.layers import RepeatVector\n",
    "from keras.layers import LSTM\n",
    "\n",
    "def encdec_model(input_shape, output_sequence_length, english_vocab_size, french_vocab_size):\n",
    "    \"\"\"\n",
    "    Build and train an encoder-decoder model on x and y\n",
    "    :param input_shape: Tuple of input shape\n",
    "    :param output_sequence_length: Length of output sequence\n",
    "    :param english_vocab_size: Number of unique English words in the dataset\n",
    "    :param french_vocab_size: Number of unique French words in the dataset\n",
    "    :return: Keras model built, but not trained\n",
    "    \"\"\"\n",
    "    print(\"input_shape={}\".format(input_shape))\n",
    "    print(\"output_sequence_length={}\".format(output_sequence_length))\n",
    "    print(\"english_vocab_size={}\".format(english_vocab_size))\n",
    "    print(\"french_vocab_size={}\".format(french_vocab_size))\n",
    "    print(\"switching to input size={}\".format(input_shape[1]))\n",
    "    \n",
    "    # hyper-parameters\n",
    "    hyper_embed_size = 64\n",
    "    hyper_hidden_size = 50\n",
    "    learning_rate = 0.005\n",
    "    \n",
    "    model=Sequential()\n",
    "    \n",
    "    # build encoder network\n",
    "    model.add(Reshape(target_shape=(input_shape[1],), input_shape= input_shape[1:], name='reshape_layer' ))\n",
    "    model.add(Embedding(english_vocab_size, hyper_embed_size, input_shape=input_shape[2:], mask_zero=True, name='embedding_layer'))\n",
    "    model.add(Bidirectional(GRU(hyper_hidden_size, name='lstm_encoder_layer')))\n",
    "    model.add(Dense(hyper_hidden_size, activation='relu'))\n",
    "    model.add(Dropout(0.2))\n",
    "    model.add(RepeatVector(output_sequence_length, name='repeat_layer'))\n",
    "    \n",
    "    # decoder network\n",
    "    model.add(Bidirectional(LSTM(hyper_hidden_size*2, return_sequences=True, name='lstm_decoder_layer')))\n",
    "    #model.add(Dropout(0.2))\n",
    "    model.add(TimeDistributed(Dense(hyper_hidden_size, activation='relu')))\n",
    "    \n",
    "    model.add(TimeDistributed(Dense(french_vocab_size, name='td_dense', activation='softmax')))\n",
    "#     model.add(Activation('softmax'))\n",
    "    \n",
    "    model.compile(loss=sparse_categorical_crossentropy,\n",
    "                  optimizer=Adam(learning_rate),\n",
    "                  metrics=['accuracy'])\n",
    "    return model\n",
    "\n",
    "\n",
    "tests.test_encdec_model(encdec_model)\n",
    "\n",
    "\n",
    "# OPTIONAL: Train and Print prediction(s)\n",
    "# Reshaping the input to work with a basic RNN\n",
    "tmp_x = pad(preproc_english_sentences, preproc_french_sentences.shape[1])\n",
    "print(\"shape of tmp_x: {}\".format(tmp_x.shape))\n",
    "#tmp_x = tmp_x.reshape((-1, preproc_french_sentences.shape[-2], 1))\n",
    "\n",
    "\n",
    "# Train the neural network\n",
    "encdec_model = encdec_model(\n",
    "    tmp_x.shape,\n",
    "    preproc_french_sentences.shape[1],\n",
    "    len(english_tokenizer.word_index)+1,\n",
    "    len(french_tokenizer.word_index)+1)\n",
    "\n",
    "print(encdec_model.summary())\n"
   ]
  },
  {
   "cell_type": "code",
   "execution_count": 109,
   "metadata": {},
   "outputs": [
    {
     "name": "stdout",
     "output_type": "stream",
     "text": [
      "model loaded and ready to use\n"
     ]
    }
   ],
   "source": [
    "encdec_is_fit = False\n",
    "try:\n",
    "    encdec_model.load_weights('model_encdec.hdf5')\n",
    "    print('model loaded and ready to use')\n",
    "    encdec_is_fit = True\n",
    "except OSError:\n",
    "    print('model needs trainig')\n",
    "except ValueError:\n",
    "    print('different model, needs training')"
   ]
  },
  {
   "cell_type": "code",
   "execution_count": 132,
   "metadata": {},
   "outputs": [
    {
     "name": "stdout",
     "output_type": "stream",
     "text": [
      "Train on 110288 samples, validate on 27573 samples\n",
      "Epoch 1/10\n",
      "109568/110288 [============================>.] - ETA: 0s - loss: 0.4370 - acc: 0.8661Epoch 00000: val_acc improved from -inf to 0.86961, saving model to model_encdec.hdf5\n",
      "110288/110288 [==============================] - 32s - loss: 0.4368 - acc: 0.8661 - val_loss: 0.4166 - val_acc: 0.8696\n",
      "Epoch 2/10\n",
      "109568/110288 [============================>.] - ETA: 0s - loss: 0.4231 - acc: 0.8708Epoch 00001: val_acc improved from 0.86961 to 0.87141, saving model to model_encdec.hdf5\n",
      "110288/110288 [==============================] - 32s - loss: 0.4232 - acc: 0.8707 - val_loss: 0.4213 - val_acc: 0.8714\n",
      "Epoch 3/10\n",
      "109568/110288 [============================>.] - ETA: 0s - loss: 0.4216 - acc: 0.8714Epoch 00002: val_acc improved from 0.87141 to 0.87226, saving model to model_encdec.hdf5\n",
      "110288/110288 [==============================] - 32s - loss: 0.4215 - acc: 0.8715 - val_loss: 0.4022 - val_acc: 0.8723\n",
      "Epoch 4/10\n",
      "109568/110288 [============================>.] - ETA: 0s - loss: 0.4054 - acc: 0.8770Epoch 00003: val_acc did not improve\n",
      "110288/110288 [==============================] - 32s - loss: 0.4053 - acc: 0.8770 - val_loss: 0.4176 - val_acc: 0.8680\n",
      "Epoch 5/10\n",
      "109568/110288 [============================>.] - ETA: 0s - loss: 0.3872 - acc: 0.8823Epoch 00004: val_acc improved from 0.87226 to 0.87639, saving model to model_encdec.hdf5\n",
      "110288/110288 [==============================] - 32s - loss: 0.3872 - acc: 0.8823 - val_loss: 0.3839 - val_acc: 0.8764\n",
      "Epoch 6/10\n",
      "109568/110288 [============================>.] - ETA: 0s - loss: 0.3935 - acc: 0.8809Epoch 00005: val_acc did not improve\n",
      "110288/110288 [==============================] - 32s - loss: 0.3936 - acc: 0.8809 - val_loss: 0.4158 - val_acc: 0.8689\n",
      "Epoch 7/10\n",
      "109568/110288 [============================>.] - ETA: 0s - loss: 0.3771 - acc: 0.8860Epoch 00006: val_acc improved from 0.87639 to 0.87829, saving model to model_encdec.hdf5\n",
      "110288/110288 [==============================] - 32s - loss: 0.3770 - acc: 0.8861 - val_loss: 0.3843 - val_acc: 0.8783\n",
      "Epoch 8/10\n",
      "109568/110288 [============================>.] - ETA: 0s - loss: 0.3499 - acc: 0.8944Epoch 00007: val_acc did not improve\n",
      "110288/110288 [==============================] - 32s - loss: 0.3499 - acc: 0.8944 - val_loss: 0.4045 - val_acc: 0.8777\n",
      "Epoch 9/10\n",
      "109568/110288 [============================>.] - ETA: 0s - loss: 0.3499 - acc: 0.8941Epoch 00008: val_acc did not improve\n",
      "110288/110288 [==============================] - 32s - loss: 0.3499 - acc: 0.8941 - val_loss: 0.4397 - val_acc: 0.8687\n",
      "Epoch 10/10\n",
      "109568/110288 [============================>.] - ETA: 0s - loss: 0.3403 - acc: 0.8971Epoch 00009: val_acc did not improve\n",
      "110288/110288 [==============================] - 32s - loss: 0.3402 - acc: 0.8972 - val_loss: 0.3999 - val_acc: 0.8740\n",
      "new jersey est parfois calme pendant l' hiver et il est en en avril <PAD> <PAD> <PAD> <PAD> <PAD> <PAD> <PAD>\n"
     ]
    }
   ],
   "source": [
    "encdec_is_fit = False\n",
    "if not encdec_is_fit or retrain_models:\n",
    "    encdec_model.fit(tmp_x, preproc_french_sentences, batch_size=1024, epochs=50, validation_split=0.2, callbacks=[create_checkpoint_callback('model_encdec.hdf5')])\n",
    "    encdec_is_fit = True\n",
    "# Print prediction(s)\n",
    "print(logits_to_text(encdec_model.predict(tmp_x[:1])[0], french_tokenizer))"
   ]
  },
  {
   "cell_type": "code",
   "execution_count": 133,
   "metadata": {},
   "outputs": [
    {
     "name": "stdout",
     "output_type": "stream",
     "text": [
      "english: her favorite fruit is the grape , but my favorite is the banana.\n",
      "french:  son fruit préféré est le raisin mais mon préféré est la pêche <PAD> <PAD> <PAD> <PAD> <PAD> <PAD> <PAD> <PAD> <PAD>\n",
      "\n",
      "english: the united states is warm during october , but it is usually relaxing in november .\n",
      "french:  les états unis est chaud au mois de octobre mais il est parfois en en novembre <PAD> <PAD> <PAD> <PAD> <PAD>\n",
      "\n",
      "english: their favorite fruit is the grape , but our favorite is the grapefruit .\n",
      "french:  leur fruit préféré est le raisin mais votre préféré est le citron <PAD> <PAD> <PAD> <PAD> <PAD> <PAD> <PAD> <PAD> <PAD>\n",
      "\n",
      "english: new jersey is sometimes beautiful during march , but it is sometimes mild in december .\n",
      "french:  new jersey est parfois beau en mars mais il est parfois agréable en décembre <PAD> <PAD> <PAD> <PAD> <PAD> <PAD> <PAD>\n",
      "\n",
      "english: the united states is usually rainy during august , and it is usually relaxing in winter .\n",
      "french:  les états unis est généralement au au mois d' et il est relaxant parfois en en hiver <PAD> <PAD> <PAD> <PAD>\n",
      "\n"
     ]
    }
   ],
   "source": [
    "# test some translations\n",
    "print_translations(encdec_model, english_sentences, tmp_x, french_tokenizer)\n"
   ]
  },
  {
   "cell_type": "markdown",
   "metadata": {},
   "source": [
    "### Model 5: Custom (IMPLEMENTATION)\n",
    "Use everything you learned from the previous models to create a model that incorporates embedding and a bidirectional rnn into one model."
   ]
  },
  {
   "cell_type": "code",
   "execution_count": 33,
   "metadata": {},
   "outputs": [
    {
     "name": "stdout",
     "output_type": "stream",
     "text": [
      "Final Model Loaded\n",
      "input_shape=(137861, 15)\n",
      "output_sequence_length=21\n",
      "english_vocab_size=200\n",
      "french_vocab_size=345\n",
      "switching to input size=15\n",
      "_________________________________________________________________\n",
      "Layer (type)                 Output Shape              Param #   \n",
      "=================================================================\n",
      "embedding_layer (Embedding)  (None, 15, 100)           20000     \n",
      "_________________________________________________________________\n",
      "gru_1 (GRU)                  (None, 100)               60300     \n",
      "_________________________________________________________________\n",
      "repeat_vector_1 (RepeatVecto (None, 21, 100)           0         \n",
      "_________________________________________________________________\n",
      "gru_2 (GRU)                  (None, 21, 66)            33066     \n",
      "_________________________________________________________________\n",
      "time_distributed_3 (TimeDist (None, 21, 345)           23115     \n",
      "=================================================================\n",
      "Total params: 136,481\n",
      "Trainable params: 136,481\n",
      "Non-trainable params: 0\n",
      "_________________________________________________________________\n",
      "None\n",
      "_________________________________________________________________\n",
      "Layer (type)                 Output Shape              Param #   \n",
      "=================================================================\n",
      "embedding_layer (Embedding)  (None, 15, 100)           20000     \n",
      "_________________________________________________________________\n",
      "gru_1 (GRU)                  (None, 100)               60300     \n",
      "_________________________________________________________________\n",
      "repeat_vector_1 (RepeatVecto (None, 21, 100)           0         \n",
      "_________________________________________________________________\n",
      "gru_2 (GRU)                  (None, 21, 66)            33066     \n",
      "_________________________________________________________________\n",
      "time_distributed_3 (TimeDist (None, 21, 345)           23115     \n",
      "=================================================================\n",
      "Total params: 136,481\n",
      "Trainable params: 136,481\n",
      "Non-trainable params: 0\n",
      "_________________________________________________________________\n",
      "None\n"
     ]
    }
   ],
   "source": [
    "from keras.models import Sequential\n",
    "from keras.layers import RepeatVector, Dense, Reshape, Embedding, TimeDistributed, Activation, Dropout\n",
    "from keras.layers import LSTM\n",
    "from keras.optimizers import Adam\n",
    "from keras.losses import sparse_categorical_crossentropy\n",
    "\n",
    "    \n",
    "def model_final(input_shape, output_sequence_length, english_vocab_size, french_vocab_size):\n",
    "    \"\"\"\n",
    "    Build and train an encoder-decoder model on x and y\n",
    "    :param input_shape: Tuple of input shape\n",
    "    :param output_sequence_length: Length of output sequence\n",
    "    :param english_vocab_size: Number of unique English words in the dataset\n",
    "    :param french_vocab_size: Number of unique French words in the dataset\n",
    "    :return: Keras model built, but not trained\n",
    "    \"\"\"\n",
    "    print(\"input_shape={}\".format(input_shape))\n",
    "    print(\"output_sequence_length={}\".format(output_sequence_length))\n",
    "    print(\"english_vocab_size={}\".format(english_vocab_size))\n",
    "    print(\"french_vocab_size={}\".format(french_vocab_size))\n",
    "    print(\"switching to input size={}\".format(input_shape[1]))\n",
    "    \n",
    "    # hyper-parameters\n",
    "    dim_embed = 100\n",
    "    dim_hidden = 100\n",
    "    learning_rate = 0.1\n",
    "    hyper_dropout = 0.25\n",
    "    \n",
    "    # OPTIONAL: Implement\n",
    "    model = Sequential()\n",
    "   \n",
    "    # build encoder network\n",
    "    #model.add(Reshape(target_shape=(input_shape[1],1), input_shape= input_shape[1:], name='reshape_layer' ))\n",
    "    model.add(Embedding(english_vocab_size, dim_embed, input_shape=input_shape[1:], mask_zero=True, name='embedding_layer'))\n",
    "    #model.add(LSTM(dim_hidden, name='lstm_encoder_layer'))\n",
    "    #model.add(RepeatVector(output_sequence_length, name='repeat_layer'))\n",
    "    #model.add(TimeDistributed(GRU(units=output_sequence_length, return_sequences=True), name='bidi_gru_encoder'))\n",
    "    \n",
    "    # decoder network\n",
    "    #model.add(LSTM(french_vocab_size, return_sequences=True, name='lstm_decoder_layer'))\n",
    "    #model.add(TimeDistributed(GRU(units=output_sequence_length, return_sequences=False)))\n",
    "    \n",
    "#     model.add(TimeDistributed(Dense(french_vocab_size, activation=\"relu\", name='td_dense'), name='td_dense_1'))\n",
    "    #model.add(Dropout(hyper_dropout))\n",
    "    #model.add(TimeDistributed(Dense(french_vocab_size, activation=\"relu\", name='td_dense'), name='td_dense_2'))\n",
    "    \n",
    "    \n",
    "#     model = Sequential()\n",
    "    out_dim = 66\n",
    "    model.add(GRU(100, input_shape=input_shape, return_sequences=False)) # encoder\n",
    "    model.add(RepeatVector(output_sequence_length)) # Get the last output of the GRU and repeats it\n",
    "    model.add(GRU(out_dim, return_sequences=True)) # decoder\n",
    "    model.add(TimeDistributed(Dense(french_vocab_size, activation='softmax', name='activation_layer')))\n",
    "    \n",
    "    model.compile(loss=sparse_categorical_crossentropy,\n",
    "                  optimizer=Adam(learning_rate),\n",
    "                  metrics=['accuracy'])\n",
    "    print(model.summary())\n",
    "    return model\n",
    "#tests.test_model_final(model_final)\n",
    "\n",
    "\n",
    "\n",
    "print('Final Model Loaded')\n",
    "# TODO: Train neural network using model_final\n",
    "tmp_x = pad(preproc_english_sentences, preproc_english_sentences.shape[-1])\n",
    "\n",
    "# Train the neural network\n",
    "final_model = model_final(\n",
    "    tmp_x.shape,\n",
    "    preproc_french_sentences.shape[1],\n",
    "    len(english_tokenizer.word_index)+1,\n",
    "    len(french_tokenizer.word_index)+1)\n",
    "\n",
    "print(final_model.summary())\n"
   ]
  },
  {
   "cell_type": "code",
   "execution_count": 34,
   "metadata": {},
   "outputs": [
    {
     "name": "stdout",
     "output_type": "stream",
     "text": [
      "different model, needs training\n"
     ]
    }
   ],
   "source": [
    "final_is_fit = False\n",
    "try:\n",
    "    final_model.load_weights('model_final.hdf5')\n",
    "    print('model loaded and ready to use')\n",
    "    final_is_fit = True\n",
    "except OSError:\n",
    "    print('model needs trainig')\n",
    "except ValueError:\n",
    "    print('different model, needs training')"
   ]
  },
  {
   "cell_type": "code",
   "execution_count": 35,
   "metadata": {},
   "outputs": [
    {
     "name": "stdout",
     "output_type": "stream",
     "text": [
      "Train on 110288 samples, validate on 27573 samples\n",
      "Epoch 1/10\n",
      "109568/110288 [============================>.] - ETA: 0s - loss: 3.2622 - acc: 0.3933Epoch 00000: val_acc improved from -inf to 0.42057, saving model to model_final.hdf5\n",
      "110288/110288 [==============================] - 20s - loss: 3.2580 - acc: 0.3935 - val_loss: 2.6521 - val_acc: 0.4206\n",
      "Epoch 2/10\n",
      "109568/110288 [============================>.] - ETA: 0s - loss: 2.5792 - acc: 0.4293Epoch 00001: val_acc improved from 0.42057 to 0.43694, saving model to model_final.hdf5\n",
      "110288/110288 [==============================] - 19s - loss: 2.5786 - acc: 0.4294 - val_loss: 2.5364 - val_acc: 0.4369\n",
      "Epoch 3/10\n",
      "109568/110288 [============================>.] - ETA: 0s - loss: 2.4907 - acc: 0.4406Epoch 00002: val_acc improved from 0.43694 to 0.44667, saving model to model_final.hdf5\n",
      "110288/110288 [==============================] - 18s - loss: 2.4903 - acc: 0.4407 - val_loss: 2.4399 - val_acc: 0.4467\n",
      "Epoch 4/10\n",
      "109568/110288 [============================>.] - ETA: 0s - loss: 2.4211 - acc: 0.4468Epoch 00003: val_acc improved from 0.44667 to 0.44797, saving model to model_final.hdf5\n",
      "110288/110288 [==============================] - 19s - loss: 2.4209 - acc: 0.4468 - val_loss: 2.3947 - val_acc: 0.4480\n",
      "Epoch 5/10\n",
      "109568/110288 [============================>.] - ETA: 0s - loss: 2.3756 - acc: 0.4524Epoch 00004: val_acc improved from 0.44797 to 0.45181, saving model to model_final.hdf5\n",
      "110288/110288 [==============================] - 19s - loss: 2.3760 - acc: 0.4523 - val_loss: 2.3896 - val_acc: 0.4518\n",
      "Epoch 6/10\n",
      "109568/110288 [============================>.] - ETA: 0s - loss: 2.3655 - acc: 0.4530Epoch 00005: val_acc improved from 0.45181 to 0.45928, saving model to model_final.hdf5\n",
      "110288/110288 [==============================] - 19s - loss: 2.3657 - acc: 0.4530 - val_loss: 2.3397 - val_acc: 0.4593\n",
      "Epoch 7/10\n",
      "109568/110288 [============================>.] - ETA: 0s - loss: 2.3299 - acc: 0.4652Epoch 00006: val_acc improved from 0.45928 to 0.48026, saving model to model_final.hdf5\n",
      "110288/110288 [==============================] - 18s - loss: 2.3297 - acc: 0.4652 - val_loss: 2.2720 - val_acc: 0.4803\n",
      "Epoch 8/10\n",
      "109568/110288 [============================>.] - ETA: 0s - loss: 2.2781 - acc: 0.4848Epoch 00007: val_acc improved from 0.48026 to 0.49042, saving model to model_final.hdf5\n",
      "110288/110288 [==============================] - 18s - loss: 2.2781 - acc: 0.4848 - val_loss: 2.2569 - val_acc: 0.4904\n",
      "Epoch 9/10\n",
      "109568/110288 [============================>.] - ETA: 0s - loss: 2.2348 - acc: 0.4936Epoch 00008: val_acc did not improve\n",
      "110288/110288 [==============================] - 18s - loss: 2.2347 - acc: 0.4936 - val_loss: 2.2774 - val_acc: 0.4834\n",
      "Epoch 10/10\n",
      "109568/110288 [============================>.] - ETA: 0s - loss: 2.3506 - acc: 0.4740Epoch 00009: val_acc did not improve\n",
      "110288/110288 [==============================] - 18s - loss: 2.3505 - acc: 0.4740 - val_loss: 2.3416 - val_acc: 0.4763\n"
     ]
    }
   ],
   "source": [
    "if not final_is_fit or retrain_models:\n",
    "    final_model.fit(tmp_x, preproc_french_sentences, batch_size=1024, epochs=10, validation_split=0.2, callbacks=[create_checkpoint_callback('model_final.hdf5')])\n",
    "\n"
   ]
  },
  {
   "cell_type": "code",
   "execution_count": 36,
   "metadata": {},
   "outputs": [
    {
     "name": "stdout",
     "output_type": "stream",
     "text": [
      "english: paris is sometimes hot during summer , and it is never wonderful in april .\n",
      "french:  paris <PAD> <PAD> <PAD> <PAD> <PAD> <PAD> <PAD> <PAD> <PAD> <PAD> <PAD> <PAD> <PAD> <PAD> <PAD> <PAD> <PAD> <PAD> <PAD> <PAD>\n",
      "\n",
      "english: i like limes , pears , and oranges.\n",
      "french:  j'aime <PAD> les <PAD> <PAD> <PAD> <PAD> <PAD> <PAD> <PAD> <PAD> <PAD> <PAD> <PAD> <PAD> <PAD> <PAD> <PAD> <PAD> <PAD> <PAD>\n",
      "\n",
      "english: france is usually freezing during june , but it is nice in october .\n",
      "french:  la france est <PAD> <PAD> <PAD> <PAD> <PAD> <PAD> <PAD> <PAD> <PAD> <PAD> <PAD> <PAD> <PAD> <PAD> <PAD> <PAD> <PAD> <PAD>\n",
      "\n",
      "english: new jersey is usually hot during spring , and it is wet in december .\n",
      "french:  new <PAD> <PAD> <PAD> <PAD> <PAD> <PAD> <PAD> <PAD> <PAD> <PAD> <PAD> <PAD> <PAD> <PAD> <PAD> <PAD> <PAD> <PAD> <PAD> <PAD>\n",
      "\n",
      "english: france is usually freezing during spring , but it is usually chilly in december .\n",
      "french:  la france est <PAD> <PAD> <PAD> <PAD> <PAD> <PAD> <PAD> <PAD> <PAD> <PAD> <PAD> <PAD> <PAD> <PAD> <PAD> <PAD> <PAD> <PAD>\n",
      "\n"
     ]
    }
   ],
   "source": [
    "print_translations(final_model, english_sentences, tmp_x, french_tokenizer)"
   ]
  },
  {
   "cell_type": "code",
   "execution_count": 37,
   "metadata": {},
   "outputs": [],
   "source": [
    "# needs\n",
    "# pip install pydot graphviz\n",
    "# sudo apt-get install graphviz\n",
    "%load_ext autoreload\n",
    "%autoreload 2\n",
    "\n",
    "%autoreload\n",
    "import pydot\n",
    "#print(pydot.find_graphviz())"
   ]
  },
  {
   "cell_type": "code",
   "execution_count": 38,
   "metadata": {},
   "outputs": [
    {
     "data": {
      "image/svg+xml": [
       "<svg height=\"410pt\" viewBox=\"0.00 0.00 466.00 410.00\" width=\"466pt\" xmlns=\"http://www.w3.org/2000/svg\" xmlns:xlink=\"http://www.w3.org/1999/xlink\">\n",
       "<g class=\"graph\" id=\"graph0\" transform=\"scale(1 1) rotate(0) translate(4 406)\">\n",
       "<title>G</title>\n",
       "<polygon fill=\"white\" points=\"-4,4 -4,-406 462,-406 462,4 -4,4\" stroke=\"none\"/>\n",
       "<!-- 140315001972384 -->\n",
       "<g class=\"node\" id=\"node1\"><title>140315001972384</title>\n",
       "<polygon fill=\"none\" points=\"92,-365.5 92,-401.5 366,-401.5 366,-365.5 92,-365.5\" stroke=\"black\"/>\n",
       "<text font-family=\"Times,serif\" font-size=\"14.00\" text-anchor=\"middle\" x=\"229\" y=\"-379.8\">embedding_layer_input: InputLayer</text>\n",
       "</g>\n",
       "<!-- 140315001972272 -->\n",
       "<g class=\"node\" id=\"node2\"><title>140315001972272</title>\n",
       "<polygon fill=\"none\" points=\"114,-292.5 114,-328.5 344,-328.5 344,-292.5 114,-292.5\" stroke=\"black\"/>\n",
       "<text font-family=\"Times,serif\" font-size=\"14.00\" text-anchor=\"middle\" x=\"229\" y=\"-306.8\">embedding_layer: Embedding</text>\n",
       "</g>\n",
       "<!-- 140315001972384&#45;&gt;140315001972272 -->\n",
       "<g class=\"edge\" id=\"edge1\"><title>140315001972384-&gt;140315001972272</title>\n",
       "<path d=\"M229,-365.313C229,-357.289 229,-347.547 229,-338.569\" fill=\"none\" stroke=\"black\"/>\n",
       "<polygon fill=\"black\" points=\"232.5,-338.529 229,-328.529 225.5,-338.529 232.5,-338.529\" stroke=\"black\"/>\n",
       "</g>\n",
       "<!-- 140315001973056 -->\n",
       "<g class=\"node\" id=\"node3\"><title>140315001973056</title>\n",
       "<polygon fill=\"none\" points=\"179,-219.5 179,-255.5 279,-255.5 279,-219.5 179,-219.5\" stroke=\"black\"/>\n",
       "<text font-family=\"Times,serif\" font-size=\"14.00\" text-anchor=\"middle\" x=\"229\" y=\"-233.8\">gru_1: GRU</text>\n",
       "</g>\n",
       "<!-- 140315001972272&#45;&gt;140315001973056 -->\n",
       "<g class=\"edge\" id=\"edge2\"><title>140315001972272-&gt;140315001973056</title>\n",
       "<path d=\"M229,-292.313C229,-284.289 229,-274.547 229,-265.569\" fill=\"none\" stroke=\"black\"/>\n",
       "<polygon fill=\"black\" points=\"232.5,-265.529 229,-255.529 225.5,-265.529 232.5,-265.529\" stroke=\"black\"/>\n",
       "</g>\n",
       "<!-- 140315002009864 -->\n",
       "<g class=\"node\" id=\"node4\"><title>140315002009864</title>\n",
       "<polygon fill=\"none\" points=\"109.5,-146.5 109.5,-182.5 348.5,-182.5 348.5,-146.5 109.5,-146.5\" stroke=\"black\"/>\n",
       "<text font-family=\"Times,serif\" font-size=\"14.00\" text-anchor=\"middle\" x=\"229\" y=\"-160.8\">repeat_vector_1: RepeatVector</text>\n",
       "</g>\n",
       "<!-- 140315001973056&#45;&gt;140315002009864 -->\n",
       "<g class=\"edge\" id=\"edge3\"><title>140315001973056-&gt;140315002009864</title>\n",
       "<path d=\"M229,-219.313C229,-211.289 229,-201.547 229,-192.569\" fill=\"none\" stroke=\"black\"/>\n",
       "<polygon fill=\"black\" points=\"232.5,-192.529 229,-182.529 225.5,-192.529 232.5,-192.529\" stroke=\"black\"/>\n",
       "</g>\n",
       "<!-- 140315002010088 -->\n",
       "<g class=\"node\" id=\"node5\"><title>140315002010088</title>\n",
       "<polygon fill=\"none\" points=\"179,-73.5 179,-109.5 279,-109.5 279,-73.5 179,-73.5\" stroke=\"black\"/>\n",
       "<text font-family=\"Times,serif\" font-size=\"14.00\" text-anchor=\"middle\" x=\"229\" y=\"-87.8\">gru_2: GRU</text>\n",
       "</g>\n",
       "<!-- 140315002009864&#45;&gt;140315002010088 -->\n",
       "<g class=\"edge\" id=\"edge4\"><title>140315002009864-&gt;140315002010088</title>\n",
       "<path d=\"M229,-146.313C229,-138.289 229,-128.547 229,-119.569\" fill=\"none\" stroke=\"black\"/>\n",
       "<polygon fill=\"black\" points=\"232.5,-119.529 229,-109.529 225.5,-119.529 232.5,-119.529\" stroke=\"black\"/>\n",
       "</g>\n",
       "<!-- 140314726127712 -->\n",
       "<g class=\"node\" id=\"node6\"><title>140314726127712</title>\n",
       "<polygon fill=\"none\" points=\"0,-0.5 0,-36.5 458,-36.5 458,-0.5 0,-0.5\" stroke=\"black\"/>\n",
       "<text font-family=\"Times,serif\" font-size=\"14.00\" text-anchor=\"middle\" x=\"229\" y=\"-14.8\">time_distributed_3(activation_layer): TimeDistributed(Dense)</text>\n",
       "</g>\n",
       "<!-- 140315002010088&#45;&gt;140314726127712 -->\n",
       "<g class=\"edge\" id=\"edge5\"><title>140315002010088-&gt;140314726127712</title>\n",
       "<path d=\"M229,-73.3129C229,-65.2895 229,-55.5475 229,-46.5691\" fill=\"none\" stroke=\"black\"/>\n",
       "<polygon fill=\"black\" points=\"232.5,-46.5288 229,-36.5288 225.5,-46.5289 232.5,-46.5288\" stroke=\"black\"/>\n",
       "</g>\n",
       "</g>\n",
       "</svg>"
      ],
      "text/plain": [
       "<IPython.core.display.SVG object>"
      ]
     },
     "execution_count": 38,
     "metadata": {},
     "output_type": "execute_result"
    }
   ],
   "source": [
    "from IPython.display import SVG\n",
    "from keras.utils.vis_utils import model_to_dot\n",
    "\n",
    "SVG(model_to_dot(final_model).create(prog='dot', format='svg'))"
   ]
  },
  {
   "cell_type": "code",
   "execution_count": 39,
   "metadata": {},
   "outputs": [],
   "source": [
    "#import h5py\n",
    "#final_model.save_weights('model_final.hdf5')"
   ]
  },
  {
   "cell_type": "code",
   "execution_count": 40,
   "metadata": {},
   "outputs": [
    {
     "name": "stdout",
     "output_type": "stream",
     "text": [
      "(137861, 15)\n",
      "_________________________________________________________________\n",
      "Layer (type)                 Output Shape              Param #   \n",
      "=================================================================\n",
      "embedding_layer (Embedding)  (None, 15, 100)           20000     \n",
      "_________________________________________________________________\n",
      "gru_1 (GRU)                  (None, 100)               60300     \n",
      "_________________________________________________________________\n",
      "repeat_vector_1 (RepeatVecto (None, 21, 100)           0         \n",
      "_________________________________________________________________\n",
      "gru_2 (GRU)                  (None, 21, 66)            33066     \n",
      "_________________________________________________________________\n",
      "time_distributed_3 (TimeDist (None, 21, 345)           23115     \n",
      "=================================================================\n",
      "Total params: 136,481\n",
      "Trainable params: 136,481\n",
      "Non-trainable params: 0\n",
      "_________________________________________________________________\n",
      "None\n"
     ]
    }
   ],
   "source": [
    "print(preproc_english_sentences.shape)\n",
    "print(final_model.summary())"
   ]
  },
  {
   "cell_type": "markdown",
   "metadata": {},
   "source": [
    "## Prediction (IMPLEMENTATION)"
   ]
  },
  {
   "cell_type": "code",
   "execution_count": 42,
   "metadata": {},
   "outputs": [
    {
     "name": "stdout",
     "output_type": "stream",
     "text": [
      "Sample 1:\n",
      "il a <PAD> <PAD> <PAD> <PAD> <PAD> <PAD> <PAD> <PAD> <PAD> <PAD> <PAD> <PAD> <PAD> <PAD> <PAD> <PAD> <PAD> <PAD> <PAD>\n",
      "Il a vu un vieux camion jaune\n",
      "Sample 2:\n",
      "new <PAD> <PAD> <PAD> <PAD> <PAD> <PAD> <PAD> <PAD> <PAD> <PAD> <PAD> <PAD> <PAD> <PAD> <PAD> <PAD> <PAD> <PAD> <PAD> <PAD>\n",
      "<PAD> <PAD> <PAD> <PAD> <PAD> <PAD> <PAD> <PAD> <PAD> <PAD> <PAD> <PAD> <PAD> <PAD> <PAD> <PAD> <PAD> <PAD> <PAD> <PAD> <PAD>\n"
     ]
    }
   ],
   "source": [
    "import numpy as np\n",
    "from keras.preprocessing.sequence import pad_sequences\n",
    "\n",
    "\n",
    "def final_predictions(x, y, x_tk, y_tk):\n",
    "    \"\"\"\n",
    "    Gets predictions using the final model\n",
    "    :param x: Preprocessed English data\n",
    "    :param y: Preprocessed French data\n",
    "    :param x_tk: English tokenizer\n",
    "    :param y_tk: French tokenizer\n",
    "    \"\"\"\n",
    "    # TODO: Train neural network using model_final\n",
    "#    tmp_x = pad(x, y.shape[1])\n",
    "\n",
    "    # Train the neural network\n",
    "    \"\"\"\n",
    "    model = bd_model(\n",
    "        tmp_x.shape,\n",
    "        y.shape[1],\n",
    "        len(x_tk.word_index)+1,\n",
    "        len(y_tk.word_index)+1)\n",
    "\n",
    "    model.fit(tmp_x, y, batch_size=1024, epochs=10, validation_split=0.2)\n",
    "    \"\"\"\n",
    "    model=final_model\n",
    "    \n",
    "    ## DON'T EDIT ANYTHING BELOW THIS LINE\n",
    "    y_id_to_word = {value: key for key, value in y_tk.word_index.items()}\n",
    "    y_id_to_word[0] = '<PAD>'\n",
    "\n",
    "    sentence = 'he saw a old yellow truck'\n",
    "    sentence = [x_tk.word_index[word] for word in sentence.split()]\n",
    "    sentence = pad_sequences([sentence], maxlen=x.shape[-1], padding='post')\n",
    "    sentences = np.array([sentence[0], x[0]])\n",
    "    predictions = model.predict(sentences, len(sentences))\n",
    "\n",
    "    print('Sample 1:')\n",
    "    print(' '.join([y_id_to_word[np.argmax(x)] for x in predictions[0]]))\n",
    "    print('Il a vu un vieux camion jaune')\n",
    "    print('Sample 2:')\n",
    "    print(' '.join([y_id_to_word[np.argmax(x)] for x in predictions[1]]))\n",
    "    print(' '.join([y_id_to_word[np.argmax(x)] for x in y[0]]))\n",
    "\n",
    "\n",
    "final_predictions(preproc_english_sentences, preproc_french_sentences, english_tokenizer, french_tokenizer)"
   ]
  },
  {
   "cell_type": "markdown",
   "metadata": {},
   "source": [
    "## Submission\n",
    "When you are ready to submit your project, do the following steps:\n",
    "1. Ensure you pass all points on the [rubric](https://review.udacity.com/#!/rubrics/1004/view).\n",
    "2. Submit the following in a zip file.\n",
    "  - `helper.py`\n",
    "  - `machine_translation.ipynb`\n",
    "  - `machine_translation.html`\n",
    "    - You can export the notebook by navigating to **File -> Download as -> HTML (.html)**."
   ]
  },
  {
   "cell_type": "code",
   "execution_count": null,
   "metadata": {},
   "outputs": [],
   "source": []
  }
 ],
 "metadata": {
  "kernelspec": {
   "display_name": "Python 3",
   "language": "python",
   "name": "python3"
  },
  "language_info": {
   "codemirror_mode": {
    "name": "ipython",
    "version": 3
   },
   "file_extension": ".py",
   "mimetype": "text/x-python",
   "name": "python",
   "nbconvert_exporter": "python",
   "pygments_lexer": "ipython3",
   "version": "3.5.4"
  }
 },
 "nbformat": 4,
 "nbformat_minor": 1
}
