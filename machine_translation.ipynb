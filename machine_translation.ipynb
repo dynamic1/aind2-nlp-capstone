{
 "cells": [
  {
   "cell_type": "markdown",
   "metadata": {
    "collapsed": true
   },
   "source": [
    "# Artificial Intelligence Nanodegree\n",
    "## Machine Translation Project\n",
    "In this notebook, sections that end with **'(IMPLEMENTATION)'** in the header indicate that the following blocks of code will require additional functionality which you must provide. Please be sure to read the instructions carefully!\n",
    "\n",
    "## Introduction\n",
    "In this notebook, you will build a deep neural network that functions as part of an end-to-end machine translation pipeline. Your completed pipeline will accept English text as input and return the French translation.\n",
    "\n",
    "- **Preprocess** - You'll convert text to sequence of integers.\n",
    "- **Models** Create models which accepts a sequence of integers as input and returns a probability distribution over possible translations. After learning about the basic types of neural networks that are often used for machine translation, you will engage in your own investigations, to design your own model!\n",
    "- **Prediction** Run the model on English text.\n",
    "\n",
    "## Dataset\n",
    "We begin by investigating the dataset that will be used to train and evaluate your pipeline.  The most common datasets used for machine translation are from [WMT](http://www.statmt.org/).  However, that will take a long time to train a neural network on.  We'll be using a dataset we created for this project that contains a small vocabulary.  You'll be able to train your model in a reasonable time with this dataset.\n",
    "### Load Data\n",
    "The data is located in `data/small_vocab_en` and `data/small_vocab_fr`. The `small_vocab_en` file contains English sentences with their French translations in the `small_vocab_fr` file. Load the English and French data from these files from running the cell below."
   ]
  },
  {
   "cell_type": "code",
   "execution_count": 1,
   "metadata": {},
   "outputs": [
    {
     "data": {
      "text/html": [
       "<style>.container { width:100% !important; }</style>"
      ],
      "text/plain": [
       "<IPython.core.display.HTML object>"
      ]
     },
     "metadata": {},
     "output_type": "display_data"
    }
   ],
   "source": [
    "from IPython.core.display import display, HTML\n",
    "\n",
    "def make_page_wide():\n",
    "    display(HTML(\"<style>.container { width:100% !important; }</style>\"))\n",
    "\n",
    "make_page_wide()"
   ]
  },
  {
   "cell_type": "code",
   "execution_count": 2,
   "metadata": {},
   "outputs": [
    {
     "name": "stderr",
     "output_type": "stream",
     "text": [
      "Using TensorFlow backend.\n"
     ]
    },
    {
     "name": "stdout",
     "output_type": "stream",
     "text": [
      "Dataset Loaded\n"
     ]
    }
   ],
   "source": [
    "import helper\n",
    "\n",
    "import keras\n",
    "\n",
    "# Load English data\n",
    "english_sentences = helper.load_data('data/small_vocab_en')\n",
    "# Load French data\n",
    "french_sentences = helper.load_data('data/small_vocab_fr')\n",
    "\n",
    "#print(french_sentences[0:5])\n",
    "print('Dataset Loaded')"
   ]
  },
  {
   "cell_type": "markdown",
   "metadata": {},
   "source": [
    "### Files\n",
    "Each line in `small_vocab_en` contains an English sentence with the respective translation in each line of `small_vocab_fr`.  View the first two lines from each file."
   ]
  },
  {
   "cell_type": "code",
   "execution_count": 3,
   "metadata": {},
   "outputs": [
    {
     "name": "stdout",
     "output_type": "stream",
     "text": [
      "small_vocab_en Line 1:  new jersey is sometimes quiet during autumn , and it is snowy in april .\n",
      "small_vocab_fr Line 1:  new jersey est parfois calme pendant l' automne , et il est neigeux en avril .\n",
      "small_vocab_en Line 2:  the united states is usually chilly during july , and it is usually freezing in november .\n",
      "small_vocab_fr Line 2:  les états-unis est généralement froid en juillet , et il gèle habituellement en novembre .\n"
     ]
    }
   ],
   "source": [
    "for sample_i in range(2):\n",
    "    print('small_vocab_en Line {}:  {}'.format(sample_i + 1, english_sentences[sample_i]))\n",
    "    print('small_vocab_fr Line {}:  {}'.format(sample_i + 1, french_sentences[sample_i]))"
   ]
  },
  {
   "cell_type": "markdown",
   "metadata": {},
   "source": [
    "From looking at the sentences, you can see they have been preprocessed already.  The puncuations have been delimited using spaces. All the text have been converted to lowercase.  This should save you some time, but the text requires more preprocessing.\n",
    "### Vocabulary\n",
    "The complexity of the problem is determined by the complexity of the vocabulary.  A more complex vocabulary is a more complex problem.  Let's look at the complexity of the dataset we'll be working with."
   ]
  },
  {
   "cell_type": "code",
   "execution_count": 4,
   "metadata": {},
   "outputs": [
    {
     "name": "stdout",
     "output_type": "stream",
     "text": [
      "1823250 English words.\n",
      "227 unique English words.\n",
      "10 Most common words in the English dataset:\n",
      "\"is\" \",\" \".\" \"in\" \"it\" \"during\" \"the\" \"but\" \"and\" \"sometimes\"\n",
      "\n",
      "1961295 French words.\n",
      "355 unique French words.\n",
      "10 Most common words in the French dataset:\n",
      "\"est\" \".\" \",\" \"en\" \"il\" \"les\" \"mais\" \"et\" \"la\" \"parfois\"\n"
     ]
    }
   ],
   "source": [
    "import collections\n",
    "\n",
    "\n",
    "english_words_counter = collections.Counter([word for sentence in english_sentences for word in sentence.split()])\n",
    "french_words_counter = collections.Counter([word for sentence in french_sentences for word in sentence.split()])\n",
    "\n",
    "print('{} English words.'.format(len([word for sentence in english_sentences for word in sentence.split()])))\n",
    "print('{} unique English words.'.format(len(english_words_counter)))\n",
    "print('10 Most common words in the English dataset:')\n",
    "print('\"' + '\" \"'.join(list(zip(*english_words_counter.most_common(10)))[0]) + '\"')\n",
    "print()\n",
    "print('{} French words.'.format(len([word for sentence in french_sentences for word in sentence.split()])))\n",
    "print('{} unique French words.'.format(len(french_words_counter)))\n",
    "print('10 Most common words in the French dataset:')\n",
    "print('\"' + '\" \"'.join(list(zip(*french_words_counter.most_common(10)))[0]) + '\"')"
   ]
  },
  {
   "cell_type": "markdown",
   "metadata": {},
   "source": [
    "For comparison, _Alice's Adventures in Wonderland_ contains 2,766 unique words of a total of 15,500 words.\n",
    "## Preprocess\n",
    "For this project, you won't use text data as input to your model. Instead, you'll convert the text into sequences of integers using the following preprocess methods:\n",
    "1. Tokenize the words into ids\n",
    "2. Add padding to make all the sequences the same length.\n",
    "\n",
    "Time to start preprocessing the data...\n",
    "### Tokenize (IMPLEMENTATION)\n",
    "For a neural network to predict on text data, it first has to be turned into data it can understand. Text data like \"dog\" is a sequence of ASCII character encodings.  Since a neural network is a series of multiplication and addition operations, the input data needs to be number(s).\n",
    "\n",
    "We can turn each character into a number or each word into a number.  These are called character and word ids, respectively.  Character ids are used for character level models that generate text predictions for each character.  A word level model uses word ids that generate text predictions for each word.  Word level models tend to learn better, since they are lower in complexity, so we'll use those.\n",
    "\n",
    "Turn each sentence into a sequence of words ids using Keras's [`Tokenizer`](https://keras.io/preprocessing/text/#tokenizer) function. Use this function to tokenize `english_sentences` and `french_sentences` in the cell below.\n",
    "\n",
    "Running the cell will run `tokenize` on sample data and show output for debugging."
   ]
  },
  {
   "cell_type": "code",
   "execution_count": 5,
   "metadata": {},
   "outputs": [
    {
     "name": "stdout",
     "output_type": "stream",
     "text": [
      "{'sentence': 21, 'brown': 4, 'jumps': 6, 'is': 19, 'of': 14, 'quick': 2, 'fox': 5, 'short': 20, 'won': 16, 'dog': 9, 'my': 12, 'a': 3, 'by': 10, 'this': 18, 'the': 1, 'study': 13, 'lexicography': 15, 'over': 7, 'prize': 17, 'jove': 11, 'lazy': 8}\n",
      "\n",
      "Sequence 1 in x\n",
      "  Input:  The quick brown fox jumps over the lazy dog .\n",
      "  Output: [1, 2, 4, 5, 6, 7, 1, 8, 9]\n",
      "Sequence 2 in x\n",
      "  Input:  By Jove , my quick study of lexicography won a prize .\n",
      "  Output: [10, 11, 12, 2, 13, 14, 15, 16, 3, 17]\n",
      "Sequence 3 in x\n",
      "  Input:  This is a short sentence .\n",
      "  Output: [18, 19, 3, 20, 21]\n"
     ]
    }
   ],
   "source": [
    "import project_tests as tests\n",
    "from keras.preprocessing.text import Tokenizer\n",
    "\n",
    "\n",
    "def tokenize(x):\n",
    "    \"\"\"\n",
    "    Tokenize x\n",
    "    :param x: List of sentences/strings to be tokenized\n",
    "    :return: Tuple of (tokenized x data, tokenizer used to tokenize x)\n",
    "    \"\"\"\n",
    "    # TODO: Implement\n",
    "    \n",
    "    tokenizer = Tokenizer()\n",
    "    tokenizer.fit_on_texts(x)\n",
    "    #print(tokenizer.word_index)\n",
    "    sequences = tokenizer.texts_to_sequences(x)\n",
    "    \n",
    "    return sequences, tokenizer\n",
    "\n",
    "tests.test_tokenize(tokenize)\n",
    "\n",
    "# Tokenize Example output\n",
    "text_sentences = [\n",
    "    'The quick brown fox jumps over the lazy dog .',\n",
    "    'By Jove , my quick study of lexicography won a prize .',\n",
    "    'This is a short sentence .']\n",
    "text_tokenized, text_tokenizer = tokenize(text_sentences)\n",
    "print(text_tokenizer.word_index)\n",
    "print()\n",
    "for sample_i, (sent, token_sent) in enumerate(zip(text_sentences, text_tokenized)):\n",
    "    print('Sequence {} in x'.format(sample_i + 1))\n",
    "    print('  Input:  {}'.format(sent))\n",
    "    print('  Output: {}'.format(token_sent))"
   ]
  },
  {
   "cell_type": "markdown",
   "metadata": {},
   "source": [
    "### Padding (IMPLEMENTATION)\n",
    "When batching the sequence of word ids together, each sequence needs to be the same length.  Since sentences are dynamic in length, we can add padding to the end of the sequences to make them the same length.\n",
    "\n",
    "Make sure all the English sequences have the same length and all the French sequences have the same length by adding padding to the **end** of each sequence using Keras's [`pad_sequences`](https://keras.io/preprocessing/sequence/#pad_sequences) function."
   ]
  },
  {
   "cell_type": "code",
   "execution_count": 6,
   "metadata": {},
   "outputs": [
    {
     "name": "stdout",
     "output_type": "stream",
     "text": [
      "Sequence 1 in x\n",
      "  Input:  [1 2 4 5 6 7 1 8 9]\n",
      "  Output: [1 2 4 5 6 7 1 8 9 0]\n",
      "Sequence 2 in x\n",
      "  Input:  [10 11 12  2 13 14 15 16  3 17]\n",
      "  Output: [10 11 12  2 13 14 15 16  3 17]\n",
      "Sequence 3 in x\n",
      "  Input:  [18 19  3 20 21]\n",
      "  Output: [18 19  3 20 21  0  0  0  0  0]\n"
     ]
    }
   ],
   "source": [
    "import numpy as np\n",
    "from keras.preprocessing.sequence import pad_sequences\n",
    "\n",
    "\n",
    "def pad(x, length=None):\n",
    "    \"\"\"\n",
    "    Pad x\n",
    "    :param x: List of sequences.\n",
    "    :param length: Length to pad the sequence to.  If None, use length of longest sequence in x.\n",
    "    :return: Padded numpy array of sequences\n",
    "    \"\"\"\n",
    "    # TODO: Implement\n",
    "    padded_ar = pad_sequences(x, maxlen=length, padding='post', truncating='post')\n",
    "#     print(padded_ar)\n",
    "    return padded_ar\n",
    "tests.test_pad(pad)\n",
    "\n",
    "# Pad Tokenized output\n",
    "test_pad = pad(text_tokenized)\n",
    "for sample_i, (token_sent, pad_sent) in enumerate(zip(text_tokenized, test_pad)):\n",
    "    print('Sequence {} in x'.format(sample_i + 1))\n",
    "    print('  Input:  {}'.format(np.array(token_sent)))\n",
    "    print('  Output: {}'.format(pad_sent))"
   ]
  },
  {
   "cell_type": "markdown",
   "metadata": {},
   "source": [
    "### Preprocess Pipeline\n",
    "Your focus for this project is to build neural network architecture, so we won't ask you to create a preprocess pipeline.  Instead, we've provided you with the implementation of the `preprocess` function."
   ]
  },
  {
   "cell_type": "code",
   "execution_count": 7,
   "metadata": {},
   "outputs": [
    {
     "name": "stdout",
     "output_type": "stream",
     "text": [
      "the united states is usually chilly during july , and it is usually freezing in november .\n",
      "les états-unis est généralement froid en juillet , et il gèle habituellement en novembre .\n"
     ]
    }
   ],
   "source": [
    "print(english_sentences[1])\n",
    "print(french_sentences[1])"
   ]
  },
  {
   "cell_type": "code",
   "execution_count": 8,
   "metadata": {},
   "outputs": [
    {
     "name": "stdout",
     "output_type": "stream",
     "text": [
      "Data Preprocessed\n"
     ]
    }
   ],
   "source": [
    "def preprocess(x, y):\n",
    "    \"\"\"\n",
    "    Preprocess x and y\n",
    "    :param x: Feature List of sentences\n",
    "    :param y: Label List of sentences\n",
    "    :return: Tuple of (Preprocessed x, Preprocessed y, x tokenizer, y tokenizer)\n",
    "    \"\"\"\n",
    "    preprocess_x, x_tk = tokenize(x)\n",
    "    preprocess_y, y_tk = tokenize(y)\n",
    "\n",
    "    \n",
    "    preprocess_x = pad(preprocess_x)\n",
    "    preprocess_y = pad(preprocess_y)\n",
    "\n",
    "    # Keras's sparse_categorical_crossentropy function requires the labels to be in 3 dimensions\n",
    "    preprocess_y = preprocess_y.reshape(*preprocess_y.shape, 1)\n",
    "\n",
    "    return preprocess_x, preprocess_y, x_tk, y_tk\n",
    "\n",
    "preproc_english_sentences, preproc_french_sentences, english_tokenizer, french_tokenizer =\\\n",
    "    preprocess(english_sentences, french_sentences)\n",
    "\n",
    "\n",
    "print('Data Preprocessed')"
   ]
  },
  {
   "cell_type": "code",
   "execution_count": 9,
   "metadata": {},
   "outputs": [],
   "source": [
    "# tmp_x = None\n",
    "# tmp_y = None\n",
    "tmp_x, tmp_x_tk = tokenize(english_sentences)\n",
    "tmp_y, tmp_y_tk = tokenize(french_sentences)\n"
   ]
  },
  {
   "cell_type": "code",
   "execution_count": 10,
   "metadata": {},
   "outputs": [
    {
     "name": "stdout",
     "output_type": "stream",
     "text": [
      "the united states is usually chilly during july , and it is usually freezing in november .\n",
      "les états-unis est généralement froid en juillet , et il gèle habituellement en novembre .\n",
      "(137861, 15)\n",
      "(137861, 21, 1)\n",
      "longest english sentence: len=15, idx=137834\n",
      "[5, 20, 21, 1, 9, 62, 4, 36, 6, 3, 1, 10, 65, 2, 48]\n",
      "the united states is usually chilly during january , but it is never wet in february .\n",
      "les états-unis est généralement froid en janvier , mais il est jamais humide en février .\n",
      "longest frenech sentence: len=21, idx=123825\n",
      "[4, 32, 31, 1, 9, 26, 63, 15, 111, 22, 11, 24, 5, 3, 105, 103, 9, 19, 26, 11, 24]\n",
      "the united states is never dry during autumn , but it is never cold in fall .\n",
      "les états-unis est jamais à sec au cours de l' automne , mais il ne fait jamais froid à l' automne .\n"
     ]
    }
   ],
   "source": [
    "print(english_sentences[1])\n",
    "print(french_sentences[1])\n",
    "\n",
    "#import sys\n",
    "#print(sys.version)\n",
    "\n",
    "print(preproc_english_sentences.shape)\n",
    "print(preproc_french_sentences.shape)\n",
    "\n",
    "#print(preproc_english_sentences[0])\n",
    "#print(preproc_french_sentences[1])\n",
    "\n",
    "\n",
    "max_len_e, idx_max_len_e = max([ (len(s), index) for (index,s) in enumerate(tmp_x)])\n",
    "max_len_f, idx_max_len_f = max([ (len(s), index) for (index,s) in enumerate(tmp_y)])\n",
    "\n",
    "print(\"longest english sentence: len={max_len_e}, idx={idx_max_len_e}\".format(max_len_e=max_len_e, idx_max_len_e=idx_max_len_e))\n",
    "print(tmp_x[idx_max_len_e])\n",
    "print(english_sentences[idx_max_len_e])\n",
    "print(french_sentences[idx_max_len_e])\n",
    "\n",
    "print(\"longest frenech sentence: len={max_len_f}, idx={idx_max_len_f}\".format(max_len_f=max_len_f, idx_max_len_f=idx_max_len_f))\n",
    "print(tmp_y[idx_max_len_f])\n",
    "print(english_sentences[idx_max_len_f])\n",
    "print(french_sentences[idx_max_len_f])"
   ]
  },
  {
   "cell_type": "code",
   "execution_count": 11,
   "metadata": {},
   "outputs": [
    {
     "data": {
      "text/plain": [
       "(array([  1.00000000e+00,   0.00000000e+00,   0.00000000e+00,\n",
       "          1.37000000e+02,   1.46000000e+02,   2.59200000e+03,\n",
       "          2.63750000e+04,   5.12200000e+03,   1.03100000e+03,\n",
       "          8.04000000e+02,   1.76000000e+02,   3.53500000e+03,\n",
       "          2.70090000e+04,   3.49130000e+04,   2.99620000e+04,\n",
       "          6.05800000e+03,   0.00000000e+00,   0.00000000e+00,\n",
       "          0.00000000e+00,   0.00000000e+00,   0.00000000e+00,\n",
       "          0.00000000e+00,   0.00000000e+00,   0.00000000e+00]),\n",
       " array([ 0,  1,  2,  3,  4,  5,  6,  7,  8,  9, 10, 11, 12, 13, 14, 15, 16,\n",
       "        17, 18, 19, 20, 21, 22, 23, 24]),\n",
       " <a list of 24 Patch objects>)"
      ]
     },
     "execution_count": 11,
     "metadata": {},
     "output_type": "execute_result"
    },
    {
     "data": {
      "image/png": "[encoded data removed]",
      "text/plain": [
       "<matplotlib.figure.Figure at 0x7f9f248047b8>"
      ]
     },
     "metadata": {},
     "output_type": "display_data"
    }
   ],
   "source": [
    "import matplotlib\n",
    "import matplotlib.pyplot as plt\n",
    "\n",
    "%matplotlib inline\n",
    "\n",
    "#distribution of length of english senetecens\n",
    "plt.hist([len(s) for s in tmp_x], bins=range(25))"
   ]
  },
  {
   "cell_type": "code",
   "execution_count": 12,
   "metadata": {},
   "outputs": [
    {
     "data": {
      "text/plain": [
       "(array([  1.00000000e+00,   0.00000000e+00,   0.00000000e+00,\n",
       "          3.10000000e+01,   1.85000000e+02,   5.64000000e+02,\n",
       "          4.97300000e+03,   5.41400000e+03,   4.76700000e+03,\n",
       "          1.51240000e+04,   4.68400000e+03,   3.66000000e+03,\n",
       "          1.36470000e+04,   2.01280000e+04,   3.18310000e+04,\n",
       "          2.12290000e+04,   8.01800000e+03,   2.82000000e+03,\n",
       "          6.75000000e+02,   9.90000000e+01,   8.00000000e+00,\n",
       "          3.00000000e+00,   0.00000000e+00,   0.00000000e+00]),\n",
       " array([ 0,  1,  2,  3,  4,  5,  6,  7,  8,  9, 10, 11, 12, 13, 14, 15, 16,\n",
       "        17, 18, 19, 20, 21, 22, 23, 24]),\n",
       " <a list of 24 Patch objects>)"
      ]
     },
     "execution_count": 12,
     "metadata": {},
     "output_type": "execute_result"
    },
    {
     "data": {
      "image/png": "[encoded data removed]",
      "text/plain": [
       "<matplotlib.figure.Figure at 0x7f9f248755f8>"
      ]
     },
     "metadata": {},
     "output_type": "display_data"
    }
   ],
   "source": [
    "# dsitribution of length of french sentences\n",
    "plt.hist([len(s) for s in tmp_y], bins=range(25))"
   ]
  },
  {
   "cell_type": "markdown",
   "metadata": {},
   "source": [
    "## Models\n",
    "In this section, you will experiment with various neural network architectures.\n",
    "You will begin by training four relatively simple architectures.\n",
    "- Model 1 is a simple RNN\n",
    "- Model 2 is a RNN with Embedding\n",
    "- Model 3 is a Bidirectional RNN\n",
    "- Model 4 is an optional Encoder-Decoder RNN\n",
    "\n",
    "After experimenting with the four simple architectures, you will construct a deeper architecture that is designed to outperform all four models.\n",
    "### Ids Back to Text\n",
    "The neural network will be translating the input to words ids, which isn't the final form we want.  We want the French translation.  The function `logits_to_text` will bridge the gab between the logits from the neural network to the French translation.  You'll be using this function to better understand the output of the neural network."
   ]
  },
  {
   "cell_type": "code",
   "execution_count": 13,
   "metadata": {},
   "outputs": [
    {
     "name": "stdout",
     "output_type": "stream",
     "text": [
      "`logits_to_text` function loaded.\n"
     ]
    }
   ],
   "source": [
    "def logits_to_text(logits, tokenizer):\n",
    "    \"\"\"\n",
    "    Turn logits from a neural network into text using the tokenizer\n",
    "    :param logits: Logits from a neural network\n",
    "    :param tokenizer: Keras Tokenizer fit on the labels\n",
    "    :return: String that represents the text of the logits\n",
    "    \"\"\"\n",
    "    index_to_words = {id: word for word, id in tokenizer.word_index.items()}\n",
    "    index_to_words[0] = '<PAD>'\n",
    "\n",
    "    return ' '.join([index_to_words[prediction] for prediction in np.argmax(logits, 1)])\n",
    "\n",
    "print('`logits_to_text` function loaded.')"
   ]
  },
  {
   "cell_type": "code",
   "execution_count": 20,
   "metadata": {},
   "outputs": [],
   "source": [
    "import random\n",
    "\n",
    "\n",
    "def print_translations(model, x, y, y_tk, how_many=5, indexes=[]):\n",
    "    try:\n",
    "        how_many = int(how_many)\n",
    "    except ValueError:\n",
    "        how_many = 5\n",
    "        \n",
    "    if type(indexes)!=list or len(indexes)==0:\n",
    "        indexes = random.sample(range(1, len(x)), how_many)\n",
    "        \n",
    "    for idx in indexes:\n",
    "        print(\"english: {}\".format(x[idx]))\n",
    "        predictions = model.predict(y[idx:idx+1])\n",
    "        # prediciton.shape = (1,seq_length, logits)\n",
    "        # print(predictions.shape[0])\n",
    "        for prediction_idx in range(predictions.shape[0]):\n",
    "            print(\"french:  {pred}\".format(prediction_idx=prediction_idx, pred=logits_to_text(predictions[prediction_idx], y_tk)))\n",
    "        print()\n",
    "    "
   ]
  },
  {
   "cell_type": "code",
   "execution_count": 15,
   "metadata": {},
   "outputs": [],
   "source": [
    "from keras.callbacks import ModelCheckpoint\n",
    "\n",
    "def create_checkpoint_callback(filename):\n",
    "    return ModelCheckpoint(filename, monitor='val_acc', verbose=1, save_best_only=True)"
   ]
  },
  {
   "cell_type": "markdown",
   "metadata": {},
   "source": [
    "### Model 1: RNN (IMPLEMENTATION)\n",
    "![RNN](images/rnn.png)\n",
    "A basic RNN model is a good baseline for sequence data.  In this model, you'll build a RNN that translates English to French."
   ]
  },
  {
   "cell_type": "code",
   "execution_count": 18,
   "metadata": {
    "scrolled": false
   },
   "outputs": [
    {
     "name": "stdout",
     "output_type": "stream",
     "text": [
      "input_shape=(137861, 21, 1)\n",
      "output_sequence_length=21\n",
      "english_vocab_size=199\n",
      "french_vocab_size=344\n",
      "_________________________________________________________________\n",
      "Layer (type)                 Output Shape              Param #   \n",
      "=================================================================\n",
      "input_layer (InputLayer)     (None, 21, 1)             0         \n",
      "_________________________________________________________________\n",
      "gru_layer (GRU)              (None, 21, 100)           30600     \n",
      "_________________________________________________________________\n",
      "prediction_layer (Dense)     (None, 21, 344)           34744     \n",
      "=================================================================\n",
      "Total params: 65,344\n",
      "Trainable params: 65,344\n",
      "Non-trainable params: 0\n",
      "_________________________________________________________________\n",
      "None\n"
     ]
    }
   ],
   "source": [
    "from keras.layers import GRU, Input, Dense, TimeDistributed\n",
    "from keras.models import Model\n",
    "from keras.layers import Activation\n",
    "from keras.optimizers import Adam\n",
    "from keras.losses import sparse_categorical_crossentropy\n",
    "\n",
    "\n",
    "def simple_model(input_shape, output_sequence_length, english_vocab_size, french_vocab_size):\n",
    "    \"\"\"\n",
    "    Build and train a basic RNN on x and y\n",
    "    :param input_shape: Tuple of input shape\n",
    "    :param output_sequence_length: Length of output sequence\n",
    "    :param english_vocab_size: Number of unique English words in the dataset\n",
    "    :param french_vocab_size: Number of unique French words in the dataset\n",
    "    :return: Keras model built, but not trained\n",
    "    \"\"\"\n",
    "    # TODO: Build the layers\n",
    "    print(\"input_shape={}\".format(input_shape))\n",
    "    print(\"output_sequence_length={}\".format(output_sequence_length))\n",
    "    print(\"english_vocab_size={}\".format(english_vocab_size))\n",
    "    print(\"french_vocab_size={}\".format(french_vocab_size))\n",
    "    \n",
    "    \n",
    "    input_sequences = Input(shape=(21,1), name='input_layer')\n",
    "    \n",
    "    #gru = GRU(units=french_vocab_size+1, return_sequences=True, name='gru_layer')(input_sequences)\n",
    "    #predictions = TimeDistributed(Dense(units=french_vocab_size+1, input_shape=(21,french_vocab_size+1), name='dense_td'), name='time_distributed')(gru)\n",
    "    #model = Model(inputs = input_sequences, outputs=predictions)\n",
    "    \n",
    "    #gru = GRU(units=french_vocab_size+1, return_sequences=True, name='gru_layer')(input_sequences)\n",
    "    gru = GRU(units=100, return_sequences=True, name='gru_layer')(input_sequences)\n",
    "    #predictions = TimeDistributed(Dense(units=french_vocab_size+1, input_shape=(21,french_vocab_size+1), name='dense_td'), name='time_distributed')(gru)\n",
    "    predictions=Dense(french_vocab_size, activation='softmax', name='prediction_layer')(gru)\n",
    "    model = Model(inputs = input_sequences, outputs=predictions)\n",
    "    \n",
    "    print( model.summary())\n",
    "    \n",
    "    learning_rate=0.2\n",
    "    model.compile(loss=sparse_categorical_crossentropy,\n",
    "                 optimizer=Adam(learning_rate),\n",
    "                 metrics=['accuracy'])\n",
    "#     print( model.summary())\n",
    "    return model\n",
    "\n",
    "tests.test_simple_model(simple_model)\n",
    "\n"
   ]
  },
  {
   "cell_type": "code",
   "execution_count": 19,
   "metadata": {},
   "outputs": [
    {
     "name": "stdout",
     "output_type": "stream",
     "text": [
      "shape of y: (137861, 21, 1)\n",
      "input_shape=(137861, 21, 1)\n",
      "output_sequence_length=21\n",
      "english_vocab_size=199\n",
      "french_vocab_size=344\n",
      "_________________________________________________________________\n",
      "Layer (type)                 Output Shape              Param #   \n",
      "=================================================================\n",
      "input_layer (InputLayer)     (None, 21, 1)             0         \n",
      "_________________________________________________________________\n",
      "gru_layer (GRU)              (None, 21, 100)           30600     \n",
      "_________________________________________________________________\n",
      "prediction_layer (Dense)     (None, 21, 344)           34744     \n",
      "=================================================================\n",
      "Total params: 65,344\n",
      "Trainable params: 65,344\n",
      "Non-trainable params: 0\n",
      "_________________________________________________________________\n",
      "None\n",
      "Train on 110288 samples, validate on 27573 samples\n",
      "Epoch 1/10\n",
      "109568/110288 [============================>.] - ETA: 0s - loss: 3.5687 - acc: 0.5230Epoch 00000: val_acc improved from -inf to 0.58501, saving model to model_simple.hdf5\n",
      "110288/110288 [==============================] - 11s - loss: 3.5651 - acc: 0.5235 - val_loss: nan - val_acc: 0.5850\n",
      "Epoch 2/10\n",
      "109568/110288 [============================>.] - ETA: 0s - loss: 2.9972 - acc: 0.5843- ETA: 4s - loss:  - ETA: 0s - loss: 2.9975 - acc:Epoch 00001: val_acc did not improve\n",
      "110288/110288 [==============================] - 7s - loss: 2.9971 - acc: 0.5844 - val_loss: nan - val_acc: 0.5692\n",
      "Epoch 3/10\n",
      "109568/110288 [============================>.] - ETA: 0s - loss: 2.9710 - acc: 0.5884- ETA: 6s - loss: 3 - ETA: 4s - loss: 2.9808 -  - ETA: 4s - loss: 2.9747 - acc - ETA: 3s - loss: 2.9688 Epoch 00002: val_acc improved from 0.58501 to 0.58920, saving model to model_simple.hdf5\n",
      "110288/110288 [==============================] - 7s - loss: 2.9713 - acc: 0.5884 - val_loss: nan - val_acc: 0.5892\n",
      "Epoch 4/10\n",
      "109568/110288 [============================>.] - ETA: 0s - loss: 3.0932 - acc: 0.5822- ETA: 4s - loss: 3.0401 - acc: - ETA: 4s - loss: 3.0630 - - ETA - ETA: 1s - loss:Epoch 00003: val_acc did not improve\n",
      "110288/110288 [==============================] - 7s - loss: 3.0930 - acc: 0.5824 - val_loss: nan - val_acc: 0.5881\n",
      "Epoch 5/10\n",
      "109568/110288 [============================>.] - ETA: 0s - loss: 3.0374 - acc: 0.5964- ETA: 5s - loss: 3.0570 - accEpoch 00004: val_acc improved from 0.58920 to 0.59456, saving model to model_simple.hdf5\n",
      "110288/110288 [==============================] - 7s - loss: 3.0372 - acc: 0.5965 - val_loss: nan - val_acc: 0.5946\n",
      "Epoch 6/10\n",
      "109568/110288 [============================>.] - ETA: 0s - loss: 3.2061 - acc: 0.5794- ETA: 6s  - ETA: 4s - loss: 3.2977 - acc: 0. - ETA: 4s - loss: 3.2981 - acc: 0.5 - ETA: 4s - loss: 3.2923 - acc: 0 - ETA: 3s  - ETA: 1s - lo - ETA: 0s - loss: 3.2090 - acc: 0.5Epoch 00005: val_acc improved from 0.59456 to 0.59936, saving model to model_simple.hdf5\n",
      "110288/110288 [==============================] - 7s - loss: 3.2061 - acc: 0.5795 - val_loss: nan - val_acc: 0.5994\n",
      "Epoch 7/10\n",
      "109568/110288 [============================>.] - ETA: 0s - loss: 3.1534 - acc: 0.5908- ETA: 0s - loss: 3.1492 - acc: Epoch 00006: val_acc did not improve\n",
      "110288/110288 [==============================] - 7s - loss: 3.1538 - acc: 0.5908 - val_loss: nan - val_acc: 0.5833\n",
      "Epoch 8/10\n",
      "109568/110288 [============================>.] - ETA: 0s - loss: 3.1263 - acc: 0.5951- ETA: 4s - loss: 3.1536 - acc: - ETA: 3s - los - ETEpoch 00007: val_acc did not improve\n",
      "110288/110288 [==============================] - 7s - loss: 3.1260 - acc: 0.5952 - val_loss: nan - val_acc: 0.5966\n",
      "Epoch 9/10\n",
      "109568/110288 [============================>.] - ETA: 0s - loss: 3.0752 - acc: 0.6005- ETA: 4s - loss: 3.0908 - acc: 0.59 - ETA:Epoch 00008: val_acc improved from 0.59936 to 0.60196, saving model to model_simple.hdf5\n",
      "110288/110288 [==============================] - 7s - loss: 3.0755 - acc: 0.6005 - val_loss: nan - val_acc: 0.6020\n",
      "Epoch 10/10\n",
      "109568/110288 [============================>.] - ETA: 0s - loss: 3.1076 - acc: 0.5925Epoch 00009: val_acc did not improve\n",
      "110288/110288 [==============================] - 7s - loss: 3.1077 - acc: 0.5926 - val_loss: nan - val_acc: 0.6005\n",
      "new jersey is sometimes quiet during autumn , and it is snowy in april .\n",
      "new unis est parfois parfois en l' et il il est est en <PAD> <PAD> <PAD> <PAD> <PAD> <PAD> <PAD> <PAD>\n"
     ]
    }
   ],
   "source": [
    "# Reshaping the input to work with a basic RNN\n",
    "tmp_x = pad(preproc_english_sentences, preproc_french_sentences.shape[1])\n",
    "tmp_x = tmp_x.reshape((-1, preproc_french_sentences.shape[-2], 1))\n",
    "\n",
    "#print(tmp_x[2,])\n",
    "print(\"shape of y: {}\".format(preproc_french_sentences.shape))\n",
    "# Train the neural network\n",
    "simple_rnn_model = simple_model(\n",
    "    tmp_x.shape,\n",
    "    preproc_french_sentences.shape[1],\n",
    "    len(english_tokenizer.word_index),\n",
    "    len(french_tokenizer.word_index))\n",
    "simple_rnn_model.fit(tmp_x, preproc_french_sentences, batch_size=1024, epochs=10, validation_split=0.2, callbacks=[create_checkpoint_callback('model_simple.hdf5')])\n",
    "\n",
    "# Print prediction(s)\n",
    "print(english_sentences[0])\n",
    "print(logits_to_text(simple_rnn_model.predict(tmp_x[:1])[0], french_tokenizer))"
   ]
  },
  {
   "cell_type": "code",
   "execution_count": 22,
   "metadata": {},
   "outputs": [
    {
     "name": "stdout",
     "output_type": "stream",
     "text": [
      "english: his least liked fruit is the lime , but your least liked is the grapefruit .\n",
      "french:  les préféré aimé aimé aimé la la mais l' aimé aimé est la <PAD> <PAD> <PAD> <PAD> <PAD> <PAD> <PAD> <PAD>\n",
      "\n",
      "english: the united states is busy during autumn , and it is never chilly in june .\n",
      "french:  la unis unis est occupé en mois et il est jamais jamais en jamais <PAD> <PAD> <PAD> <PAD> <PAD> <PAD> <PAD>\n",
      "\n",
      "english: india is sometimes hot during december , but it is usually quiet in fall .\n",
      "french:  new est parfois parfois en en mais mais mais est est en l' janvier <PAD> <PAD> <PAD> <PAD> <PAD> <PAD> <PAD>\n",
      "\n",
      "english: the united states is never hot during summer , and it is usually warm in autumn .\n",
      "french:  la unis unis est jamais jamais en mois et il est est est en en <PAD> <PAD> <PAD> <PAD> <PAD> <PAD>\n",
      "\n",
      "english: she dislikes lemons , pears , and grapes .\n",
      "french:  la les les les les et et les <PAD> <PAD> <PAD> <PAD> <PAD> <PAD> <PAD> <PAD> <PAD> <PAD> <PAD> <PAD> <PAD>\n",
      "\n"
     ]
    }
   ],
   "source": [
    "print_translations(simple_rnn_model, english_sentences, tmp_x, french_tokenizer)"
   ]
  },
  {
   "cell_type": "markdown",
   "metadata": {},
   "source": [
    "### Model 2: Embedding (IMPLEMENTATION)\n",
    "![RNN](images/embedding.png)\n",
    "You've turned the words into ids, but there's a better representation of a word.  This is called word embeddings.  An embedding is a vector representation of the word that is close to similar words in n-dimensional space, where the n represents the size of the embedding vectors.\n",
    "\n",
    "In this model, you'll create a RNN model using embedding."
   ]
  },
  {
   "cell_type": "code",
   "execution_count": 25,
   "metadata": {
    "scrolled": false
   },
   "outputs": [
    {
     "name": "stdout",
     "output_type": "stream",
     "text": [
      "input_shape=(137861, 21)\n",
      "output_sequence_length=21\n",
      "english_vocab_size=199\n",
      "french_vocab_size=344\n",
      "_________________________________________________________________\n",
      "Layer (type)                 Output Shape              Param #   \n",
      "=================================================================\n",
      "embedding_layer (Embedding)  (None, 21, 64)            12736     \n",
      "_________________________________________________________________\n",
      "gru_layer (GRU)              (None, 21, 344)           422088    \n",
      "_________________________________________________________________\n",
      "clasification_layer (Dense)  (None, 21, 344)           118680    \n",
      "=================================================================\n",
      "Total params: 553,504\n",
      "Trainable params: 553,504\n",
      "Non-trainable params: 0\n",
      "_________________________________________________________________\n",
      "None\n"
     ]
    }
   ],
   "source": [
    "from keras.layers.embeddings import Embedding\n",
    "from keras.models import Sequential\n",
    "\n",
    "def embed_model(input_shape, output_sequence_length, english_vocab_size, french_vocab_size):\n",
    "    \"\"\"\n",
    "    Build and train a RNN model using word embedding on x and y\n",
    "    :param input_shape: Tuple of input shape\n",
    "    :param output_sequence_length: Length of output sequence\n",
    "    :param english_vocab_size: Number of unique English words in the dataset\n",
    "    :param french_vocab_size: Number of unique French words in the dataset\n",
    "    :return: Keras model built, but not trained\n",
    "    \"\"\"\n",
    "    # TODO: Implement\n",
    "    print(\"input_shape={}\".format(input_shape))\n",
    "    print(\"output_sequence_length={}\".format(output_sequence_length))\n",
    "    print(\"english_vocab_size={}\".format(english_vocab_size))\n",
    "    print(\"french_vocab_size={}\".format(french_vocab_size))\n",
    "\n",
    "    dim_embedding = 64\n",
    "    gru_hidden_state_dim = french_vocab_size\n",
    "    \n",
    "    model=Sequential()\n",
    "    model.add(Embedding(input_dim=english_vocab_size, output_dim=dim_embedding, input_length=input_shape[-1], name='embedding_layer' ))\n",
    "    model.add(GRU(units=gru_hidden_state_dim, return_sequences=True, name='gru_layer'))\n",
    "    model.add(Dense(french_vocab_size, activation='softmax', name='clasification_layer'))\n",
    "    \n",
    "    learning_rate = 0.2\n",
    "    model.compile(loss=sparse_categorical_crossentropy,\n",
    "                  optimizer=Adam(learning_rate),\n",
    "                  metrics=['accuracy'])\n",
    "    \n",
    "    print(model.summary())\n",
    "    return model\n",
    "\n",
    "tests.test_embed_model(embed_model)"
   ]
  },
  {
   "cell_type": "code",
   "execution_count": 26,
   "metadata": {},
   "outputs": [
    {
     "name": "stdout",
     "output_type": "stream",
     "text": [
      "input_shape=(137861, 21)\n",
      "output_sequence_length=21\n",
      "english_vocab_size=200\n",
      "french_vocab_size=345\n",
      "_________________________________________________________________\n",
      "Layer (type)                 Output Shape              Param #   \n",
      "=================================================================\n",
      "embedding_layer (Embedding)  (None, 21, 64)            12800     \n",
      "_________________________________________________________________\n",
      "gru_layer (GRU)              (None, 21, 345)           424350    \n",
      "_________________________________________________________________\n",
      "clasification_layer (Dense)  (None, 21, 345)           119370    \n",
      "=================================================================\n",
      "Total params: 556,520\n",
      "Trainable params: 556,520\n",
      "Non-trainable params: 0\n",
      "_________________________________________________________________\n",
      "None\n",
      "Train on 110288 samples, validate on 27573 samples\n",
      "Epoch 1/10\n",
      "109568/110288 [============================>.] - ETA: 0s - loss: 15.7086 - acc: 0.0172Epoch 00000: val_acc improved from -inf to 0.01405, saving model to model_embed.hdf5\n",
      "110288/110288 [==============================] - 16s - loss: 15.7099 - acc: 0.0171 - val_loss: 15.8917 - val_acc: 0.0140\n",
      "Epoch 2/10\n",
      "109568/110288 [============================>.] - ETA: 0s - loss: 15.8922 - acc: 0.0140Epoch 00001: val_acc did not improve\n",
      "110288/110288 [==============================] - 16s - loss: 15.8923 - acc: 0.0140 - val_loss: 15.8917 - val_acc: 0.0140\n",
      "Epoch 3/10\n",
      "109568/110288 [============================>.] - ETA: 0s - loss: 15.8922 - acc: 0.0140Epoch 00002: val_acc did not improve\n",
      "110288/110288 [==============================] - 16s - loss: 15.8922 - acc: 0.0140 - val_loss: 15.8917 - val_acc: 0.0140\n",
      "Epoch 4/10\n",
      "109568/110288 [============================>.] - ETA: 0s - loss: 15.8923 - acc: 0.0140Epoch 00003: val_acc did not improve\n",
      "110288/110288 [==============================] - 16s - loss: 15.8925 - acc: 0.0140 - val_loss: 15.8917 - val_acc: 0.0140\n",
      "Epoch 5/10\n",
      "109568/110288 [============================>.] - ETA: 0s - loss: 15.8924 - acc: 0.0140Epoch 00004: val_acc did not improve\n",
      "110288/110288 [==============================] - 16s - loss: 15.8923 - acc: 0.0140 - val_loss: 15.8917 - val_acc: 0.0140\n",
      "Epoch 6/10\n",
      "109568/110288 [============================>.] - ETA: 0s - loss: 15.8920 - acc: 0.0140Epoch 00005: val_acc did not improve\n",
      "110288/110288 [==============================] - 16s - loss: 15.8923 - acc: 0.0140 - val_loss: 15.8917 - val_acc: 0.0140\n",
      "Epoch 7/10\n",
      "109568/110288 [============================>.] - ETA: 0s - loss: 15.8922 - acc: 0.0140Epoch 00006: val_acc did not improve\n",
      "110288/110288 [==============================] - 16s - loss: 15.8923 - acc: 0.0140 - val_loss: 15.8917 - val_acc: 0.0140\n",
      "Epoch 8/10\n",
      "109568/110288 [============================>.] - ETA: 0s - loss: 15.8922 - acc: 0.0140Epoch 00007: val_acc did not improve\n",
      "110288/110288 [==============================] - 16s - loss: 15.8923 - acc: 0.0140 - val_loss: 15.8917 - val_acc: 0.0140\n",
      "Epoch 9/10\n",
      "109568/110288 [============================>.] - ETA: 0s - loss: 15.8924 - acc: 0.0140Epoch 00008: val_acc did not improve\n",
      "110288/110288 [==============================] - 16s - loss: 15.8923 - acc: 0.0140 - val_loss: 15.8917 - val_acc: 0.0140\n",
      "Epoch 10/10\n",
      "109568/110288 [============================>.] - ETA: 0s - loss: 15.8923 - acc: 0.0140Epoch 00009: val_acc did not improve\n",
      "110288/110288 [==============================] - 16s - loss: 15.8923 - acc: 0.0140 - val_loss: 15.8917 - val_acc: 0.0140\n"
     ]
    },
    {
     "data": {
      "text/plain": [
       "<keras.callbacks.History at 0x7f9f2034f7b8>"
      ]
     },
     "execution_count": 26,
     "metadata": {},
     "output_type": "execute_result"
    }
   ],
   "source": [
    "\n",
    "tmp_x = pad(preproc_english_sentences, preproc_french_sentences.shape[1])\n",
    "\n",
    "# Train the neural network\n",
    "embed_rnn_model = embed_model(\n",
    "    tmp_x.shape,\n",
    "    preproc_french_sentences.shape[1],\n",
    "    len(english_tokenizer.word_index)+1,\n",
    "    len(french_tokenizer.word_index)+1)\n",
    "\n",
    "embed_rnn_model.fit(tmp_x, preproc_french_sentences, batch_size=1024, callbacks=[create_checkpoint_callback('model_embed.hdf5')], epochs=10, validation_split=0.2)\n"
   ]
  },
  {
   "cell_type": "code",
   "execution_count": 27,
   "metadata": {},
   "outputs": [
    {
     "name": "stdout",
     "output_type": "stream",
     "text": [
      "english: india is sometimes cold during september , and it is rainy in summer .\n",
      "french:  france france humide humide humide humide humide humide humide humide humide humide humide humide humide humide humide humide humide humide humide\n",
      "\n",
      "english: the united states is rainy during july , and it is wet in winter .\n",
      "french:  france france humide humide humide humide humide humide humide humide humide humide humide humide humide humide humide humide humide humide humide\n",
      "\n",
      "english: she went to india last spring .\n",
      "french:  elle france humide humide humide humide humide humide humide humide humide humide humide humide humide humide humide humide humide humide humide\n",
      "\n",
      "english: france is usually freezing during july , but it is usually mild in winter .\n",
      "french:  france france humide humide humide humide humide humide humide humide humide humide humide humide humide humide humide humide humide humide humide\n",
      "\n",
      "english: has she been to china ?\n",
      "french:  à gèle gèle france france humide humide humide humide humide humide humide humide humide humide humide humide humide humide humide humide\n",
      "\n"
     ]
    }
   ],
   "source": [
    "print_translations(embed_rnn_model, english_sentences, tmp_x, french_tokenizer)"
   ]
  },
  {
   "cell_type": "markdown",
   "metadata": {},
   "source": [
    "### Model 3: Bidirectional RNNs (IMPLEMENTATION)\n",
    "![RNN](images/bidirectional.png)\n",
    "One restriction of a RNN is that it can't see the future input, only the past.  This is where bidirectional recurrent neural networks come in.  They are able to see the future data."
   ]
  },
  {
   "cell_type": "code",
   "execution_count": 32,
   "metadata": {},
   "outputs": [
    {
     "name": "stdout",
     "output_type": "stream",
     "text": [
      "input_shape=(137861, 21, 1)\n",
      "output_sequence_length=21\n",
      "english_vocab_size=199\n",
      "french_vocab_size=344\n",
      "switching to input size=21\n",
      "input_shape=(137861, 21)\n",
      "output_sequence_length=21\n",
      "english_vocab_size=200\n",
      "french_vocab_size=345\n",
      "switching to input size=21\n",
      "_________________________________________________________________\n",
      "Layer (type)                 Output Shape              Param #   \n",
      "=================================================================\n",
      "reshape_layer (Reshape)      (None, 21)                0         \n",
      "_________________________________________________________________\n",
      "embedding_layer (Embedding)  (None, 21, 64)            12800     \n",
      "_________________________________________________________________\n",
      "bidi_gru (Bidirectional)     (None, 21, 42)            10836     \n",
      "_________________________________________________________________\n",
      "clasification_layer (Dense)  (None, 21, 345)           14835     \n",
      "=================================================================\n",
      "Total params: 38,471\n",
      "Trainable params: 38,471\n",
      "Non-trainable params: 0\n",
      "_________________________________________________________________\n",
      "None\n"
     ]
    }
   ],
   "source": [
    "from keras.layers import Bidirectional\n",
    "from keras.layers import Reshape\n",
    "\n",
    "\n",
    "def bd_model(input_shape, output_sequence_length, english_vocab_size, french_vocab_size):\n",
    "    \"\"\"\n",
    "    Build and train a bidirectional RNN model on x and y\n",
    "    :param input_shape: Tuple of input shape\n",
    "    :param output_sequence_length: Length of output sequence\n",
    "    :param english_vocab_size: Number of unique English words in the dataset\n",
    "    :param french_vocab_size: Number of unique French words in the dataset\n",
    "    :return: Keras model built, but not trained\n",
    "    \"\"\"\n",
    "    # TODO: Implement\n",
    "    \n",
    "    print(\"input_shape={}\".format(input_shape))\n",
    "    print(\"output_sequence_length={}\".format(output_sequence_length))\n",
    "    print(\"english_vocab_size={}\".format(english_vocab_size))\n",
    "    print(\"french_vocab_size={}\".format(french_vocab_size))\n",
    "    print(\"switching to input size={}\".format(input_shape[1]))\n",
    "    dim_embedding = 64\n",
    "    \n",
    "    model=Sequential()\n",
    "    model.add(Reshape(target_shape=(input_shape[1],), input_shape= input_shape[1:], name='reshape_layer' ))\n",
    "    model.add(Embedding(input_dim=english_vocab_size, output_dim=dim_embedding, input_length=21, name='embedding_layer' ))\n",
    "    \n",
    "    model.add(Bidirectional(GRU(output_sequence_length, return_sequences=True, name='gru_layer'), name='bidi_gru', merge_mode='concat'))\n",
    "    model.add(Dense(units=french_vocab_size, activation='softmax', name='clasification_layer'))\n",
    "    \n",
    "    learning_rate = 0.2\n",
    "    model.compile(loss=sparse_categorical_crossentropy,\n",
    "                  optimizer=Adam(learning_rate),\n",
    "                  metrics=['accuracy'])\n",
    "    \n",
    "    #model.compile(optimizer='rmsprop', loss='mse')\n",
    "    # print(model.summary())\n",
    "    return model\n",
    "\n",
    "tests.test_bd_model(bd_model)\n",
    "\n",
    "# TODO: Train and Print prediction(s)\n",
    "# Reshaping the input to work with a basic RNN\n",
    "tmp_x = pad(preproc_english_sentences, preproc_french_sentences.shape[1])\n",
    "#tmp_x = tmp_x.reshape((-1, preproc_french_sentences.shape[-2], 1))\n",
    "\n",
    "# Train the neural network\n",
    "bd_rnn_model = bd_model(\n",
    "    tmp_x.shape,\n",
    "    preproc_french_sentences.shape[1],\n",
    "    len(english_tokenizer.word_index)+1,\n",
    "    len(french_tokenizer.word_index)+1)\n",
    "\n",
    "print(bd_rnn_model.summary())"
   ]
  },
  {
   "cell_type": "code",
   "execution_count": 33,
   "metadata": {},
   "outputs": [],
   "source": [
    "bd_rnn_model.load_weights('model_rnn.hdf5')"
   ]
  },
  {
   "cell_type": "code",
   "execution_count": null,
   "metadata": {},
   "outputs": [],
   "source": [
    "bd_rnn_model.fit(tmp_x, preproc_french_sentences, batch_size=1024, epochs=10, validation_split=0.2, callbacks=[create_checkpoint_callback('model_rnn.hdf5')])\n",
    "\n",
    "# Print prediction(s)\n",
    "print(logits_to_text(bd_rnn_model.predict(tmp_x[:1])[0], french_tokenizer))"
   ]
  },
  {
   "cell_type": "code",
   "execution_count": 34,
   "metadata": {},
   "outputs": [
    {
     "name": "stdout",
     "output_type": "stream",
     "text": [
      "english: new jersey is sometimes relaxing during autumn , and it is chilly in summer .\n",
      "french:  new jersey est parfois relaxant au l' et il il est en été <PAD> <PAD> <PAD> <PAD> <PAD> <PAD> <PAD> <PAD>\n",
      "\n",
      "english: it's easy to translate spanish to portuguese .\n",
      "french:  est est de de traduire juillet printemps <PAD> <PAD> <PAD> <PAD> <PAD> <PAD> <PAD> <PAD> <PAD> <PAD> <PAD> <PAD> <PAD> <PAD>\n",
      "\n",
      "english: we dislike lemons , oranges , and apples .\n",
      "french:  nous détestons les les les bananes <PAD> <PAD> <PAD> <PAD> <PAD> <PAD> <PAD> <PAD> <PAD> <PAD> <PAD> <PAD> <PAD> <PAD> <PAD>\n",
      "\n",
      "english: china is sometimes nice during may , and it is sometimes relaxing in winter .\n",
      "french:  chine est parfois agréable en mois hiver mais mais il est en hiver <PAD> <PAD> <PAD> <PAD> <PAD> <PAD> <PAD> <PAD>\n",
      "\n",
      "english: india is never pleasant during spring , but it is never mild in march .\n",
      "french:  l' inde est jamais en au mais il il jamais doux en en <PAD> <PAD> <PAD> <PAD> <PAD> <PAD> <PAD> <PAD>\n",
      "\n"
     ]
    }
   ],
   "source": [
    "print_translations(bd_rnn_model, english_sentences, tmp_x, french_tokenizer)"
   ]
  },
  {
   "cell_type": "markdown",
   "metadata": {},
   "source": [
    "### Model 4: Encoder-Decoder (OPTIONAL)\n",
    "Time to look at encoder-decoder models.  This model is made up of an encoder and decoder. The encoder creates a matrix representation of the sentence.  The decoder takes this matrix as input and predicts the translation as output.\n",
    "\n",
    "Create an encoder-decoder model in the cell below."
   ]
  },
  {
   "cell_type": "code",
   "execution_count": 35,
   "metadata": {},
   "outputs": [
    {
     "name": "stdout",
     "output_type": "stream",
     "text": [
      "input_shape=(137861, 15, 1)\n",
      "output_sequence_length=21\n",
      "english_vocab_size=199\n",
      "french_vocab_size=344\n",
      "switching to input size=15\n",
      "shape of tmp_x: (137861, 21)\n",
      "input_shape=(137861, 21)\n",
      "output_sequence_length=21\n",
      "english_vocab_size=200\n",
      "french_vocab_size=345\n",
      "switching to input size=21\n",
      "_________________________________________________________________\n",
      "Layer (type)                 Output Shape              Param #   \n",
      "=================================================================\n",
      "reshape_layer (Reshape)      (None, 21)                0         \n",
      "_________________________________________________________________\n",
      "embedding_layer (Embedding)  (None, 21, 1000)          200000    \n",
      "_________________________________________________________________\n",
      "lstm_encoder_layer (LSTM)    (None, 100)               440400    \n",
      "_________________________________________________________________\n",
      "repeat_layer (RepeatVector)  (None, 21, 100)           0         \n",
      "_________________________________________________________________\n",
      "lstm_decoder_layer (LSTM)    (None, 21, 345)           615480    \n",
      "_________________________________________________________________\n",
      "time_distributed_2 (TimeDist (None, 21, 345)           119370    \n",
      "_________________________________________________________________\n",
      "activation_2 (Activation)    (None, 21, 345)           0         \n",
      "=================================================================\n",
      "Total params: 1,375,250\n",
      "Trainable params: 1,375,250\n",
      "Non-trainable params: 0\n",
      "_________________________________________________________________\n",
      "None\n"
     ]
    }
   ],
   "source": [
    "from keras.layers import RepeatVector\n",
    "from keras.layers import LSTM\n",
    "\n",
    "def encdec_model(input_shape, output_sequence_length, english_vocab_size, french_vocab_size):\n",
    "    \"\"\"\n",
    "    Build and train an encoder-decoder model on x and y\n",
    "    :param input_shape: Tuple of input shape\n",
    "    :param output_sequence_length: Length of output sequence\n",
    "    :param english_vocab_size: Number of unique English words in the dataset\n",
    "    :param french_vocab_size: Number of unique French words in the dataset\n",
    "    :return: Keras model built, but not trained\n",
    "    \"\"\"\n",
    "    print(\"input_shape={}\".format(input_shape))\n",
    "    print(\"output_sequence_length={}\".format(output_sequence_length))\n",
    "    print(\"english_vocab_size={}\".format(english_vocab_size))\n",
    "    print(\"french_vocab_size={}\".format(french_vocab_size))\n",
    "    print(\"switching to input size={}\".format(input_shape[1]))\n",
    "    \n",
    "    # hyper-parameters\n",
    "    dim_embed = 1000\n",
    "    dim_hidden = 100\n",
    "    learning_rate = 0.1\n",
    "    \n",
    "    # OPTIONAL: Implement\n",
    "    model = Sequential()\n",
    "    \n",
    "    # build encoder network\n",
    "    model.add(Reshape(target_shape=(input_shape[1],), input_shape= input_shape[1:], name='reshape_layer' ))\n",
    "    model.add(Embedding(english_vocab_size, dim_embed, input_shape=input_shape[2:], mask_zero=True, name='embedding_layer'))\n",
    "    model.add(LSTM(dim_hidden, name='lstm_encoder_layer'))\n",
    "    model.add(RepeatVector(output_sequence_length, name='repeat_layer'))\n",
    "    \n",
    "    # decoder network\n",
    "    model.add(LSTM(french_vocab_size, return_sequences=True, name='lstm_decoder_layer'))\n",
    "    model.add(TimeDistributed(Dense(french_vocab_size, name='td_dense')))\n",
    "    model.add(Activation('softmax'))\n",
    "    \n",
    "    model.compile(loss=sparse_categorical_crossentropy,\n",
    "                  optimizer=Adam(learning_rate),\n",
    "                  metrics=['accuracy'])\n",
    "    return model\n",
    "\n",
    "\n",
    "tests.test_encdec_model(encdec_model)\n",
    "\n",
    "\n",
    "# OPTIONAL: Train and Print prediction(s)\n",
    "# Reshaping the input to work with a basic RNN\n",
    "tmp_x = pad(preproc_english_sentences, preproc_french_sentences.shape[1])\n",
    "print(\"shape of tmp_x: {}\".format(tmp_x.shape))\n",
    "#tmp_x = tmp_x.reshape((-1, preproc_french_sentences.shape[-2], 1))\n",
    "\n",
    "\n",
    "# Train the neural network\n",
    "encdec_model = encdec_model(\n",
    "    tmp_x.shape,\n",
    "    preproc_french_sentences.shape[1],\n",
    "    len(english_tokenizer.word_index)+1,\n",
    "    len(french_tokenizer.word_index)+1)\n",
    "\n",
    "print(encdec_model.summary())\n"
   ]
  },
  {
   "cell_type": "code",
   "execution_count": 42,
   "metadata": {},
   "outputs": [
    {
     "name": "stdout",
     "output_type": "stream",
     "text": [
      "different model, needs training\n"
     ]
    }
   ],
   "source": [
    "try:\n",
    "    encdec_model.load_weights('model_simple.hdf5')\n",
    "except OSError:\n",
    "    print('model needs trainig')\n",
    "except ValueError:\n",
    "    print('different model, needs training')"
   ]
  },
  {
   "cell_type": "code",
   "execution_count": 43,
   "metadata": {},
   "outputs": [
    {
     "name": "stdout",
     "output_type": "stream",
     "text": [
      "Train on 110288 samples, validate on 27573 samples\n",
      "Epoch 1/10\n",
      "109568/110288 [============================>.] - ETA: 0s - loss: 2.8471 - acc: 0.4626Epoch 00000: val_acc improved from -inf to 0.53074, saving model to model_encdec\n",
      "110288/110288 [==============================] - 44s - loss: 2.8421 - acc: 0.4631 - val_loss: 2.1083 - val_acc: 0.5307\n",
      "Epoch 2/10\n",
      "109568/110288 [============================>.] - ETA: 0s - loss: 1.9680 - acc: 0.5470Epoch 00001: val_acc improved from 0.53074 to 0.56147, saving model to model_encdec\n",
      "110288/110288 [==============================] - 43s - loss: 1.9673 - acc: 0.5471 - val_loss: 1.8810 - val_acc: 0.5615\n",
      "Epoch 3/10\n",
      "109568/110288 [============================>.] - ETA: 0s - loss: 1.7673 - acc: 0.5717Epoch 00002: val_acc improved from 0.56147 to 0.58352, saving model to model_encdec\n",
      "110288/110288 [==============================] - 43s - loss: 1.7669 - acc: 0.5718 - val_loss: 1.6937 - val_acc: 0.5835\n",
      "Epoch 4/10\n",
      "109568/110288 [============================>.] - ETA: 0s - loss: 1.6700 - acc: 0.5839Epoch 00003: val_acc improved from 0.58352 to 0.58438, saving model to model_encdec\n",
      "110288/110288 [==============================] - 43s - loss: 1.6698 - acc: 0.5839 - val_loss: 1.6433 - val_acc: 0.5844\n",
      "Epoch 5/10\n",
      "109568/110288 [============================>.] - ETA: 0s - loss: 1.6521 - acc: 0.5826Epoch 00004: val_acc did not improve\n",
      "110288/110288 [==============================] - 43s - loss: 1.6523 - acc: 0.5826 - val_loss: 1.7105 - val_acc: 0.5785\n",
      "Epoch 6/10\n",
      "109568/110288 [============================>.] - ETA: 0s - loss: 1.6940 - acc: 0.5702Epoch 00005: val_acc did not improve\n",
      "110288/110288 [==============================] - 43s - loss: 1.6938 - acc: 0.5702 - val_loss: 1.6749 - val_acc: 0.5702\n",
      "Epoch 7/10\n",
      "109568/110288 [============================>.] - ETA: 0s - loss: 1.6193 - acc: 0.5791Epoch 00006: val_acc did not improve\n",
      "110288/110288 [==============================] - 43s - loss: 1.6190 - acc: 0.5792 - val_loss: 1.6132 - val_acc: 0.5798\n",
      "Epoch 8/10\n",
      "109568/110288 [============================>.] - ETA: 0s - loss: 1.6083 - acc: 0.5786Epoch 00007: val_acc did not improve\n",
      "110288/110288 [==============================] - 43s - loss: 1.6083 - acc: 0.5785 - val_loss: 1.5920 - val_acc: 0.5826\n",
      "Epoch 9/10\n",
      "109568/110288 [============================>.] - ETA: 0s - loss: 1.5824 - acc: 0.5812Epoch 00008: val_acc did not improve\n",
      "110288/110288 [==============================] - 43s - loss: 1.5819 - acc: 0.5813 - val_loss: 1.5650 - val_acc: 0.5788\n",
      "Epoch 10/10\n",
      "109568/110288 [============================>.] - ETA: 0s - loss: 1.5314 - acc: 0.5893Epoch 00009: val_acc improved from 0.58438 to 0.59117, saving model to model_encdec\n",
      "110288/110288 [==============================] - 43s - loss: 1.5316 - acc: 0.5893 - val_loss: 1.5257 - val_acc: 0.5912\n",
      "new jersey est généralement en en et et il est en en avril avril <PAD> <PAD> <PAD> <PAD> <PAD> <PAD> <PAD>\n"
     ]
    }
   ],
   "source": [
    "\n",
    "encdec_model.fit(tmp_x, preproc_french_sentences, batch_size=1024, epochs=10, validation_split=0.2, callbacks=[create_checkpoint_callback('model_encdec')])\n",
    "\n",
    "# Print prediction(s)\n",
    "print(logits_to_text(encdec_model.predict(tmp_x[:1])[0], french_tokenizer))"
   ]
  },
  {
   "cell_type": "code",
   "execution_count": 44,
   "metadata": {},
   "outputs": [
    {
     "name": "stdout",
     "output_type": "stream",
     "text": [
      "english: the united states is usually mild during march , but it is never dry in december .\n",
      "french:  new est est généralement en en en il il est neigeux en décembre décembre <PAD> <PAD> <PAD> <PAD> <PAD> <PAD> <PAD>\n",
      "\n",
      "english: india is usually rainy during fall , but it is usually nice in august .\n",
      "french:  l' est est parfois en en en mais il généralement généralement généralement généralement août <PAD> <PAD> <PAD> <PAD> <PAD> <PAD> <PAD>\n",
      "\n",
      "english: the apple is his least favorite fruit , but the mango is their least favorite .\n",
      "french:  la pêche est son fruit préféré moins mais la fraise est son moins préféré <PAD> <PAD> <PAD> <PAD> <PAD> <PAD> <PAD>\n",
      "\n",
      "english: he drives the little green truck .\n",
      "french:  il conduit le camion camion camion <PAD> <PAD> <PAD> <PAD> <PAD> <PAD> <PAD> <PAD> <PAD> <PAD> <PAD> <PAD> <PAD> <PAD> <PAD>\n",
      "\n",
      "english: france is usually quiet during summer , and it is sometimes snowy in october .\n",
      "french:  paris est est est en en et et il est est en octobre <PAD> <PAD> <PAD> <PAD> <PAD> <PAD> <PAD> <PAD>\n",
      "\n"
     ]
    }
   ],
   "source": [
    "# test some translations\n",
    "print_translations(encdec_model, english_sentences, tmp_x, french_tokenizer)\n"
   ]
  },
  {
   "cell_type": "markdown",
   "metadata": {},
   "source": [
    "### Model 5: Custom (IMPLEMENTATION)\n",
    "Use everything you learned from the previous models to create a model that incorporates embedding and a bidirectional rnn into one model."
   ]
  },
  {
   "cell_type": "code",
   "execution_count": null,
   "metadata": {},
   "outputs": [],
   "source": [
    "from keras.models import Sequential\n",
    "from keras.layers import RepeatVector, Dense, Reshape, Embedding, TimeDistributed, Activation, Dropout\n",
    "from keras.layers import LSTM\n",
    "from keras.optimizers import Adam\n",
    "from keras.losses import sparse_categorical_crossentropy\n",
    "\n",
    "    \n",
    "def model_final(input_shape, output_sequence_length, english_vocab_size, french_vocab_size):\n",
    "    \"\"\"\n",
    "    Build and train an encoder-decoder model on x and y\n",
    "    :param input_shape: Tuple of input shape\n",
    "    :param output_sequence_length: Length of output sequence\n",
    "    :param english_vocab_size: Number of unique English words in the dataset\n",
    "    :param french_vocab_size: Number of unique French words in the dataset\n",
    "    :return: Keras model built, but not trained\n",
    "    \"\"\"\n",
    "    print(\"input_shape={}\".format(input_shape))\n",
    "    print(\"output_sequence_length={}\".format(output_sequence_length))\n",
    "    print(\"english_vocab_size={}\".format(english_vocab_size))\n",
    "    print(\"french_vocab_size={}\".format(french_vocab_size))\n",
    "    print(\"switching to input size={}\".format(input_shape[1]))\n",
    "    \n",
    "    # hyper-parameters\n",
    "    dim_embed = 100\n",
    "    dim_hidden = 100\n",
    "    learning_rate = 0.1\n",
    "    hyper_dropout = 0.25\n",
    "    \n",
    "    # OPTIONAL: Implement\n",
    "    model = Sequential()\n",
    "   \n",
    "    # build encoder network\n",
    "    #model.add(Reshape(target_shape=(input_shape[1],1), input_shape= input_shape[1:], name='reshape_layer' ))\n",
    "    model.add(Embedding(english_vocab_size, dim_embed, input_shape=input_shape[1:], mask_zero=True, name='embedding_layer'))\n",
    "    #model.add(LSTM(dim_hidden, name='lstm_encoder_layer'))\n",
    "    #model.add(RepeatVector(output_sequence_length, name='repeat_layer'))\n",
    "    #model.add(TimeDistributed(GRU(units=output_sequence_length, return_sequences=True), name='bidi_gru_encoder'))\n",
    "    \n",
    "    # decoder network\n",
    "    #model.add(LSTM(french_vocab_size, return_sequences=True, name='lstm_decoder_layer'))\n",
    "    #model.add(TimeDistributed(GRU(units=output_sequence_length, return_sequences=False)))\n",
    "    \n",
    "#     model.add(TimeDistributed(Dense(french_vocab_size, activation=\"relu\", name='td_dense'), name='td_dense_1'))\n",
    "    #model.add(Dropout(hyper_dropout))\n",
    "    #model.add(TimeDistributed(Dense(french_vocab_size, activation=\"relu\", name='td_dense'), name='td_dense_2'))\n",
    "    \n",
    "    \n",
    "#     model = Sequential()\n",
    "    out_dim = 66\n",
    "    model.add(GRU(10000, input_shape=input_shape, return_sequences=False)) # encoder\n",
    "    model.add(RepeatVector(output_sequence_length)) # Get the last output of the GRU and repeats it\n",
    "    model.add(GRU(out_dim, return_sequences=True)) # decoder\n",
    "    model.add(TimeDistributed(Dense(french_vocab_size, activation='softmax', name='activation_layer')))\n",
    "    \n",
    "    model.compile(loss=sparse_categorical_crossentropy,\n",
    "                  optimizer=Adam(learning_rate),\n",
    "                  metrics=['accuracy'])\n",
    "    print(model.summary())\n",
    "    return model\n",
    "#tests.test_model_final(model_final)\n",
    "\n",
    "\n",
    "\n",
    "print('Final Model Loaded')\n",
    "# TODO: Train neural network using model_final\n",
    "tmp_x = pad(preproc_english_sentences, preproc_english_sentences.shape[-1])\n",
    "\n",
    "# Train the neural network\n",
    "final_model = model_final(\n",
    "    tmp_x.shape,\n",
    "    preproc_french_sentences.shape[1],\n",
    "    len(english_tokenizer.word_index)+1,\n",
    "    len(french_tokenizer.word_index)+1)\n",
    "\n",
    "print(final_model.summary())\n",
    "#print(final_model.summary())"
   ]
  },
  {
   "cell_type": "code",
   "execution_count": null,
   "metadata": {},
   "outputs": [],
   "source": [
    "\n",
    "final_model.fit(tmp_x, preproc_french_sentences, batch_size=1024, epochs=10, validation_split=0.2, callbacks=[create_checkpoint_callback('model_final.hdf5')])\n",
    "\n"
   ]
  },
  {
   "cell_type": "code",
   "execution_count": 109,
   "metadata": {},
   "outputs": [
    {
     "name": "stdout",
     "output_type": "stream",
     "text": [
      "english: california is sometimes hot during august , and it is usually chilly in autumn .\n",
      "french 0:  la <PAD> <PAD> <PAD> <PAD> <PAD> <PAD> <PAD> <PAD> <PAD> <PAD> <PAD> <PAD> <PAD> <PAD> <PAD> <PAD> <PAD> <PAD> <PAD> <PAD>\n",
      "\n",
      "english: the united states is beautiful during autumn , and it is sometimes dry in july .\n",
      "french 0:  <PAD> <PAD> <PAD> <PAD> <PAD> <PAD> <PAD> <PAD> <PAD> <PAD> <PAD> <PAD> <PAD> <PAD> <PAD> <PAD> <PAD> <PAD> <PAD> <PAD> <PAD>\n",
      "\n",
      "english: india is never busy during winter , and it is sometimes nice in autumn .\n",
      "french 0:  la <PAD> <PAD> <PAD> <PAD> <PAD> <PAD> <PAD> <PAD> <PAD> <PAD> <PAD> <PAD> <PAD> <PAD> <PAD> <PAD> <PAD> <PAD> <PAD> <PAD>\n",
      "\n",
      "english: the peach is their least favorite fruit , but the pear is my least favorite .\n",
      "french 0:  <PAD> <PAD> <PAD> <PAD> <PAD> <PAD> <PAD> <PAD> <PAD> <PAD> <PAD> <PAD> <PAD> <PAD> <PAD> <PAD> <PAD> <PAD> <PAD> <PAD> <PAD>\n",
      "\n",
      "english: she dislikes pears , mangoes , and limes .\n",
      "french 0:  <PAD> <PAD> <PAD> <PAD> <PAD> <PAD> <PAD> <PAD> <PAD> <PAD> <PAD> <PAD> <PAD> <PAD> <PAD> <PAD> <PAD> <PAD> <PAD> <PAD> <PAD>\n",
      "\n"
     ]
    }
   ],
   "source": [
    "print_translations(final_model, english_sentences, tmp_x, french_tokenizer)"
   ]
  },
  {
   "cell_type": "code",
   "execution_count": null,
   "metadata": {},
   "outputs": [],
   "source": [
    "# needs\n",
    "# pip install pydot graphviz\n",
    "# sudo apt-get install graphviz\n",
    "%load_ext autoreload\n",
    "%autoreload 2\n",
    "\n",
    "%autoreload\n",
    "import pydot\n",
    "#print(pydot.find_graphviz())"
   ]
  },
  {
   "cell_type": "code",
   "execution_count": 35,
   "metadata": {},
   "outputs": [
    {
     "data": {
      "image/svg+xml": [
       "<svg height=\"556pt\" viewBox=\"0.00 0.00 416.00 556.00\" width=\"416pt\" xmlns=\"http://www.w3.org/2000/svg\" xmlns:xlink=\"http://www.w3.org/1999/xlink\">\n",
       "<g class=\"graph\" id=\"graph0\" transform=\"scale(1 1) rotate(0) translate(4 552)\">\n",
       "<title>G</title>\n",
       "<polygon fill=\"white\" points=\"-4,4 -4,-552 412,-552 412,4 -4,4\" stroke=\"none\"/>\n",
       "<!-- 140524756683184 -->\n",
       "<g class=\"node\" id=\"node1\"><title>140524756683184</title>\n",
       "<polygon fill=\"none\" points=\"78.5,-511.5 78.5,-547.5 329.5,-547.5 329.5,-511.5 78.5,-511.5\" stroke=\"black\"/>\n",
       "<text font-family=\"Times,serif\" font-size=\"14.00\" text-anchor=\"middle\" x=\"204\" y=\"-525.8\">reshape_layer_input: InputLayer</text>\n",
       "</g>\n",
       "<!-- 140524820310112 -->\n",
       "<g class=\"node\" id=\"node2\"><title>140524820310112</title>\n",
       "<polygon fill=\"none\" points=\"110.5,-438.5 110.5,-474.5 297.5,-474.5 297.5,-438.5 110.5,-438.5\" stroke=\"black\"/>\n",
       "<text font-family=\"Times,serif\" font-size=\"14.00\" text-anchor=\"middle\" x=\"204\" y=\"-452.8\">reshape_layer: Reshape</text>\n",
       "</g>\n",
       "<!-- 140524756683184&#45;&gt;140524820310112 -->\n",
       "<g class=\"edge\" id=\"edge1\"><title>140524756683184-&gt;140524820310112</title>\n",
       "<path d=\"M204,-511.313C204,-503.289 204,-493.547 204,-484.569\" fill=\"none\" stroke=\"black\"/>\n",
       "<polygon fill=\"black\" points=\"207.5,-484.529 204,-474.529 200.5,-484.529 207.5,-484.529\" stroke=\"black\"/>\n",
       "</g>\n",
       "<!-- 140524749946496 -->\n",
       "<g class=\"node\" id=\"node3\"><title>140524749946496</title>\n",
       "<polygon fill=\"none\" points=\"89,-365.5 89,-401.5 319,-401.5 319,-365.5 89,-365.5\" stroke=\"black\"/>\n",
       "<text font-family=\"Times,serif\" font-size=\"14.00\" text-anchor=\"middle\" x=\"204\" y=\"-379.8\">embedding_layer: Embedding</text>\n",
       "</g>\n",
       "<!-- 140524820310112&#45;&gt;140524749946496 -->\n",
       "<g class=\"edge\" id=\"edge2\"><title>140524820310112-&gt;140524749946496</title>\n",
       "<path d=\"M204,-438.313C204,-430.289 204,-420.547 204,-411.569\" fill=\"none\" stroke=\"black\"/>\n",
       "<polygon fill=\"black\" points=\"207.5,-411.529 204,-401.529 200.5,-411.529 207.5,-411.529\" stroke=\"black\"/>\n",
       "</g>\n",
       "<!-- 140524756683520 -->\n",
       "<g class=\"node\" id=\"node4\"><title>140524756683520</title>\n",
       "<polygon fill=\"none\" points=\"99.5,-292.5 99.5,-328.5 308.5,-328.5 308.5,-292.5 99.5,-292.5\" stroke=\"black\"/>\n",
       "<text font-family=\"Times,serif\" font-size=\"14.00\" text-anchor=\"middle\" x=\"204\" y=\"-306.8\">lstm_encoder_layer: LSTM</text>\n",
       "</g>\n",
       "<!-- 140524749946496&#45;&gt;140524756683520 -->\n",
       "<g class=\"edge\" id=\"edge3\"><title>140524749946496-&gt;140524756683520</title>\n",
       "<path d=\"M204,-365.313C204,-357.289 204,-347.547 204,-338.569\" fill=\"none\" stroke=\"black\"/>\n",
       "<polygon fill=\"black\" points=\"207.5,-338.529 204,-328.529 200.5,-338.529 207.5,-338.529\" stroke=\"black\"/>\n",
       "</g>\n",
       "<!-- 140524749804040 -->\n",
       "<g class=\"node\" id=\"node5\"><title>140524749804040</title>\n",
       "<polygon fill=\"none\" points=\"98,-219.5 98,-255.5 310,-255.5 310,-219.5 98,-219.5\" stroke=\"black\"/>\n",
       "<text font-family=\"Times,serif\" font-size=\"14.00\" text-anchor=\"middle\" x=\"204\" y=\"-233.8\">repeat_layer: RepeatVector</text>\n",
       "</g>\n",
       "<!-- 140524756683520&#45;&gt;140524749804040 -->\n",
       "<g class=\"edge\" id=\"edge4\"><title>140524756683520-&gt;140524749804040</title>\n",
       "<path d=\"M204,-292.313C204,-284.289 204,-274.547 204,-265.569\" fill=\"none\" stroke=\"black\"/>\n",
       "<polygon fill=\"black\" points=\"207.5,-265.529 204,-255.529 200.5,-265.529 207.5,-265.529\" stroke=\"black\"/>\n",
       "</g>\n",
       "<!-- 140524749804376 -->\n",
       "<g class=\"node\" id=\"node6\"><title>140524749804376</title>\n",
       "<polygon fill=\"none\" points=\"99.5,-146.5 99.5,-182.5 308.5,-182.5 308.5,-146.5 99.5,-146.5\" stroke=\"black\"/>\n",
       "<text font-family=\"Times,serif\" font-size=\"14.00\" text-anchor=\"middle\" x=\"204\" y=\"-160.8\">lstm_decoder_layer: LSTM</text>\n",
       "</g>\n",
       "<!-- 140524749804040&#45;&gt;140524749804376 -->\n",
       "<g class=\"edge\" id=\"edge5\"><title>140524749804040-&gt;140524749804376</title>\n",
       "<path d=\"M204,-219.313C204,-211.289 204,-201.547 204,-192.569\" fill=\"none\" stroke=\"black\"/>\n",
       "<polygon fill=\"black\" points=\"207.5,-192.529 204,-182.529 200.5,-192.529 207.5,-192.529\" stroke=\"black\"/>\n",
       "</g>\n",
       "<!-- 140524746275192 -->\n",
       "<g class=\"node\" id=\"node7\"><title>140524746275192</title>\n",
       "<polygon fill=\"none\" points=\"-2.84217e-14,-73.5 -2.84217e-14,-109.5 408,-109.5 408,-73.5 -2.84217e-14,-73.5\" stroke=\"black\"/>\n",
       "<text font-family=\"Times,serif\" font-size=\"14.00\" text-anchor=\"middle\" x=\"204\" y=\"-87.8\">time_distributed_6(td_dense): TimeDistributed(Dense)</text>\n",
       "</g>\n",
       "<!-- 140524749804376&#45;&gt;140524746275192 -->\n",
       "<g class=\"edge\" id=\"edge6\"><title>140524749804376-&gt;140524746275192</title>\n",
       "<path d=\"M204,-146.313C204,-138.289 204,-128.547 204,-119.569\" fill=\"none\" stroke=\"black\"/>\n",
       "<polygon fill=\"black\" points=\"207.5,-119.529 204,-109.529 200.5,-119.529 207.5,-119.529\" stroke=\"black\"/>\n",
       "</g>\n",
       "<!-- 140524746274912 -->\n",
       "<g class=\"node\" id=\"node8\"><title>140524746274912</title>\n",
       "<polygon fill=\"none\" points=\"110.5,-0.5 110.5,-36.5 297.5,-36.5 297.5,-0.5 110.5,-0.5\" stroke=\"black\"/>\n",
       "<text font-family=\"Times,serif\" font-size=\"14.00\" text-anchor=\"middle\" x=\"204\" y=\"-14.8\">activation_5: Activation</text>\n",
       "</g>\n",
       "<!-- 140524746275192&#45;&gt;140524746274912 -->\n",
       "<g class=\"edge\" id=\"edge7\"><title>140524746275192-&gt;140524746274912</title>\n",
       "<path d=\"M204,-73.3129C204,-65.2895 204,-55.5475 204,-46.5691\" fill=\"none\" stroke=\"black\"/>\n",
       "<polygon fill=\"black\" points=\"207.5,-46.5288 204,-36.5288 200.5,-46.5289 207.5,-46.5288\" stroke=\"black\"/>\n",
       "</g>\n",
       "</g>\n",
       "</svg>"
      ],
      "text/plain": [
       "<IPython.core.display.SVG object>"
      ]
     },
     "execution_count": 35,
     "metadata": {},
     "output_type": "execute_result"
    }
   ],
   "source": [
    "from IPython.display import SVG\n",
    "from keras.utils.vis_utils import model_to_dot\n",
    "\n",
    "SVG(model_to_dot(final_model).create(prog='dot', format='svg'))"
   ]
  },
  {
   "cell_type": "code",
   "execution_count": 75,
   "metadata": {},
   "outputs": [],
   "source": [
    "#import h5py\n",
    "#final_model.save_weights('model_final.hdf5')"
   ]
  },
  {
   "cell_type": "code",
   "execution_count": 57,
   "metadata": {},
   "outputs": [
    {
     "name": "stdout",
     "output_type": "stream",
     "text": [
      "(137861, 15)\n",
      "_________________________________________________________________\n",
      "Layer (type)                 Output Shape              Param #   \n",
      "=================================================================\n",
      "reshape_layer (Reshape)      (None, 15)                0         \n",
      "_________________________________________________________________\n",
      "embedding_layer (Embedding)  (None, 15, 1000)          200000    \n",
      "_________________________________________________________________\n",
      "lstm_encoder_layer (LSTM)    (None, 100)               440400    \n",
      "_________________________________________________________________\n",
      "repeat_layer (RepeatVector)  (None, 21, 100)           0         \n",
      "_________________________________________________________________\n",
      "lstm_decoder_layer (LSTM)    (None, 21, 345)           615480    \n",
      "_________________________________________________________________\n",
      "time_distributed_5 (TimeDist (None, 21, 345)           119370    \n",
      "_________________________________________________________________\n",
      "activation_5 (Activation)    (None, 21, 345)           0         \n",
      "=================================================================\n",
      "Total params: 1,375,250\n",
      "Trainable params: 1,375,250\n",
      "Non-trainable params: 0\n",
      "_________________________________________________________________\n",
      "None\n"
     ]
    }
   ],
   "source": [
    "print(preproc_english_sentences.shape)\n",
    "print(final_model.summary())"
   ]
  },
  {
   "cell_type": "markdown",
   "metadata": {},
   "source": [
    "## Prediction (IMPLEMENTATION)"
   ]
  },
  {
   "cell_type": "code",
   "execution_count": 67,
   "metadata": {},
   "outputs": [
    {
     "ename": "NameError",
     "evalue": "name 'final_model' is not defined",
     "output_type": "error",
     "traceback": [
      "\u001b[0;31m---------------------------------------------------------------------------\u001b[0m",
      "\u001b[0;31mNameError\u001b[0m                                 Traceback (most recent call last)",
      "\u001b[0;32m<ipython-input-67-91369900173a>\u001b[0m in \u001b[0;36m<module>\u001b[0;34m()\u001b[0m\n\u001b[1;32m     44\u001b[0m \u001b[0;34m\u001b[0m\u001b[0m\n\u001b[1;32m     45\u001b[0m \u001b[0;34m\u001b[0m\u001b[0m\n\u001b[0;32m---> 46\u001b[0;31m \u001b[0mfinal_predictions\u001b[0m\u001b[0;34m(\u001b[0m\u001b[0mpreproc_english_sentences\u001b[0m\u001b[0;34m,\u001b[0m \u001b[0mpreproc_french_sentences\u001b[0m\u001b[0;34m,\u001b[0m \u001b[0menglish_tokenizer\u001b[0m\u001b[0;34m,\u001b[0m \u001b[0mfrench_tokenizer\u001b[0m\u001b[0;34m)\u001b[0m\u001b[0;34m\u001b[0m\u001b[0m\n\u001b[0m",
      "\u001b[0;32m<ipython-input-67-91369900173a>\u001b[0m in \u001b[0;36mfinal_predictions\u001b[0;34m(x, y, x_tk, y_tk)\u001b[0m\n\u001b[1;32m     24\u001b[0m     \u001b[0mmodel\u001b[0m\u001b[0;34m.\u001b[0m\u001b[0mfit\u001b[0m\u001b[0;34m(\u001b[0m\u001b[0mtmp_x\u001b[0m\u001b[0;34m,\u001b[0m \u001b[0my\u001b[0m\u001b[0;34m,\u001b[0m \u001b[0mbatch_size\u001b[0m\u001b[0;34m=\u001b[0m\u001b[0;36m1024\u001b[0m\u001b[0;34m,\u001b[0m \u001b[0mepochs\u001b[0m\u001b[0;34m=\u001b[0m\u001b[0;36m10\u001b[0m\u001b[0;34m,\u001b[0m \u001b[0mvalidation_split\u001b[0m\u001b[0;34m=\u001b[0m\u001b[0;36m0.2\u001b[0m\u001b[0;34m)\u001b[0m\u001b[0;34m\u001b[0m\u001b[0m\n\u001b[1;32m     25\u001b[0m     \"\"\"\n\u001b[0;32m---> 26\u001b[0;31m     \u001b[0mmodel\u001b[0m\u001b[0;34m=\u001b[0m\u001b[0mfinal_model\u001b[0m\u001b[0;34m\u001b[0m\u001b[0m\n\u001b[0m\u001b[1;32m     27\u001b[0m \u001b[0;34m\u001b[0m\u001b[0m\n\u001b[1;32m     28\u001b[0m     \u001b[0;31m## DON'T EDIT ANYTHING BELOW THIS LINE\u001b[0m\u001b[0;34m\u001b[0m\u001b[0;34m\u001b[0m\u001b[0m\n",
      "\u001b[0;31mNameError\u001b[0m: name 'final_model' is not defined"
     ]
    }
   ],
   "source": [
    "import numpy as np\n",
    "from keras.preprocessing.sequence import pad_sequences\n",
    "\n",
    "\n",
    "def final_predictions(x, y, x_tk, y_tk):\n",
    "    \"\"\"\n",
    "    Gets predictions using the final model\n",
    "    :param x: Preprocessed English data\n",
    "    :param y: Preprocessed French data\n",
    "    :param x_tk: English tokenizer\n",
    "    :param y_tk: French tokenizer\n",
    "    \"\"\"\n",
    "    # TODO: Train neural network using model_final\n",
    "#    tmp_x = pad(x, y.shape[1])\n",
    "\n",
    "    # Train the neural network\n",
    "    \"\"\"\n",
    "    model = bd_model(\n",
    "        tmp_x.shape,\n",
    "        y.shape[1],\n",
    "        len(x_tk.word_index)+1,\n",
    "        len(y_tk.word_index)+1)\n",
    "\n",
    "    model.fit(tmp_x, y, batch_size=1024, epochs=10, validation_split=0.2)\n",
    "    \"\"\"\n",
    "    model=final_model\n",
    "    \n",
    "    ## DON'T EDIT ANYTHING BELOW THIS LINE\n",
    "    y_id_to_word = {value: key for key, value in y_tk.word_index.items()}\n",
    "    y_id_to_word[0] = '<PAD>'\n",
    "\n",
    "    sentence = 'he saw a old yellow truck'\n",
    "    sentence = [x_tk.word_index[word] for word in sentence.split()]\n",
    "    sentence = pad_sequences([sentence], maxlen=x.shape[-1], padding='post')\n",
    "    sentences = np.array([sentence[0], x[0]])\n",
    "    predictions = model.predict(sentences, len(sentences))\n",
    "\n",
    "    print('Sample 1:')\n",
    "    print(' '.join([y_id_to_word[np.argmax(x)] for x in predictions[0]]))\n",
    "    print('Il a vu un vieux camion jaune')\n",
    "    print('Sample 2:')\n",
    "    print(' '.join([y_id_to_word[np.argmax(x)] for x in predictions[1]]))\n",
    "    print(' '.join([y_id_to_word[np.argmax(x)] for x in y[0]]))\n",
    "\n",
    "\n",
    "final_predictions(preproc_english_sentences, preproc_french_sentences, english_tokenizer, french_tokenizer)"
   ]
  },
  {
   "cell_type": "markdown",
   "metadata": {},
   "source": [
    "## Submission\n",
    "When you are ready to submit your project, do the following steps:\n",
    "1. Ensure you pass all points on the [rubric](https://review.udacity.com/#!/rubrics/1004/view).\n",
    "2. Submit the following in a zip file.\n",
    "  - `helper.py`\n",
    "  - `machine_translation.ipynb`\n",
    "  - `machine_translation.html`\n",
    "    - You can export the notebook by navigating to **File -> Download as -> HTML (.html)**."
   ]
  },
  {
   "cell_type": "code",
   "execution_count": null,
   "metadata": {},
   "outputs": [],
   "source": []
  }
 ],
 "metadata": {
  "kernelspec": {
   "display_name": "Python 3",
   "language": "python",
   "name": "python3"
  },
  "language_info": {
   "codemirror_mode": {
    "name": "ipython",
    "version": 3
   },
   "file_extension": ".py",
   "mimetype": "text/x-python",
   "name": "python",
   "nbconvert_exporter": "python",
   "pygments_lexer": "ipython3",
   "version": "3.5.4"
  }
 },
 "nbformat": 4,
 "nbformat_minor": 1
}
